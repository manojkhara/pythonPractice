{
 "cells": [
  {
   "cell_type": "code",
   "execution_count": null,
   "id": "a19b0ac1",
   "metadata": {},
   "outputs": [],
   "source": [
    "# 1 = [1]\n",
    "# 2 = [1,1]\n",
    "#3 = [1,2,1]\n",
    "#4 = [1,3,3,1]\n",
    "#5 = [1,4,6,4,1]\n",
    "#6 = [1,5,10,10,5,1]\n",
    "#7 = [1,6,15,20,15,6,1]\n"
   ]
  },
  {
   "cell_type": "code",
   "execution_count": 54,
   "id": "a8462bb1",
   "metadata": {},
   "outputs": [
    {
     "name": "stdout",
     "output_type": "stream",
     "text": [
      "1 \n",
      "1 1 \n",
      "1 2 1 \n",
      "1 3 3 1 \n",
      "1 4 6 4 1 \n",
      "1 5 10 10 5 1 \n",
      "1 6 15 20 15 6 1 \n"
     ]
    }
   ],
   "source": [
    "n = 7\n",
    "table = [[0 for x in range(n)] for x in range(n)]\n",
    "for i in range(0,n):\n",
    "    for j in range(0,i+1):\n",
    "        \n",
    "        if i==j or j==0:\n",
    "            table[i][j] = 1\n",
    "            print(table[i][j], end = \" \")\n",
    "        else:\n",
    "            table[i][j] = table[i-1][j-1] + table[i-1][j]\n",
    "            print(table[i][j], end = \" \")\n",
    "    print(\"\\n\",end = \"\")"
   ]
  },
  {
   "cell_type": "code",
   "execution_count": 28,
   "id": "ea25dc7c",
   "metadata": {},
   "outputs": [
    {
     "name": "stdout",
     "output_type": "stream",
     "text": [
      "1  \n",
      "1  1  \n",
      "1  2  1  \n",
      "1  3  3  1  \n",
      "1  4  6  4  1  \n",
      "1  5  10  10  5  1  \n",
      "1  6  15  20  15  6  1  \n"
     ]
    }
   ],
   "source": [
    "# Python 3 code for Pascal's Triangle\n",
    "# A simple O(n^3)\n",
    "# program for\n",
    "# Pascal's Triangle\n",
    "\n",
    "# Function to print\n",
    "# first n lines of\n",
    "# Pascal's Triangle\n",
    "def printPascal(n) :\n",
    "\t\n",
    "\t# Iterate through every line\n",
    "\t# and print entries in it\n",
    "\tfor line in range(0, n) :\n",
    "\t\t\n",
    "\t\t# Every line has number of\n",
    "\t\t# integers equal to line\n",
    "\t\t# number\n",
    "\t\tfor i in range(0, line + 1) :\n",
    "\t\t\tprint(binomialCoeff(line, i),\n",
    "\t\t\t\t\" \", end = \"\")\n",
    "\t\tprint()\n",
    "\t\n",
    "\n",
    "# See https://www.geeksforgeeks.org/space-and-time-efficient-binomial-coefficient/\n",
    "# for details of this function\n",
    "def binomialCoeff(n, k) :\n",
    "\tres = 1\n",
    "\tif (k > n - k) :\n",
    "\t\tk = n - k\n",
    "\tfor i in range(0 , k) :\n",
    "\t\tres = res * (n - i)\n",
    "\t\tres = res // (i + 1)\n",
    "\t\n",
    "\treturn res\n",
    "\n",
    "# Driver program\n",
    "n = 7\n",
    "printPascal(n)\n",
    "\n",
    "\n",
    "# This code is contributed by Nikita Tiwari.\n"
   ]
  },
  {
   "cell_type": "code",
   "execution_count": 37,
   "id": "7d2b8250",
   "metadata": {},
   "outputs": [
    {
     "name": "stdout",
     "output_type": "stream",
     "text": [
      "6\n"
     ]
    }
   ],
   "source": [
    "def binomialCoeff(n, k) :\n",
    "    res = 1\n",
    "    if (k > n - k) :\n",
    "        k = n - k\n",
    "    for i in range(0 , k) :\n",
    "        res = res * (n - i)\n",
    "        res = res // (i + 1)\n",
    "    \n",
    "    return res\n",
    "\n",
    "print(binomialCoeff(4, 2))"
   ]
  },
  {
   "cell_type": "code",
   "execution_count": 57,
   "id": "9664a7b5",
   "metadata": {},
   "outputs": [
    {
     "name": "stdout",
     "output_type": "stream",
     "text": [
      "9 13\n"
     ]
    }
   ],
   "source": [
    "a = 13\n",
    "b = 9\n",
    "\n",
    "a = a+b  #21\n",
    "b = a-b  #13\n",
    "a = a-b  # 9\n",
    "\n",
    "print(a,b)"
   ]
  },
  {
   "cell_type": "code",
   "execution_count": 60,
   "id": "9d1d5fd5",
   "metadata": {},
   "outputs": [
    {
     "data": {
      "text/plain": [
       "11"
      ]
     },
     "execution_count": 60,
     "metadata": {},
     "output_type": "execute_result"
    }
   ],
   "source": [
    "N = 56\n",
    "sum = 0\n",
    "while N!=0:\n",
    "    sum = sum + N%10\n",
    "    N= N//10\n",
    "sum"
   ]
  },
  {
   "cell_type": "code",
   "execution_count": null,
   "id": "8795ec1c",
   "metadata": {},
   "outputs": [],
   "source": []
  }
 ],
 "metadata": {
  "kernelspec": {
   "display_name": "Python 3",
   "language": "python",
   "name": "python3"
  },
  "language_info": {
   "codemirror_mode": {
    "name": "ipython",
    "version": 3
   },
   "file_extension": ".py",
   "mimetype": "text/x-python",
   "name": "python",
   "nbconvert_exporter": "python",
   "pygments_lexer": "ipython3",
   "version": "3.8.8"
  }
 },
 "nbformat": 4,
 "nbformat_minor": 5
}
