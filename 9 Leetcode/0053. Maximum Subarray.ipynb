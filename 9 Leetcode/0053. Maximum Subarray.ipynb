{
 "cells": [
  {
   "cell_type": "code",
   "execution_count": 1,
   "id": "390b0053",
   "metadata": {},
   "outputs": [
    {
     "name": "stdout",
     "output_type": "stream",
     "text": [
      "6\n"
     ]
    }
   ],
   "source": [
    "nums = [-3,4,-1,2,1,-5,4]\n",
    "rows = len(nums)\n",
    "columns = len(nums)\n",
    "largest = max(nums)\n",
    "for i in range(rows):\n",
    "    for j in range(columns):\n",
    "        if largest < sum(nums[j:j+1+i]):\n",
    "            largest = sum(nums[j:j+1+i])\n",
    "        #print(sum(nums[j:j+1+i]))\n",
    "        \n",
    "    columns-=1\n",
    "    \n",
    "print(largest)"
   ]
  },
  {
   "cell_type": "code",
   "execution_count": 2,
   "id": "6540ea7e",
   "metadata": {},
   "outputs": [
    {
     "name": "stdout",
     "output_type": "stream",
     "text": [
      "<function maxSubArray at 0x0000021DE9A8D670>\n"
     ]
    }
   ],
   "source": [
    "def maxSubArray(nums):\n",
    "    overall_max = float('-inf')\n",
    "    max_ending_here = 0\n",
    "    \n",
    "    for num in nums:\n",
    "        if max_ending_here > 0:\n",
    "            max_ending_here +=num\n",
    "            print(\"if\",max_ending_here)\n",
    "        else:\n",
    "            max_ending_here = num\n",
    "            print(\"else\",max_ending_here)\n",
    "        overall_max = max(overall_max,max_ending_here)\n",
    "    return overall_max\n",
    "\n",
    "nums = [5,4,-1,7,8]\n",
    "print(maxSubArray)"
   ]
  },
  {
   "cell_type": "code",
   "execution_count": 3,
   "id": "6d78e6aa",
   "metadata": {},
   "outputs": [
    {
     "name": "stdout",
     "output_type": "stream",
     "text": [
      "-inf\n",
      "else -2\n",
      "overall_max -2\n",
      "else 1\n",
      "overall_max 1\n",
      "if -2\n",
      "overall_max 1\n",
      "else 4\n",
      "overall_max 4\n",
      "if 3\n",
      "overall_max 4\n",
      "if 5\n",
      "overall_max 5\n",
      "if 6\n",
      "overall_max 6\n",
      "if 1\n",
      "overall_max 6\n",
      "if 5\n",
      "overall_max 6\n",
      "6\n"
     ]
    }
   ],
   "source": [
    "#nums = [5,4,-1,7,8]\n",
    "#nums = [-1,-2,-8,5,-3]\n",
    "#nums = [2,1,-1,3]\n",
    "nums = [-2,1,-3,4,-1,2,1,-5,4]\n",
    "\n",
    "overall_max = float('-inf')\n",
    "max_ending_here = 0\n",
    "    \n",
    "for num in nums:\n",
    "    if max_ending_here > 0:\n",
    "        max_ending_here +=num\n",
    "        print(\"if\",max_ending_here)\n",
    "    else:\n",
    "        max_ending_here = num\n",
    "        print(\"else\",max_ending_here)\n",
    "    overall_max = max(overall_max,max_ending_here)\n",
    "    print(\"overall_max\",overall_max)\n",
    "    \n",
    "print(overall_max)"
   ]
  },
  {
   "cell_type": "code",
   "execution_count": 27,
   "id": "2674ed30",
   "metadata": {},
   "outputs": [
    {
     "name": "stdout",
     "output_type": "stream",
     "text": [
      "ab\n"
     ]
    }
   ],
   "source": [
    "overall_max = float('-inf')\n",
    "print(overall_max)"
   ]
  },
  {
   "cell_type": "code",
   "execution_count": 37,
   "id": "26eb8882",
   "metadata": {},
   "outputs": [
    {
     "name": "stdout",
     "output_type": "stream",
     "text": [
      "[[-3], [4], [-1], [2], [1], [-5], [4], [-3, 4], [4, -1], [-1, 2], [2, 1], [1, -5], [-5, 4], [-3, 4, -1], [4, -1, 2], [-1, 2, 1], [2, 1, -5], [1, -5, 4], [-3, 4, -1, 2], [4, -1, 2, 1], [-1, 2, 1, -5], [2, 1, -5, 4], [-3, 4, -1, 2, 1], [4, -1, 2, 1, -5], [-1, 2, 1, -5, 4], [-3, 4, -1, 2, 1, -5], [4, -1, 2, 1, -5, 4], [-3, 4, -1, 2, 1, -5, 4]]\n",
      "[-3, 4, -1, 2, 1, -5, 4, 1, 3, 1, 3, -4, -1, 0, 5, 2, -2, 0, 2, 6, -3, 2, 3, 1, 1, -2, 5, 2]\n"
     ]
    }
   ],
   "source": [
    "array = []\n",
    "array2 = []\n",
    "nums = [-3,4,-1,2,1,-5,4]  # [4-1,2,1] ==> sum = 6 \n",
    "rows = len(nums)\n",
    "columns = len(nums)\n",
    "largest = max(nums)\n",
    "for i in range(rows):\n",
    "    for j in range(columns):\n",
    "        array.append(nums[j:j+1+i])\n",
    "        array2.append(sum(nums[j:j+1+i]))\n",
    "    columns-=1\n",
    "    \n",
    "print(array)\n",
    "print(array2)"
   ]
  },
  {
   "cell_type": "code",
   "execution_count": 45,
   "id": "37fc96f0",
   "metadata": {},
   "outputs": [
    {
     "name": "stdout",
     "output_type": "stream",
     "text": [
      "2\n"
     ]
    }
   ],
   "source": [
    "nums = [-5,-4,-1,-7,2]\n",
    "\n",
    "overall_max = float('-inf')\n",
    "max_ending_here = 0\n",
    "    \n",
    "for num in nums:\n",
    "    if max_ending_here > 0:\n",
    "        max_ending_here +=num\n",
    "    else:\n",
    "        max_ending_here = num\n",
    "    overall_max = max(overall_max,max_ending_here)\n",
    "    \n",
    "print(overall_max)"
   ]
  },
  {
   "cell_type": "code",
   "execution_count": 51,
   "id": "4144ea07",
   "metadata": {},
   "outputs": [
    {
     "name": "stdout",
     "output_type": "stream",
     "text": [
      "5\n"
     ]
    }
   ],
   "source": [
    "nums = [2,1,-1,3] \n",
    "largest = max(nums)\n",
    "sums = 0\n",
    "for num in nums:\n",
    "    if sums > 0:\n",
    "        sums += num\n",
    "    \n",
    "    else:\n",
    "        sums = num\n",
    "    \n",
    "    largest = max(sums,largest)\n",
    "\n",
    "print(largest)"
   ]
  },
  {
   "cell_type": "code",
   "execution_count": null,
   "id": "1a1b609b",
   "metadata": {},
   "outputs": [],
   "source": []
  }
 ],
 "metadata": {
  "kernelspec": {
   "display_name": "Python 3",
   "language": "python",
   "name": "python3"
  },
  "language_info": {
   "codemirror_mode": {
    "name": "ipython",
    "version": 3
   },
   "file_extension": ".py",
   "mimetype": "text/x-python",
   "name": "python",
   "nbconvert_exporter": "python",
   "pygments_lexer": "ipython3",
   "version": "3.8.8"
  }
 },
 "nbformat": 4,
 "nbformat_minor": 5
}
