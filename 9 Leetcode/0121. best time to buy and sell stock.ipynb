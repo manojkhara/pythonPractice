{
 "cells": [
  {
   "cell_type": "code",
   "execution_count": 18,
   "id": "5922cfff",
   "metadata": {},
   "outputs": [
    {
     "name": "stdout",
     "output_type": "stream",
     "text": [
      "5\n"
     ]
    }
   ],
   "source": [
    "def maxProfit(prices, n):\n",
    "    buy = prices[0]\n",
    "    max_profit = 0\n",
    "    \n",
    "    for i in range(n):\n",
    "        #Checking for lower buy value\n",
    "        if prices[i] < buy :\n",
    "            buy = prices[i]\n",
    " \n",
    "        #Checking for higher profit\n",
    "        elif (prices[i] - buy > max_profit):\n",
    "            max_profit = prices[i] - buy\n",
    "    \n",
    "    return max_profit\n",
    "\n",
    "prices = [7,1,5,3,6,4]\n",
    "n = len(prices)\n",
    "print(maxProfit(prices, n))"
   ]
  },
  {
   "cell_type": "code",
   "execution_count": null,
   "id": "7f9054fb",
   "metadata": {},
   "outputs": [],
   "source": []
  }
 ],
 "metadata": {
  "kernelspec": {
   "display_name": "Python 3",
   "language": "python",
   "name": "python3"
  },
  "language_info": {
   "codemirror_mode": {
    "name": "ipython",
    "version": 3
   },
   "file_extension": ".py",
   "mimetype": "text/x-python",
   "name": "python",
   "nbconvert_exporter": "python",
   "pygments_lexer": "ipython3",
   "version": "3.8.8"
  }
 },
 "nbformat": 4,
 "nbformat_minor": 5
}
