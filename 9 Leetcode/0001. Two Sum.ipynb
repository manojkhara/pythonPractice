{
 "cells": [
  {
   "cell_type": "code",
   "execution_count": 20,
   "id": "64f55c1f",
   "metadata": {},
   "outputs": [
    {
     "name": "stdout",
     "output_type": "stream",
     "text": [
      "[1, 2]\n"
     ]
    }
   ],
   "source": [
    "nums = [3,2,4]\n",
    "nums.sort()\n",
    "target = 6\n",
    "array = []\n",
    "for i in range(len(nums)):\n",
    "    p = target - nums[i]\n",
    "    for j in range(i+1,len(nums)):\n",
    "        if p == nums[j]:\n",
    "            array.append(i)\n",
    "            array.append(j)\n",
    "print(array)"
   ]
  },
  {
   "cell_type": "code",
   "execution_count": 13,
   "id": "9dc5da45",
   "metadata": {},
   "outputs": [
    {
     "name": "stdout",
     "output_type": "stream",
     "text": [
      "[1, 2]\n"
     ]
    }
   ],
   "source": [
    "def twoSum(nums, target):\n",
    "    seen = {}\n",
    "    for i, value in enumerate(nums):\n",
    "        remaining = target - nums[i]\n",
    "           \n",
    "        if remaining in seen:\n",
    "            return [seen[remaining],i]\n",
    "            \n",
    "        seen[value] = i \n",
    "\n",
    "nums = [3,2,4,9,1,5]\n",
    "target = 6\n",
    "print(twoSum(nums, target))"
   ]
  },
  {
   "cell_type": "code",
   "execution_count": 1,
   "id": "90e5377f",
   "metadata": {},
   "outputs": [],
   "source": [
    "def twoSum(self, nums, target):\n",
    "\n",
    "    num_to_index = {}\n",
    "        \n",
    "    for i,num in enumerate(nums):\n",
    "        if target - num in num_to_index:\n",
    "            return [num_to_index[target-num],i]\n",
    "    \n",
    "        num_to_index = i\n",
    "            \n",
    "    return []"
   ]
  },
  {
   "cell_type": "code",
   "execution_count": 74,
   "id": "bf4eb47f",
   "metadata": {},
   "outputs": [
    {
     "name": "stdout",
     "output_type": "stream",
     "text": [
      "0 3\n",
      "1 2\n",
      "2 4\n",
      "3 9\n",
      "4 6\n",
      "5 5\n"
     ]
    }
   ],
   "source": [
    "nums = [3,2,4,9,6,5]\n",
    "target = 6\n",
    "\n",
    "seen = {}\n",
    "\n",
    "for i,value in enumerate(nums):\n",
    "    print(i,value)"
   ]
  },
  {
   "cell_type": "code",
   "execution_count": 82,
   "id": "1efc1226",
   "metadata": {},
   "outputs": [
    {
     "name": "stdout",
     "output_type": "stream",
     "text": [
      "{0: 3}\n",
      "{0: 3}\n",
      "{0: 3, 1: 2}\n",
      "{0: 3, 1: 2, 2: 9}\n",
      "{0: 3, 1: 2, 2: 9, 3: 1}\n",
      "{0: 3, 1: 2, 2: 9, 3: 1, 4: 1}\n"
     ]
    },
    {
     "ename": "AttributeError",
     "evalue": "'int' object has no attribute 'index'",
     "output_type": "error",
     "traceback": [
      "\u001b[1;31m---------------------------------------------------------------------------\u001b[0m",
      "\u001b[1;31mAttributeError\u001b[0m                            Traceback (most recent call last)",
      "\u001b[1;32m<ipython-input-82-1464472136ce>\u001b[0m in \u001b[0;36m<module>\u001b[1;34m\u001b[0m\n\u001b[0;32m     12\u001b[0m \u001b[0mnums\u001b[0m \u001b[1;33m=\u001b[0m \u001b[1;33m[\u001b[0m\u001b[1;36m3\u001b[0m\u001b[1;33m,\u001b[0m\u001b[1;36m2\u001b[0m\u001b[1;33m,\u001b[0m\u001b[1;36m9\u001b[0m\u001b[1;33m,\u001b[0m\u001b[1;36m1\u001b[0m\u001b[1;33m,\u001b[0m\u001b[1;36m1\u001b[0m\u001b[1;33m,\u001b[0m\u001b[1;36m4\u001b[0m\u001b[1;33m]\u001b[0m\u001b[1;33m\u001b[0m\u001b[1;33m\u001b[0m\u001b[0m\n\u001b[0;32m     13\u001b[0m \u001b[0mtarget\u001b[0m \u001b[1;33m=\u001b[0m \u001b[1;36m6\u001b[0m\u001b[1;33m\u001b[0m\u001b[1;33m\u001b[0m\u001b[0m\n\u001b[1;32m---> 14\u001b[1;33m \u001b[0mprint\u001b[0m\u001b[1;33m(\u001b[0m\u001b[0mtwoSum\u001b[0m\u001b[1;33m(\u001b[0m\u001b[0mnums\u001b[0m\u001b[1;33m,\u001b[0m \u001b[0mtarget\u001b[0m\u001b[1;33m)\u001b[0m\u001b[1;33m)\u001b[0m\u001b[1;33m\u001b[0m\u001b[1;33m\u001b[0m\u001b[0m\n\u001b[0m",
      "\u001b[1;32m<ipython-input-82-1464472136ce>\u001b[0m in \u001b[0;36mtwoSum\u001b[1;34m(nums, target)\u001b[0m\n\u001b[0;32m      6\u001b[0m         \u001b[0mprint\u001b[0m\u001b[1;33m(\u001b[0m\u001b[0mseen\u001b[0m\u001b[1;33m)\u001b[0m\u001b[1;33m\u001b[0m\u001b[1;33m\u001b[0m\u001b[0m\n\u001b[0;32m      7\u001b[0m         \u001b[1;32mif\u001b[0m \u001b[0mremaining\u001b[0m \u001b[1;32min\u001b[0m \u001b[0mseen\u001b[0m\u001b[1;33m:\u001b[0m\u001b[1;33m\u001b[0m\u001b[1;33m\u001b[0m\u001b[0m\n\u001b[1;32m----> 8\u001b[1;33m             \u001b[1;32mreturn\u001b[0m \u001b[1;33m[\u001b[0m\u001b[0mremaining\u001b[0m\u001b[1;33m.\u001b[0m\u001b[0mindex\u001b[0m\u001b[1;33m,\u001b[0m\u001b[0mi\u001b[0m\u001b[1;33m]\u001b[0m\u001b[1;33m\u001b[0m\u001b[1;33m\u001b[0m\u001b[0m\n\u001b[0m\u001b[0;32m      9\u001b[0m \u001b[1;33m\u001b[0m\u001b[0m\n\u001b[0;32m     10\u001b[0m         \u001b[0mseen\u001b[0m\u001b[1;33m[\u001b[0m\u001b[0mi\u001b[0m\u001b[1;33m]\u001b[0m \u001b[1;33m=\u001b[0m \u001b[0mvalue\u001b[0m\u001b[1;33m\u001b[0m\u001b[1;33m\u001b[0m\u001b[0m\n",
      "\u001b[1;31mAttributeError\u001b[0m: 'int' object has no attribute 'index'"
     ]
    }
   ],
   "source": [
    "def twoSum(nums, target):\n",
    "    seen = {0:3}\n",
    "    for i, value in enumerate(nums):\n",
    "        remaining = target - nums[i]\n",
    "        \n",
    "        print(seen)\n",
    "        if remaining in seen:\n",
    "            return [remaining,i]\n",
    "            \n",
    "        seen[i] = value \n",
    "\n",
    "nums = [3,2,9,1,1,4]\n",
    "target = 6\n",
    "print(twoSum(nums, target))"
   ]
  },
  {
   "cell_type": "code",
   "execution_count": 91,
   "id": "7a450fb0",
   "metadata": {},
   "outputs": [
    {
     "name": "stdout",
     "output_type": "stream",
     "text": [
      "3\n",
      "2\n",
      "1\n",
      "1\n",
      "4\n"
     ]
    }
   ],
   "source": [
    "numbers = {\n",
    "    0: 3,\n",
    "    1: 2, \n",
    "    2: 9, \n",
    "    3: 1, \n",
    "    4: 1,\n",
    "    5: 4\n",
    "}\n",
    "\n",
    "target =6\n",
    "for i in range(len(numbers)):\n",
    "    if target-numbers[i] in numbers :\n",
    "        print(numbers[i])"
   ]
  },
  {
   "cell_type": "code",
   "execution_count": null,
   "id": "eed11a2f",
   "metadata": {},
   "outputs": [],
   "source": []
  }
 ],
 "metadata": {
  "kernelspec": {
   "display_name": "Python 3",
   "language": "python",
   "name": "python3"
  },
  "language_info": {
   "codemirror_mode": {
    "name": "ipython",
    "version": 3
   },
   "file_extension": ".py",
   "mimetype": "text/x-python",
   "name": "python",
   "nbconvert_exporter": "python",
   "pygments_lexer": "ipython3",
   "version": "3.8.8"
  }
 },
 "nbformat": 4,
 "nbformat_minor": 5
}
