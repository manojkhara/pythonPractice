{
 "cells": [
  {
   "cell_type": "code",
   "execution_count": 107,
   "id": "f159949c",
   "metadata": {},
   "outputs": [],
   "source": [
    "#circular Enqueue, Dequeue method is used because after dequeing the head that index will be empty \n",
    "# but we can't add new element because it can be add at last according to normal Enqueue method \n",
    "\n",
    "class Queue:\n",
    "    def __init__(self,capacity):\n",
    "        self.storage = [None] * capacity\n",
    "        self.capacity = capacity\n",
    "        self.head = 0\n",
    "        self.tail = 0\n",
    "        self.size = 0\n",
    "    \n",
    "    def getSize(self):\n",
    "        return self.size\n",
    "        \n",
    "    def isFull(self):\n",
    "        if self.size == len(self.storage):\n",
    "            return True\n",
    "        else:\n",
    "            return False\n",
    "        \n",
    "    # circular Enqueue    \n",
    "    def Enqueue(self,data):  \n",
    "        if self.isFull():\n",
    "            raise Exception(\"Queue is Full\")\n",
    "        else:\n",
    "            self.storage[self.tail] = data\n",
    "            self.tail  =  (self.tail+1) % self.capacity\n",
    "            self.size += 1\n",
    "        \n",
    "    # circular Dequeue\n",
    "    def Dequeue(self):\n",
    "        if self.size == 0:\n",
    "            raise Exception(\"Queue is empty\")\n",
    "        else:\n",
    "            data = self.storage[self.head]\n",
    "            self.head  = (self.head + 1) % self.capacity\n",
    "            self.size -= 1\n",
    "            return data\n",
    "    \n",
    "            \n",
    "        "
   ]
  },
  {
   "cell_type": "code",
   "execution_count": 118,
   "id": "f3884dc3",
   "metadata": {},
   "outputs": [],
   "source": [
    "q1 = Queue(5)"
   ]
  },
  {
   "cell_type": "code",
   "execution_count": 119,
   "id": "f2f9e4ba",
   "metadata": {},
   "outputs": [
    {
     "name": "stdout",
     "output_type": "stream",
     "text": [
      "1\n",
      "2\n",
      "3\n",
      "4\n",
      "5\n"
     ]
    }
   ],
   "source": [
    "for i in range(5):\n",
    "    q1.Enqueue(i)\n",
    "    print(q1.getSize())\n"
   ]
  },
  {
   "cell_type": "code",
   "execution_count": 120,
   "id": "d6c3da61",
   "metadata": {},
   "outputs": [
    {
     "data": {
      "text/plain": [
       "5"
      ]
     },
     "execution_count": 120,
     "metadata": {},
     "output_type": "execute_result"
    }
   ],
   "source": [
    "q1.getSize()"
   ]
  },
  {
   "cell_type": "code",
   "execution_count": 121,
   "id": "601dc6f2",
   "metadata": {},
   "outputs": [
    {
     "data": {
      "text/plain": [
       "True"
      ]
     },
     "execution_count": 121,
     "metadata": {},
     "output_type": "execute_result"
    }
   ],
   "source": [
    "q1.isFull()"
   ]
  },
  {
   "cell_type": "code",
   "execution_count": 122,
   "id": "8802c4b5",
   "metadata": {},
   "outputs": [
    {
     "data": {
      "text/plain": [
       "0"
      ]
     },
     "execution_count": 122,
     "metadata": {},
     "output_type": "execute_result"
    }
   ],
   "source": [
    "q1.Dequeue()"
   ]
  },
  {
   "cell_type": "code",
   "execution_count": 123,
   "id": "01eefdeb",
   "metadata": {},
   "outputs": [
    {
     "data": {
      "text/plain": [
       "False"
      ]
     },
     "execution_count": 123,
     "metadata": {},
     "output_type": "execute_result"
    }
   ],
   "source": [
    "q1.isFull()"
   ]
  },
  {
   "cell_type": "code",
   "execution_count": 124,
   "id": "d62ad410",
   "metadata": {},
   "outputs": [
    {
     "data": {
      "text/plain": [
       "4"
      ]
     },
     "execution_count": 124,
     "metadata": {},
     "output_type": "execute_result"
    }
   ],
   "source": [
    "q1.getSize()"
   ]
  },
  {
   "cell_type": "code",
   "execution_count": 125,
   "id": "e391c102",
   "metadata": {},
   "outputs": [],
   "source": [
    "q1.Enqueue(7)"
   ]
  },
  {
   "cell_type": "code",
   "execution_count": 126,
   "id": "0e4e1f8b",
   "metadata": {},
   "outputs": [
    {
     "data": {
      "text/plain": [
       "True"
      ]
     },
     "execution_count": 126,
     "metadata": {},
     "output_type": "execute_result"
    }
   ],
   "source": [
    "q1.isFull()"
   ]
  },
  {
   "cell_type": "code",
   "execution_count": null,
   "id": "2e20ce94",
   "metadata": {},
   "outputs": [],
   "source": []
  }
 ],
 "metadata": {
  "kernelspec": {
   "display_name": "Python 3 (ipykernel)",
   "language": "python",
   "name": "python3"
  },
  "language_info": {
   "codemirror_mode": {
    "name": "ipython",
    "version": 3
   },
   "file_extension": ".py",
   "mimetype": "text/x-python",
   "name": "python",
   "nbconvert_exporter": "python",
   "pygments_lexer": "ipython3",
   "version": "3.9.12"
  }
 },
 "nbformat": 4,
 "nbformat_minor": 5
}
