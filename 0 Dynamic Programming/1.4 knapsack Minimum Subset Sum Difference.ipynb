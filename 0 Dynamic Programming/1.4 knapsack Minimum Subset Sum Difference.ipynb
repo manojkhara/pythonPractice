{
 "cells": [
  {
   "cell_type": "raw",
   "id": "189e56d3",
   "metadata": {},
   "source": [
    "Minimum Subset Sum Difference\n",
    "\n",
    "sum of given set = sum of all elements\n",
    "\n",
    "make all posible sums of the set\n",
    "\n",
    "sort all the sums from smallest to largest\n",
    "\n",
    "if sum of set1 = X\n",
    "then sum of set2 =  (sum of given set) - X\n",
    "\n",
    "choose set1 elements from smallest to half of the range so that sum set2 > sum set1 \n",
    "\n",
    "sum difference = sum of set2 - sum of set1\n",
    "                 =   (sum of given set) - X - X\n",
    "                 = (sum of given set) - ( 2 * X )\n",
    "                 "
   ]
  },
  {
   "cell_type": "code",
   "execution_count": 51,
   "id": "3702ff07",
   "metadata": {},
   "outputs": [
    {
     "name": "stdout",
     "output_type": "stream",
     "text": [
      "The minimum difference between two sets is  1\n"
     ]
    }
   ],
   "source": [
    "# Function to find the minimum sum Recursive Approach\n",
    " \n",
    "def findMinRec(arr, n, s1,sumTotal):\n",
    "\n",
    "    if (n == 0):\n",
    "        return abs((sumTotal - s1) - s1)\n",
    "    \n",
    "    return min(findMinRec(arr, n - 1, s1+arr[n - 1] ,sumTotal), findMinRec(arr, n-1 , s1 , sumTotal))\n",
    "\n",
    "\n",
    "def findMin(arr, n):\n",
    "    \n",
    "    sumTotal = 0\n",
    "    for i in range(n):\n",
    "        sumTotal += arr[i]\n",
    "        \n",
    "    return findMinRec(arr, n,0, sumTotal)\n",
    "\n",
    "arr = [3, 1, 4, 2, 2, 1]\n",
    "n = len(arr)\n",
    "print(\"The minimum difference \" + \"between two sets is \", findMin(arr, n))"
   ]
  },
  {
   "cell_type": "code",
   "execution_count": 53,
   "id": "6d04c1e7",
   "metadata": {},
   "outputs": [
    {
     "name": "stdout",
     "output_type": "stream",
     "text": [
      "The minimum difference between two sets is  1\n"
     ]
    }
   ],
   "source": [
    "# Function to find the minimum sum Recursive Memoized Approach\n",
    " \n",
    "def findMinRec(arr, n, s1,sumTotal):\n",
    "    \n",
    "    table = [[-1 for x in range(sumTotal+1)] for x in range(n+1)]\n",
    "\n",
    "    if (n == 0 or sumTotal==0):\n",
    "        table[n][sumTotal] = abs((sumTotal - s1) - s1) \n",
    "        return table[n][sumTotal]\n",
    "    \n",
    "    elif table[n][sumTotal] != -1:\n",
    "        return table[n][sumTotal]\n",
    "        \n",
    "    else:\n",
    "        table[n][sumTotal] = min(findMinRec(arr, n - 1, s1+arr[n - 1] ,sumTotal), findMinRec(arr, n-1 , s1 , sumTotal))\n",
    "        return table[n][sumTotal]\n",
    "\n",
    "\n",
    "def findMin(arr, n):\n",
    "    \n",
    "    sumTotal = 0\n",
    "    for i in range(n):\n",
    "        sumTotal += arr[i]\n",
    "        \n",
    "    return findMinRec(arr, n,0, sumTotal)\n",
    "\n",
    "arr = [3, 1, 4, 2, 2, 1]\n",
    "n = len(arr)\n",
    "print(\"The minimum difference \" + \"between two sets is \", findMin(arr, n))"
   ]
  },
  {
   "cell_type": "code",
   "execution_count": 58,
   "id": "e387562e",
   "metadata": {},
   "outputs": [
    {
     "name": "stdout",
     "output_type": "stream",
     "text": [
      "1\n"
     ]
    }
   ],
   "source": [
    "# Function to find the minimum sum Recursive Bottom Up Approach\n",
    " \n",
    "def findMinRec(arr, n, s1,sumTotal):\n",
    "    \n",
    "    table = [[-1 for x in range(sumTotal+1)] for x in range(n+1)]\n",
    "    \n",
    "    for i in range(n+1):\n",
    "        for j in range(1,sumTotal+1):\n",
    "            table[0][j] = abs((j - s1) - s1)\n",
    "        \n",
    "            if table[i][j] != -1:\n",
    "                return table[i][j] \n",
    "        else:\n",
    "            table[i][j] = min(findMinRec(arr, i - 1, s1+arr[i - 1] ,j), findMinRec(arr, i-1 , s1 , j))\n",
    "        \n",
    "    return table\n",
    "\n",
    "\n",
    "def findMin(arr, n):\n",
    "    \n",
    "    sumTotal = 0\n",
    "    for i in range(n):\n",
    "        sumTotal += arr[i]\n",
    "        \n",
    "    \n",
    "\n",
    "arr = [3, 1, 4, 2, 2, 1]\n",
    "n = len(arr)\n",
    "\n",
    "sumTotal = 0\n",
    "for i in range(n):\n",
    "    sumTotal += arr[i]\n",
    "print(findMinRec(arr, n,0, sumTotal))"
   ]
  },
  {
   "cell_type": "code",
   "execution_count": 41,
   "id": "ba52ee9e",
   "metadata": {},
   "outputs": [],
   "source": [
    "def subsetsumbot(set1,n,sum1):\n",
    "    \n",
    "    table = [[False for x in range(sum1+1)] for x in range(n+1)] \n",
    "    \n",
    "    for i in range(n+1):        \n",
    "        for j in range(1,sum1+1):\n",
    "            \n",
    "            #Base Case\n",
    "            \n",
    "            table[i][0] = True\n",
    "            table[0][j] = False\n",
    "            \n",
    "            if table[i][j] != False:\n",
    "                table[i][j] = table[i-1][j]\n",
    "           \n",
    "            if (set1[i-1]>j):\n",
    "                table[i][j] = table[i-1][j]\n",
    "    \n",
    "            else:\n",
    "                table[i][j] = table[i-1][j] or table[i-1][j-set1[i-1]]\n",
    "        \n",
    "    res = [x for x in range(len(table[n])) if table[n][x] == True] \n",
    "    \n",
    "    return res\n",
    "\n",
    "# Minimum Subset Sum Difference\n",
    "def MinSubsetDiff(arr,n):    \n",
    "    sum = 0\n",
    "    for num in arr:\n",
    "        sum = sum + num\n",
    "    \n",
    "    vec = subsetsumbot(arr,n,sum)\n",
    "    length = len(vec)\n",
    "    Sum_of_Set1 = []\n",
    "    \n",
    "    Sum_of_Set1 = vec[:(length+1)//2]\n",
    "    Sum_of_Set2 = []\n",
    "    for i in Sum_of_Set1:\n",
    "        Sum_of_Set2.append(sum - (2*i))\n",
    "    Sum_of_Set2.sort()    \n",
    "    return Sum_of_Set2[0]\n",
    "    \n",
    "\n",
    "arr = [1,5,11,1]\n",
    "n = len(arr)\n",
    "\n",
    "print(MinSubsetDiff(arr,n))"
   ]
  },
  {
   "cell_type": "code",
   "execution_count": 68,
   "id": "0b0d555a",
   "metadata": {},
   "outputs": [
    {
     "name": "stdout",
     "output_type": "stream",
     "text": [
      "The minimum difference between 2 sets is  1\n"
     ]
    }
   ],
   "source": [
    "# A Recursive Python3 program to solve\n",
    "# minimum sum partition problem.\n",
    "# Returns the minimum value of the\n",
    "# difference of the two sets.\n",
    "\n",
    "def findMin(a, n):\n",
    "\n",
    "    su = 0\n",
    "    # Calculate sum of all elements\n",
    "    for num in a:\n",
    "        su = su + num\n",
    "\n",
    "    # Create an 2d list to store\n",
    "    # results of subproblems\n",
    "    dp = [[0 for x in range(su + 1)] for x in range(n + 1)]\n",
    "\n",
    "    # Initialize first column as true.\n",
    "    # 0 sum is possible with all elements.\n",
    "    # Initialize top row, except dp[0][0] as false. \n",
    "    # With 0 elements, no other sum except 0 is possible\n",
    "        \n",
    "\n",
    "    # Fill the partition table in bottom up manner\n",
    "    for i in range(n + 1):\n",
    "        for j in range(1, su + 1):\n",
    "                dp[i][0] = True\n",
    "                dp[0][j] = False\n",
    "\n",
    "                # If i'th element is excluded\n",
    "                dp[i][j] = dp[i - 1][j]\n",
    "\n",
    "                # If i'th element is included\n",
    "                if a[i - 1] <= j:\n",
    "                    dp[i][j] |= dp[i - 1][j - a[i - 1]]\n",
    "\n",
    "    # Initialize difference of two sums.\n",
    "    diff = su\n",
    "\n",
    "    # Find the largest j such that dp[n][j] is true where j loops from sum/2 t0 0\n",
    "    for j in range(su // 2, -1, -1):\n",
    "        if dp[n][j] == True:\n",
    "            diff = su - (2 * j)\n",
    "            break\n",
    "\n",
    "    return diff\n",
    "\n",
    "\n",
    "# Driver code\n",
    "a = [3, 1, 4, 2, 2, 1]\n",
    "n = len(a)\n",
    "\n",
    "print(\"The minimum difference between \" \"2 sets is \", findMin(a, n))"
   ]
  },
  {
   "cell_type": "code",
   "execution_count": 72,
   "id": "8ab46857",
   "metadata": {},
   "outputs": [
    {
     "name": "stdout",
     "output_type": "stream",
     "text": [
      "10\n"
     ]
    }
   ],
   "source": [
    "kyubbi = [1,2,3,4]\n",
    "naru = sum(kyubbi)\n",
    "print(naru)"
   ]
  },
  {
   "cell_type": "code",
   "execution_count": null,
   "id": "3272fdca",
   "metadata": {},
   "outputs": [],
   "source": []
  }
 ],
 "metadata": {
  "kernelspec": {
   "display_name": "Python 3",
   "language": "python",
   "name": "python3"
  },
  "language_info": {
   "codemirror_mode": {
    "name": "ipython",
    "version": 3
   },
   "file_extension": ".py",
   "mimetype": "text/x-python",
   "name": "python",
   "nbconvert_exporter": "python",
   "pygments_lexer": "ipython3",
   "version": "3.8.8"
  }
 },
 "nbformat": 4,
 "nbformat_minor": 5
}
