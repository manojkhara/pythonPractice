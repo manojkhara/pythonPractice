{
 "cells": [
  {
   "cell_type": "raw",
   "id": "7991e10e",
   "metadata": {},
   "source": [
    "for a given list with matrix size\n",
    "\n",
    "list = [2,3,3,5,5,2]\n",
    "if all the matrices multiplied what is minimum computation required\n",
    "\n",
    "matrix1 = 2*3\n",
    "matrix2 = 3*5\n",
    "matrix3 = 5*5\n",
    "matrix4 = 5*2\n",
    "\n",
    "minimum computation of matrix1 * matrix2 * matrix3 * matrix4\n",
    "\n",
    "k=i      -->k=j-1   i to k    ,   k+1 to j\n",
    "k = i+1 ---> k=j    i to k-1  ,   k to j \n",
    "\n",
    "for i in range (j-1):\n",
    "    solve (arr,i,k)\n",
    "    solve (arr,k+1,j)\n",
    "    \n",
    "40  20  30  10   30\n",
    "0   1   2   3    4\n",
    "    i   k   k+1  j \n",
    "\n",
    "[40*20  *  20*30 ]  *  [ 30*10  *  10*30]\n",
    "\n",
    "\n",
    "step1 : Find i & j \n",
    "step2 : Base Condition -->  if single input is invalid"
   ]
  },
  {
   "cell_type": "code",
   "execution_count": 38,
   "id": "2f094243",
   "metadata": {},
   "outputs": [
    {
     "name": "stdout",
     "output_type": "stream",
     "text": [
      "24\n"
     ]
    }
   ],
   "source": [
    "import sys\n",
    "\n",
    "def mcm(arr,i,j):\n",
    "    \n",
    "    #base condition\n",
    "    \n",
    "    if i==j:\n",
    "        return 0 \n",
    "    \n",
    "    mn = sys.maxsize\n",
    "    \n",
    "    for k in range(i,j): \n",
    "        temporary = mcm(arr,i,k) + mcm(arr,k+1,j) + ( arr[i-1] * arr[k] * arr[j] )\n",
    "        \n",
    "        if temporary < mn:\n",
    "            mn = temporary\n",
    "            \n",
    "    \n",
    "    return mn\n",
    "\n",
    "#arr = [4,2,3]\n",
    "arr = [4,2,3]\n",
    "\n",
    "print(mcm(arr,1,len(arr)-1))"
   ]
  }
 ],
 "metadata": {
  "kernelspec": {
   "display_name": "Python 3 (ipykernel)",
   "language": "python",
   "name": "python3"
  },
  "language_info": {
   "codemirror_mode": {
    "name": "ipython",
    "version": 3
   },
   "file_extension": ".py",
   "mimetype": "text/x-python",
   "name": "python",
   "nbconvert_exporter": "python",
   "pygments_lexer": "ipython3",
   "version": "3.9.12"
  }
 },
 "nbformat": 4,
 "nbformat_minor": 5
}
