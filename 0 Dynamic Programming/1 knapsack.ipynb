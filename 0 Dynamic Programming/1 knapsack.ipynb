{
 "cells": [
  {
   "cell_type": "code",
   "execution_count": 8,
   "id": "0ef6db64",
   "metadata": {},
   "outputs": [
    {
     "name": "stdout",
     "output_type": "stream",
     "text": [
      "220\n"
     ]
    }
   ],
   "source": [
    "# 0-1 Knapsack Recursion method\n",
    "def getmaxvalue(n,W,w,v):\n",
    "    \n",
    "    # Base Case\n",
    "    if n==0 or W==0:\n",
    "        return  0\n",
    "     \n",
    "    # If weight of the nth item is\n",
    "    # more than Knapsack of capacity W,\n",
    "    # then this item cannot be included\n",
    "    # in the optimal solution\n",
    "    if(w[n-1]>W):\n",
    "        return getmaxvalue(n-1,W,w,v)\n",
    "    \n",
    "    # return the maximum of two cases:\n",
    "    # (1) nth item included\n",
    "    # (2) not included    \n",
    "    else:\n",
    "        return max(v[n-1] + getmaxvalue(n-1,W-w[n-1],w,v),getmaxvalue(n-1,W,w,v))\n",
    "    \n",
    "val = [60, 100, 120]\n",
    "wt = [10, 20, 30]\n",
    "W = 50\n",
    "n = len(val)\n",
    "print(getmaxvalue(n,W,wt,val))"
   ]
  },
  {
   "cell_type": "code",
   "execution_count": 4,
   "id": "28da426a",
   "metadata": {},
   "outputs": [
    {
     "name": "stdout",
     "output_type": "stream",
     "text": [
      "220\n",
      "13\n"
     ]
    }
   ],
   "source": [
    "# 0-1 Knapsack Memoized method\n",
    "count = 0\n",
    "def getmaxvalue(n,W,w,v):\n",
    "    global count\n",
    "    count+=1\n",
    "    \n",
    "    table = [[-1 for x in range(W+1)]for x in range (n+1)]\n",
    "    \n",
    "    if n==0 or W==0:\n",
    "        return  0\n",
    "    elif table[n][W] != -1:\n",
    "        return table[n][W]\n",
    "    \n",
    "    elif(w[n-1]>W):\n",
    "        table[n][W]= getmaxvalue(n-1,W,w,v)\n",
    "        return table[n][W]\n",
    "    else:\n",
    "        table[n][W] = max(v[n-1] + getmaxvalue(n-1,W-w[n-1],w,v),getmaxvalue(n-1,W,w,v))\n",
    "        return table[n][W]\n",
    "    \n",
    "val = [60, 100, 120]\n",
    "wt = [10, 20, 30]\n",
    "W = 50\n",
    "n = len(val)\n",
    "print(getmaxvalue(n,W,wt,val))\n",
    "print(count)"
   ]
  },
  {
   "cell_type": "code",
   "execution_count": 8,
   "id": "6a975b31",
   "metadata": {},
   "outputs": [
    {
     "name": "stdout",
     "output_type": "stream",
     "text": [
      "3\n"
     ]
    }
   ],
   "source": [
    "# 0-1 Knapsack Bottom to Top Approach\n",
    "#Recursive to iterative version is top down approach\n",
    "\n",
    "def knapSack(W, wt, val): \n",
    "    n=len(val)\n",
    "    table = [[0 for x in range(W + 1)] for x in range(n + 1)] \n",
    " \n",
    "    for i in range(n+1): \n",
    "        for j in range(W+1):\n",
    "            \n",
    "            if i == 0 or j==0: \n",
    "                table[i][j] = 0\n",
    "                \n",
    "            elif wt[i-1] > j:\n",
    "                table[i][j] = table[i-1][j] \n",
    "            \n",
    "            else : \n",
    "                table[i][j] = max(val[i-1] + table[i-1][j-wt[i-1]],  table[i-1][j]) \n",
    "   \n",
    "    return table[n][W]\n",
    "\n",
    "W = 4\n",
    "val = [1,2,3]\n",
    "wt = [4,5,1]\n",
    "#val = [60, 100, 120]\n",
    "#wt = [10, 20, 30]\n",
    "#W = 50 \n",
    "print(knapSack(W, wt, val))"
   ]
  },
  {
   "cell_type": "code",
   "execution_count": 9,
   "id": "f35ef9c3",
   "metadata": {},
   "outputs": [],
   "source": [
    "class KnapsackFinder:\n",
    "    def __init__(self):\n",
    "        self.memo = [[-1 for i in range(1001)] for j in range(1001)]\n",
    "    \n",
    "    def knapSack(W, wt, val, n):\n",
    "        \n",
    "        # code here\n",
    "        if n == 0 or W == 0:\n",
    "            return 0\n",
    "        if self.memo[n][W] != -1:\n",
    "            return self.memo[n][W]\n",
    "        if wt[n-1] <= W:\n",
    "            self.memo[n][W] = max(val[n-1]+knapSack(W-wt[n-1], wt, val, n-1),knapSack(W, wt, val, n-1))\n",
    "            return self.memo[n][W]\n",
    "        elif wt[n-1] > W:\n",
    "            self.memo[n][W] = knapSack(W, wt, val, n-1)\n",
    "            return self.memo[n][W]\n"
   ]
  },
  {
   "cell_type": "code",
   "execution_count": 17,
   "id": "342b6eb2",
   "metadata": {},
   "outputs": [
    {
     "name": "stdout",
     "output_type": "stream",
     "text": [
      "True\n"
     ]
    }
   ],
   "source": [
    "# Subset Sum Partition\n",
    "def subsetsum(set1,n,sum1,):\n",
    "    \n",
    "    #Base Case \n",
    "    if (sum1==0):\n",
    "        return True\n",
    "    if (n==0):\n",
    "        return False\n",
    "    \n",
    "    if (set1[n-1]>sum1):\n",
    "        return subsetsum(set1,n-1,sum1)\n",
    "    \n",
    "    return subsetsum(set1,n-1,sum1) or subsetsum(set1,n-1,sum1-set1[n-1])\n",
    "\n",
    "set1 = [1,2,3,4,5,6,7]\n",
    "sum1 = 9\n",
    "n = len(set1)    \n",
    "if subsetsum(set1,n,sum1) ==True:\n",
    "    print(\"True\")\n",
    "else:\n",
    "    print(\"False\")"
   ]
  },
  {
   "cell_type": "code",
   "execution_count": 12,
   "id": "27116f67",
   "metadata": {},
   "outputs": [
    {
     "name": "stdout",
     "output_type": "stream",
     "text": [
      "[[0, 0, 0, 0, 0], [0, 0, 0, 0, 1], [0, 0, 0, 0, 1], [0, 3, 3, 3, 3]]\n"
     ]
    }
   ],
   "source": [
    "def knapsack(W, wt, val, n):\n",
    "    tab = [[0 for x in range(W+1)] for x in range(n+1)]\n",
    "            \n",
    "    for i in range(n+1):\n",
    "        for j in range(W+1):\n",
    "                    \n",
    "            if i==0 or j==0:\n",
    "                tab[i][j] = 0\n",
    "                \n",
    "            elif tab[i][j] != 0:\n",
    "                return tab[i][j]\n",
    "                \n",
    "            elif wt[i-1] > j:\n",
    "                tab[i][j] = tab[i-1][j]\n",
    "            \n",
    "            else :\n",
    "                tab[i][j] =  max(tab[i-1][j] ,  val[i-1] + tab[i-1][j-wt[i-1]])\n",
    "                    \n",
    "    return tab\n",
    "\n",
    "\n",
    "W = 4\n",
    "val = [1,2,3]\n",
    "wt = [4,5,1]\n",
    "#val = [60, 100, 120]\n",
    "#wt = [10, 20, 30]\n",
    "#W = 50\n",
    "n = len(val)\n",
    "print(knapsack(W, wt, val, n))"
   ]
  },
  {
   "cell_type": "code",
   "execution_count": null,
   "id": "a1fbeab3",
   "metadata": {},
   "outputs": [],
   "source": [
    "def knapSack(W, wt, val): \n",
    "    n=len(val)\n",
    "    table = [[0 for x in range(W + 1)] for x in range(n + 1)] \n",
    " \n",
    "    for i in range(n+1): \n",
    "        for j in range(W+1):\n",
    "            \n",
    "            if i == 0 or j==0: \n",
    "                table[i][j] = 0\n",
    "                \n",
    "            elif wt[i-1] > j:\n",
    "                table[i][j] = table[i-1][j] \n",
    "            \n",
    "            else : \n",
    "                table[i][j] = max(val[i-1] + table[i-1][j-wt[i-1]],  table[i-1][j]) \n",
    "   \n",
    "    return table[n][W]\n"
   ]
  }
 ],
 "metadata": {
  "kernelspec": {
   "display_name": "Python 3",
   "language": "python",
   "name": "python3"
  },
  "language_info": {
   "codemirror_mode": {
    "name": "ipython",
    "version": 3
   },
   "file_extension": ".py",
   "mimetype": "text/x-python",
   "name": "python",
   "nbconvert_exporter": "python",
   "pygments_lexer": "ipython3",
   "version": "3.8.8"
  }
 },
 "nbformat": 4,
 "nbformat_minor": 5
}
