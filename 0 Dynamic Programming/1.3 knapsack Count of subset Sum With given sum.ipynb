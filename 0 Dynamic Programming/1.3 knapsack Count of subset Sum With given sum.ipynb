{
 "cells": [
  {
   "cell_type": "code",
   "execution_count": 8,
   "id": "d6e4866c",
   "metadata": {},
   "outputs": [
    {
     "name": "stdout",
     "output_type": "stream",
     "text": [
      "3\n"
     ]
    }
   ],
   "source": [
    "# knapsack Count of subset Sum With given sum Recursion\n",
    "def countsubset(n,W,wt):\n",
    "    \n",
    "    if W == 0:\n",
    "        return 1\n",
    "    \n",
    "    if n == 0:\n",
    "        return 0\n",
    "        \n",
    "    if wt[n-1]>W:\n",
    "        return countsubset(n-1,W,wt) \n",
    "    \n",
    "    else:\n",
    "        return (countsubset(n-1,W,wt) + countsubset(n-1,W-wt[n-1],wt)) \n",
    "    \n",
    "    \n",
    "wt = [1,2,3,3]\n",
    "W = 6\n",
    "n = len(wt)\n",
    "print(countsubset(n,W,wt))"
   ]
  },
  {
   "cell_type": "code",
   "execution_count": 9,
   "id": "e00cc043",
   "metadata": {},
   "outputs": [
    {
     "name": "stdout",
     "output_type": "stream",
     "text": [
      "6\n"
     ]
    }
   ],
   "source": [
    "# knapsack Count of subset Sum With given sum Memoized\n",
    "\n",
    "def countsubset(n,W,wt):\n",
    "    \n",
    "    tab = [[-1 for x in range(W+1)] for x in range(n+1)]\n",
    "    \n",
    "    if W == 0:\n",
    "        tab[n][W] = 1\n",
    "        return tab[n][W]\n",
    "\n",
    "    if n == 0:\n",
    "        tab[n][W] = 0\n",
    "        return tab[n][W]\n",
    "    \n",
    "    if tab[n][W] != -1: \n",
    "        return tab[n][W]\n",
    "\n",
    "    if wt[n-1] > W:\n",
    "        tab[n][W] = countsubset(n-1,W,wt)\n",
    "        return tab[n][W]\n",
    "    \n",
    "    else:\n",
    "        tab[n][W] = (countsubset(n-1,W,wt) + countsubset(n-1,W-wt[n-1],wt))\n",
    "        return tab[n][W]    \n",
    "    \n",
    "wt = [3,3,3,3]\n",
    "W = 6\n",
    "n = len(wt)\n",
    "print(countsubset(n,W,wt))"
   ]
  },
  {
   "cell_type": "code",
   "execution_count": 20,
   "id": "7ccb4996",
   "metadata": {},
   "outputs": [
    {
     "name": "stdout",
     "output_type": "stream",
     "text": [
      "2\n"
     ]
    }
   ],
   "source": [
    "# knapsack Count of subset Sum With given sum Bottom Up\n",
    "\n",
    "def subsetsum(n,W,wt):\n",
    "    table = [[False for x in range(W+1)] for x in range (n+1)]\n",
    "    \n",
    "    \n",
    "    for i in range(n+1):\n",
    "        for j in range(1,W+1):\n",
    "                \n",
    "            table[i][0]= 1\n",
    "            table[0][j]= 0\n",
    " \n",
    "            if wt[i-1]>j:\n",
    "                table[i][j] = table[i-1][j]\n",
    "            else:\n",
    "                table[i][j] = table[i-1][j] + table[i-1][j-wt[i-1]]\n",
    "                \n",
    "    return table[n][W]\n",
    "\n",
    "\n",
    "set1 = [1,5,7,1]\n",
    "sum1 = 6\n",
    "n = len(set1)\n",
    "print(subsetsum(n,sum1,set1))"
   ]
  },
  {
   "cell_type": "code",
   "execution_count": 11,
   "id": "9efcdd68",
   "metadata": {},
   "outputs": [
    {
     "name": "stdout",
     "output_type": "stream",
     "text": [
      "List :  [10, 20, 30, 10, 50, 10, 45, 10]\n",
      "Indices at which element 10 is present: [0, 3, 5, 7]\n"
     ]
    }
   ],
   "source": [
    "lst = [10,20,30,10,50,10,45,10] \n",
    " \n",
    "print (\"List : \" ,lst) \n",
    " \n",
    "res = [x for x in range(len(lst)) if lst[x] == 10] \n",
    " \n",
    "print (\"Indices at which element 10 is present: \" + str(res)) "
   ]
  },
  {
   "cell_type": "code",
   "execution_count": 29,
   "id": "c44e9b7a",
   "metadata": {},
   "outputs": [],
   "source": [
    "def countpairs(arr,n,k):\n",
    "    tab = [[-1 for x in range(k+1)] for x in range(n+1)]\n",
    "            \n",
    "    for i in range(n+1):\n",
    "        for j in range(1,k+1):\n",
    "            tab[i][0] = 1\n",
    "            tab[0][j] = 0\n",
    "                    \n",
    "            if arr[i-1]>j:\n",
    "                tab[i][j] =  tab[i-1][j]\n",
    "            else:\n",
    "                tab[i][j] =  tab[i-1][j-arr[i-1]] + tab[i-1][j]\n",
    "                \n",
    "    return tab[n][k]\n",
    "            "
   ]
  },
  {
   "cell_type": "code",
   "execution_count": 30,
   "id": "f00a449d",
   "metadata": {},
   "outputs": [
    {
     "data": {
      "text/plain": [
       "2"
      ]
     },
     "execution_count": 30,
     "metadata": {},
     "output_type": "execute_result"
    }
   ],
   "source": [
    "n = 4 \n",
    "k = 6\n",
    "arr = [1, 5, 7, 1]\n",
    "countpairs(arr,n,k)\n",
    "#countsubset(n,W,wt)"
   ]
  },
  {
   "cell_type": "code",
   "execution_count": 46,
   "id": "1d282975",
   "metadata": {},
   "outputs": [],
   "source": [
    "def countpairs(arr,n,k):\n",
    "    tab = [[0 for x in range(k+1)] for x in range(n+1)]\n",
    "            \n",
    "    for i in range(n+1):\n",
    "        for j in range(1,k+1):\n",
    "            tab[i][0] = 1\n",
    "            tab[0][j] = 0\n",
    "            if arr[i-1]>j:\n",
    "                tab[i][j] =  tab[i-1][j]\n",
    "            else:\n",
    "                tab[i][j] =  tab[i-1][j-arr[i-1]] + tab[i-1][j]\n",
    "                \n",
    "    return tab[n][k]\n"
   ]
  },
  {
   "cell_type": "code",
   "execution_count": 47,
   "id": "b039a45b",
   "metadata": {},
   "outputs": [
    {
     "data": {
      "text/plain": [
       "29"
      ]
     },
     "execution_count": 47,
     "metadata": {},
     "output_type": "execute_result"
    }
   ],
   "source": [
    "arr = [48,24,99,51,33,39,29,83,74,72,22,46,40,51,67,37,78,76,26,28,76,25,10,65,64,47,34,88,26,49,86,73,73,36,75,5,26,4,39,99,27,12,97,67,63,15,3,92,90]\n",
    "n = len(arr) \n",
    "k = 50\n",
    "countpairs(arr,n,k)"
   ]
  },
  {
   "cell_type": "code",
   "execution_count": 48,
   "id": "861fa73b",
   "metadata": {},
   "outputs": [
    {
     "data": {
      "text/plain": [
       "29"
      ]
     },
     "execution_count": 48,
     "metadata": {},
     "output_type": "execute_result"
    }
   ],
   "source": [
    "arr = [3, 4, 5, 10, 12, 15, 22, 24, 25, 26, 26, 26, 27, 28, 29, 33, 34, 36, 37, 39, 39, 40, 46, 47, 48, 49]\n",
    "n = len(arr) \n",
    "k = 50\n",
    "countpairs(arr,n,k)"
   ]
  },
  {
   "cell_type": "code",
   "execution_count": 49,
   "id": "e9ce22fc",
   "metadata": {},
   "outputs": [
    {
     "data": {
      "text/plain": [
       "3"
      ]
     },
     "execution_count": 49,
     "metadata": {},
     "output_type": "execute_result"
    }
   ],
   "source": [
    "arr = [2,3,5,6,8,10]\n",
    "n = len(arr) \n",
    "k = 10\n",
    "countpairs(arr,n,k)"
   ]
  },
  {
   "cell_type": "code",
   "execution_count": 51,
   "id": "f57a3388",
   "metadata": {},
   "outputs": [
    {
     "data": {
      "text/plain": [
       "7"
      ]
     },
     "execution_count": 51,
     "metadata": {},
     "output_type": "execute_result"
    }
   ],
   "source": [
    "def getPairsCount(arr, n, sum):\n",
    " \n",
    "    count = 0  # Initialize result\n",
    " \n",
    "    # Consider all possible pairs\n",
    "    # and check their sums\n",
    "    for i in range(0, n):\n",
    "        for j in range(i + 1, n):\n",
    "            if arr[i] + arr[j] == sum:\n",
    "                count += 1\n",
    " \n",
    "    return count\n",
    "\n",
    "arr = [48,24,99,51,33,39,29,83,74,72,22,46,40,51,67,37,78,76,26,28,76,25,10,65,64,47,34,88,26,49,86,73,73,36,75,5,26,4,39,99,27,12,97,67,63,15,3,92,90]\n",
    "n = len(arr) \n",
    "k = 50\n",
    "getPairsCount(arr, n, k)"
   ]
  },
  {
   "cell_type": "code",
   "execution_count": null,
   "id": "d2221d70",
   "metadata": {},
   "outputs": [],
   "source": []
  }
 ],
 "metadata": {
  "kernelspec": {
   "display_name": "Python 3",
   "language": "python",
   "name": "python3"
  },
  "language_info": {
   "codemirror_mode": {
    "name": "ipython",
    "version": 3
   },
   "file_extension": ".py",
   "mimetype": "text/x-python",
   "name": "python",
   "nbconvert_exporter": "python",
   "pygments_lexer": "ipython3",
   "version": "3.8.8"
  }
 },
 "nbformat": 4,
 "nbformat_minor": 5
}
