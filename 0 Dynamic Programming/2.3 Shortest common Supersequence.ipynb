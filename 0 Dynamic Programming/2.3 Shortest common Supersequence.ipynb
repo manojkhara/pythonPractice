{
 "cells": [
  {
   "cell_type": "code",
   "execution_count": 3,
   "id": "ea171437",
   "metadata": {},
   "outputs": [
    {
     "name": "stdout",
     "output_type": "stream",
     "text": [
      "9\n"
     ]
    }
   ],
   "source": [
    "def lcs(str1,str2,m,n):\n",
    "    if m==0 or n==0:\n",
    "        return 0 \n",
    "        \n",
    "    if str1[m-1]==str2[n-1]:\n",
    "        return 1 + lcs(str1,str2,m-1,n-1)\n",
    "        \n",
    "    else:\n",
    "        return max(lcs(str1,str2,m-1,n),lcs(str1,str2,m,n-1))\n",
    "    \n",
    "\n",
    "def ShortestCommonSupersequence(str1,str2,m,n):    \n",
    "    return len(str1+str2) - lcs(str1,str2,m,n)\n",
    "     \n",
    "str1 = [\"a\",\"b\",\"c\",\"d\",\"g\",\"h\"]\n",
    "str2 = [\"a\",\"r\",\"e\",\"b\",\"g\",\"h\",\"p\"]\n",
    "m = len(str1)\n",
    "n = len(str2)\n",
    "\n",
    "print(ShortestCommonSupersequence(str1,str2,m,n))"
   ]
  },
  {
   "cell_type": "code",
   "execution_count": 4,
   "id": "50dab841",
   "metadata": {},
   "outputs": [
    {
     "data": {
      "text/plain": [
       "['a', 'b', 'c', 'd', 'g', 'h', 'a', 'r', 'e', 'b', 'g', 'h', 'p']"
      ]
     },
     "execution_count": 4,
     "metadata": {},
     "output_type": "execute_result"
    }
   ],
   "source": [
    "str1 = [\"a\",\"b\",\"c\",\"d\",\"g\",\"h\"]\n",
    "str2 = [\"a\",\"r\",\"e\",\"b\",\"g\",\"h\",\"p\"]\n",
    "str1+str2"
   ]
  },
  {
   "cell_type": "code",
   "execution_count": null,
   "id": "614fd6b2",
   "metadata": {},
   "outputs": [],
   "source": []
  }
 ],
 "metadata": {
  "kernelspec": {
   "display_name": "Python 3",
   "language": "python",
   "name": "python3"
  },
  "language_info": {
   "codemirror_mode": {
    "name": "ipython",
    "version": 3
   },
   "file_extension": ".py",
   "mimetype": "text/x-python",
   "name": "python",
   "nbconvert_exporter": "python",
   "pygments_lexer": "ipython3",
   "version": "3.8.8"
  }
 },
 "nbformat": 4,
 "nbformat_minor": 5
}
