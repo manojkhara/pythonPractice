{
 "cells": [
  {
   "cell_type": "code",
   "execution_count": 24,
   "id": "f580cd57",
   "metadata": {},
   "outputs": [
    {
     "name": "stdout",
     "output_type": "stream",
     "text": [
      "True\n"
     ]
    }
   ],
   "source": [
    "# Equal Sum Partition Recursion\n",
    "\n",
    "def EqualSum(n,arr,sum):\n",
    "    if sum==0:\n",
    "        return True\n",
    "    if n==0:\n",
    "        return False\n",
    "    if arr[n-1]>sum:\n",
    "        return EqualSum(n-1,arr,sum)\n",
    "    else:\n",
    "        return EqualSum(n-1,arr,sum) or EqualSum(n-1,arr,sum-arr[n-1])\n",
    "\n",
    "def HavePart(arr):\n",
    "    n=len(arr)\n",
    "    sum=0\n",
    "    for i in arr:\n",
    "        sum =sum +i\n",
    "    \n",
    "    if sum%2!=0:\n",
    "        return False\n",
    "    else:\n",
    "        return EqualSum(n,arr,sum//2)\n",
    "\n",
    "arr = [1,5,5,11]\n",
    "n = len(arr)\n",
    "    \n",
    "print(HavePart(arr))\n"
   ]
  },
  {
   "cell_type": "code",
   "execution_count": 27,
   "id": "0bc93e29",
   "metadata": {},
   "outputs": [
    {
     "name": "stdout",
     "output_type": "stream",
     "text": [
      "True\n"
     ]
    }
   ],
   "source": [
    "# Equal Sum Partition Memoized\n",
    "\n",
    "def EqualSum(n,arr,sum):\n",
    "    table = [[False for x in range(sum+1)] for x in range(n+1)]\n",
    "    \n",
    "    if sum==0:\n",
    "        table[n][sum] = True\n",
    "        return table[n][sum]\n",
    "        \n",
    "    elif n==0 and sum>0:\n",
    "        table[n][sum] = False\n",
    "        return table[n][sum]\n",
    "    \n",
    "    elif table[n][sum] != False:\n",
    "        return table[n][sum]\n",
    "    \n",
    "    elif arr[n-1]>sum:\n",
    "        table[n][sum]=EqualSum(n-1,arr,sum)\n",
    "        return table[n][sum]\n",
    "    \n",
    "    else:\n",
    "        table[n][sum] = EqualSum(n-1,arr,sum) or EqualSum(n-1,arr,sum-arr[n-1])\n",
    "        return table[n][sum]\n",
    "\n",
    "def HavePart(arr):\n",
    "    n=len(arr)\n",
    "    sum=0\n",
    "    for i in arr:\n",
    "        sum =sum +i\n",
    "    \n",
    "    if sum%2!=0:\n",
    "        return False\n",
    "    else:\n",
    "        return EqualSum(n,arr,sum//2)\n",
    "\n",
    "arr = [1,5,5,11]\n",
    "n = len(arr)\n",
    "    \n",
    "print(HavePart(arr))"
   ]
  },
  {
   "cell_type": "code",
   "execution_count": 31,
   "id": "f0965e86",
   "metadata": {},
   "outputs": [
    {
     "name": "stdout",
     "output_type": "stream",
     "text": [
      "True\n"
     ]
    }
   ],
   "source": [
    "# Equal Sum Partition Bottom Up\n",
    "\n",
    "def EqualSum(n,arr,sum):\n",
    "    table = [[False for x in range(sum+1)] for x in range(n+1)]\n",
    "    \n",
    "    for i in range(n+1):\n",
    "    \n",
    "        table[i][0] = True\n",
    "        \n",
    "        for j in range(1,sum+1):\n",
    "            table[0][j] = False\n",
    "            \n",
    "            if arr[n-1]>j:\n",
    "                table[i][j]= table[i-1][j]\n",
    "            else:\n",
    "                table[i][j] = table[i-1][j] or table[i-1][j-arr[i-1]] \n",
    "    \n",
    "    return table[n][sum]\n",
    "\n",
    "def HavePart(arr):\n",
    "    n=len(arr)\n",
    "    sum=0\n",
    "    for i in arr:\n",
    "        sum =sum +i\n",
    "    \n",
    "    if sum%2!=0:\n",
    "        return False\n",
    "    else:\n",
    "        return EqualSum(n,arr,sum//2)\n",
    "\n",
    "arr = [1,5,5,11]\n",
    "n = len(arr)\n",
    "    \n",
    "print(HavePart(arr))"
   ]
  },
  {
   "cell_type": "code",
   "execution_count": 32,
   "id": "46e27c8f",
   "metadata": {},
   "outputs": [
    {
     "name": "stdout",
     "output_type": "stream",
     "text": [
      "True\n"
     ]
    }
   ],
   "source": [
    "# Equal Sum Partition Bottom Up\n",
    "\n",
    "def EqualSum(n,arr,sum):\n",
    "    table = [[False for x in range(sum+1)] for x in range(n+1)]\n",
    "    \n",
    "    for i in range(n+1):        \n",
    "        for j in range(1,sum+1):\n",
    "            \n",
    "            table[i][0] = True\n",
    "            table[0][j] = False\n",
    "            \n",
    "            if arr[n-1]>j:\n",
    "                table[i][j]= table[i-1][j]\n",
    "            else:\n",
    "                table[i][j] = table[i-1][j] or table[i-1][j-arr[i-1]] \n",
    "    \n",
    "    return table[n][sum]\n",
    "\n",
    "def HavePart(arr):\n",
    "    n=len(arr)\n",
    "    sum=0\n",
    "    for i in arr:\n",
    "        sum =sum +i\n",
    "    \n",
    "    if sum%2!=0:\n",
    "        return False\n",
    "    else:\n",
    "        return EqualSum(n,arr,sum//2)\n",
    "\n",
    "arr = [1,5,5,11]\n",
    "n = len(arr)\n",
    "    \n",
    "print(HavePart(arr))"
   ]
  },
  {
   "cell_type": "code",
   "execution_count": 3,
   "id": "2a3d6cf2",
   "metadata": {},
   "outputs": [],
   "source": [
    "nums = [1,5,5,11]\n",
    "class Solution:\n",
    "    def canPartition(self, nums):\n",
    "        if sum(nums)%2!=0:\n",
    "            return False\n",
    "        var=sum(nums)//2\n",
    "        dp=[[0]*(var+1) for i in range(len(nums))]\n",
    "        for i in range(len(nums)):\n",
    "            dp[i][0]=1\n",
    "        for i in range(var+1):\n",
    "            if i==nums[0]:\n",
    "                dp[0][i]=1\n",
    "                break\n",
    "        for i in range(1,len(nums)):\n",
    "            for  j in range(1,var+1):\n",
    "                if nums[i]<=j:\n",
    "                    dp[i][j]=dp[i-1][j]+dp[i-1][j-nums[i]]\n",
    "                else:\n",
    "                    dp[i][j]=dp[i-1][j]\n",
    "                    \n",
    "                    \n",
    "        return True if dp[len(nums)-1][var] else False\n",
    "    \n"
   ]
  },
  {
   "cell_type": "code",
   "execution_count": null,
   "id": "8354b969",
   "metadata": {},
   "outputs": [],
   "source": []
  }
 ],
 "metadata": {
  "kernelspec": {
   "display_name": "Python 3",
   "language": "python",
   "name": "python3"
  },
  "language_info": {
   "codemirror_mode": {
    "name": "ipython",
    "version": 3
   },
   "file_extension": ".py",
   "mimetype": "text/x-python",
   "name": "python",
   "nbconvert_exporter": "python",
   "pygments_lexer": "ipython3",
   "version": "3.8.8"
  }
 },
 "nbformat": 4,
 "nbformat_minor": 5
}
