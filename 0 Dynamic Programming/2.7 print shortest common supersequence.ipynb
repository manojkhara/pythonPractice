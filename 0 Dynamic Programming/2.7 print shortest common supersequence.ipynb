{
 "cells": [
  {
   "cell_type": "code",
   "execution_count": 23,
   "id": "478ad63c",
   "metadata": {},
   "outputs": [
    {
     "name": "stdout",
     "output_type": "stream",
     "text": [
      "abghp\n"
     ]
    }
   ],
   "source": [
    "def lcs(str1,str2,m,n):\n",
    "    \n",
    "    table = [[-1 for x in range(n+1)] for x in range(m+1)]\n",
    "    \n",
    "    for i in range(m+1):\n",
    "        for j in range(n+1):\n",
    "            \n",
    "            table[i][0] = 0\n",
    "            table[0][j] = 0\n",
    "        \n",
    "            if str1[i-1] == str2[j-1]:\n",
    "                table[i][j] = 1 + table[i-1][j-1]\n",
    "                \n",
    "            else:\n",
    "                table[i][j] = max(table[i-1][j],table[i][j-1])\n",
    "    \n",
    "    return table[m]\n",
    "\n",
    "#def ShortestCommonSupersequence(str1,str2,m,n):    \n",
    "#    return len(str1+str2) - lcs(str1,str2,m,n)\n",
    "#print(ShortestCommonSupersequence(str1,str2,m,n))\n",
    "\n",
    "     \n",
    "str1 = [\"a\",\"b\",\"c\",\"d\",\"g\",\"h\",\"p\"]      # output = abghp + cdre\n",
    "str2 = [\"a\",\"r\",\"e\",\"b\",\"g\",\"h\",\"p\"]\n",
    "m = len(str1)\n",
    "n = len(str2)\n",
    "\n",
    "row = lcs(str1,str2,m,n)\n",
    "str3 = \"\"\n",
    "\n",
    "for i in range(len(row)-1):\n",
    "    if row[i+1] > row[i]:\n",
    "        str3 += str2[i]\n",
    "print(str3)"
   ]
  },
  {
   "cell_type": "code",
   "execution_count": 28,
   "id": "35217133",
   "metadata": {},
   "outputs": [
    {
     "data": {
      "text/plain": [
       "['a', 'b', 'c', 'd', 'g', 'h', 'p', 'a', 'r', 'e', 'b', 'g', 'h', 'p']"
      ]
     },
     "execution_count": 28,
     "metadata": {},
     "output_type": "execute_result"
    }
   ],
   "source": [
    "str1 + str2 "
   ]
  },
  {
   "cell_type": "code",
   "execution_count": null,
   "id": "facb2607",
   "metadata": {},
   "outputs": [],
   "source": []
  }
 ],
 "metadata": {
  "kernelspec": {
   "display_name": "Python 3",
   "language": "python",
   "name": "python3"
  },
  "language_info": {
   "codemirror_mode": {
    "name": "ipython",
    "version": 3
   },
   "file_extension": ".py",
   "mimetype": "text/x-python",
   "name": "python",
   "nbconvert_exporter": "python",
   "pygments_lexer": "ipython3",
   "version": "3.8.8"
  }
 },
 "nbformat": 4,
 "nbformat_minor": 5
}
