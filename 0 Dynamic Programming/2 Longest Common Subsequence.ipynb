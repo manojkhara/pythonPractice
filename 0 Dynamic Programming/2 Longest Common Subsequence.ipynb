{
 "cells": [
  {
   "cell_type": "code",
   "execution_count": 1,
   "id": "d14c5664",
   "metadata": {},
   "outputs": [
    {
     "name": "stdout",
     "output_type": "stream",
     "text": [
      "4\n",
      "2\n"
     ]
    }
   ],
   "source": [
    "#recursive approach\n",
    "def LongestCommonSubsequence(str1,str2,m,n):\n",
    "    if m==0 or n==0:\n",
    "        return 0\n",
    "    elif str1[m-1]==str2[n-1]:\n",
    "        return 1 + LongestCommonSubsequence(str1,str2,m-1,n-1)\n",
    "    else:\n",
    "        return max(LongestCommonSubsequence(str1,str2,m-1,n), LongestCommonSubsequence(str1,str2,m,n-1))\n",
    "\n",
    "list1 = [\"a\",\"b\",\"c\",\"d\",\"e\"]\n",
    "list2 = [\"b\",\"d\",\"a\",\"f\",\"r\"]\n",
    "x = len(list1)\n",
    "y = len(list2)\n",
    "\n",
    "str1 = [\"a\",\"b\",\"c\",\"d\",\"g\",\"h\"]\n",
    "str2 = [\"a\",\"b\",\"e\",\"d\",\"f\",\"h\",\"r\"]\n",
    "m = len(str1)\n",
    "n = len(str2)\n",
    "\n",
    "print(LongestCommonSubsequence(str1,str2,m,n)) \n",
    "print(LongestCommonSubsequence(list1,list2,x,y))  "
   ]
  },
  {
   "cell_type": "code",
   "execution_count": 26,
   "id": "050efbd5",
   "metadata": {},
   "outputs": [
    {
     "name": "stdout",
     "output_type": "stream",
     "text": [
      "4\n"
     ]
    }
   ],
   "source": [
    "#Memoized approach\n",
    "def LongestCommonSubsequence(str1,str2,m,n):\n",
    "    table = [[-1 for x in range(n+1)] for x in range(m+1)]\n",
    "    \n",
    "    if m==0 or n==0:\n",
    "        table[m][n] = 0\n",
    "        return table[m][n]\n",
    "    \n",
    "    elif str1[m-1]==str2[n-1]:\n",
    "        table[m][n]  = 1 + LongestCommonSubsequence(str1,str2,m-1,n-1)\n",
    "        return table[m][n]\n",
    "    \n",
    "    else:\n",
    "        table[m][n] = max(LongestCommonSubsequence(str1,str2,m-1,n), LongestCommonSubsequence(str1,str2,m,n-1))\n",
    "        return table[m][n]\n",
    "  \n",
    "\n",
    "str1 = [\"a\",\"b\",\"c\",\"d\",\"g\",\"h\"]\n",
    "str2 = [\"a\",\"b\",\"e\",\"d\",\"f\",\"h\",\"r\"]\n",
    "m = len(str1)\n",
    "n = len(str2)\n",
    "\n",
    "print(LongestCommonSubsequence(str1,str2,m,n))  "
   ]
  },
  {
   "cell_type": "code",
   "execution_count": 5,
   "id": "198b8733",
   "metadata": {},
   "outputs": [
    {
     "name": "stdout",
     "output_type": "stream",
     "text": [
      "[[0, 0, 0, 0, 0, 0], [0, 0, 0, 1, 1, 1], [0, 1, 1, 1, 1, 1], [0, 1, 1, 1, 1, 1], [0, 1, 2, 2, 2, 2], [0, 1, 2, 2, 2, 2]]\n"
     ]
    }
   ],
   "source": [
    "#Bottom up approach\n",
    "def LongestCommonSubsequence(str1,str2,m,n):\n",
    "    table = [[-1 for x in range(n+1)] for x in range(m+1)]\n",
    "    \n",
    "    for i in range(m+1):\n",
    "        for j in range(n+1):\n",
    "            \n",
    "            if i==0 or j==0:\n",
    "                table[i][0] = 0\n",
    "                table[0][j] = 0 \n",
    "\n",
    "            if str1[i-1]==str2[j-1]:\n",
    "                table[i][j] =  1 + table[i-1][j-1] \n",
    "            else:\n",
    "                table[i][j] =  max(table[i-1][j] , table[i][j-1])\n",
    "                \n",
    "            \n",
    "    return table\n",
    "\n",
    "str1 = [\"a\",\"b\",\"c\",\"d\",\"e\"]\n",
    "str2 = [\"b\",\"d\",\"a\",\"f\",\"r\"]\n",
    "#str1 = [\"a\",\"b\",\"c\",\"d\",\"g\",\"h\"]\n",
    "#str2 = [\"a\",\"b\",\"e\",\"d\",\"f\",\"h\",\"r\"]\n",
    "m = len(str1)\n",
    "n = len(str2)\n",
    "print(LongestCommonSubsequence(str1,str2,m,n))  "
   ]
  },
  {
   "cell_type": "code",
   "execution_count": null,
   "id": "08fa4bf2",
   "metadata": {},
   "outputs": [],
   "source": []
  }
 ],
 "metadata": {
  "kernelspec": {
   "display_name": "Python 3",
   "language": "python",
   "name": "python3"
  },
  "language_info": {
   "codemirror_mode": {
    "name": "ipython",
    "version": 3
   },
   "file_extension": ".py",
   "mimetype": "text/x-python",
   "name": "python",
   "nbconvert_exporter": "python",
   "pygments_lexer": "ipython3",
   "version": "3.8.8"
  }
 },
 "nbformat": 4,
 "nbformat_minor": 5
}
