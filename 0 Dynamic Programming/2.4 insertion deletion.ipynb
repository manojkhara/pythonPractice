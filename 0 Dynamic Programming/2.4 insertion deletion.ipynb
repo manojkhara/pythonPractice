{
 "cells": [
  {
   "cell_type": "code",
   "execution_count": 19,
   "id": "860c47a3",
   "metadata": {},
   "outputs": [
    {
     "name": "stdout",
     "output_type": "stream",
     "text": [
      "('NumberOfDeletion=', 2, 'NumberOfInsertion=', 1)\n"
     ]
    }
   ],
   "source": [
    "def lcs(str1,str2,m,n):\n",
    "    if m==0 or n==0:\n",
    "        return 0\n",
    "    if str1[m-1]==str2[n-1]:\n",
    "        return lcs(str1,str2,m-1,n-1) + 1\n",
    "    else:\n",
    "        return max(lcs(str1,str2,m-1,n), lcs(str1,str2,m,n-1))\n",
    "    \n",
    "\n",
    "def InsertionDeletion(str1,str2,m,n):\n",
    "    \n",
    "    NumberOfDeletion = len(str1) - lcs(str1,str2,m,n)\n",
    "    NumberOfInsertion = len(str2) - lcs(str1,str2,m,n)\n",
    "    return (\"NumberOfDeletion=\", NumberOfDeletion,\"NumberOfInsertion=\", NumberOfInsertion)\n",
    "\n",
    "str1 = \"heap\"\n",
    "str2 = \"pea\"\n",
    "m = len(str1)\n",
    "n = len(str2)\n",
    "\n",
    "print(InsertionDeletion(str1,str2,m,n))"
   ]
  },
  {
   "cell_type": "code",
   "execution_count": 22,
   "id": "4cfe37a0",
   "metadata": {},
   "outputs": [
    {
     "ename": "SyntaxError",
     "evalue": "invalid syntax (<ipython-input-22-b7d278474391>, line 2)",
     "output_type": "error",
     "traceback": [
      "\u001b[1;36m  File \u001b[1;32m\"<ipython-input-22-b7d278474391>\"\u001b[1;36m, line \u001b[1;32m2\u001b[0m\n\u001b[1;33m    print(a.format{x})\u001b[0m\n\u001b[1;37m                  ^\u001b[0m\n\u001b[1;31mSyntaxError\u001b[0m\u001b[1;31m:\u001b[0m invalid syntax\n"
     ]
    }
   ],
   "source": [
    "x = 5\n",
    "print(a.format{x})"
   ]
  },
  {
   "cell_type": "code",
   "execution_count": null,
   "id": "e3900333",
   "metadata": {},
   "outputs": [],
   "source": []
  }
 ],
 "metadata": {
  "kernelspec": {
   "display_name": "Python 3",
   "language": "python",
   "name": "python3"
  },
  "language_info": {
   "codemirror_mode": {
    "name": "ipython",
    "version": 3
   },
   "file_extension": ".py",
   "mimetype": "text/x-python",
   "name": "python",
   "nbconvert_exporter": "python",
   "pygments_lexer": "ipython3",
   "version": "3.8.8"
  }
 },
 "nbformat": 4,
 "nbformat_minor": 5
}
