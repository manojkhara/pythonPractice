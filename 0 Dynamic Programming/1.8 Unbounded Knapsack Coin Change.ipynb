{
 "cells": [
  {
   "cell_type": "code",
   "execution_count": 40,
   "id": "d928599d",
   "metadata": {},
   "outputs": [
    {
     "name": "stdout",
     "output_type": "stream",
     "text": [
      "5\n"
     ]
    }
   ],
   "source": [
    "def CoinChange(S,W):\n",
    "    n = len(S)\n",
    "    tab= [[-1 for x in range(W+1)] for x in range(n+1)]\n",
    "    \n",
    "    for i in range(n+1):\n",
    "        for j in range(1,W+1):\n",
    "            \n",
    "            tab[i][0] = 1\n",
    "            tab[0][j] = 0\n",
    "            \n",
    "            if S[i-1]>j:\n",
    "                tab[i][j] = tab[i-1][j]\n",
    "            else:\n",
    "                tab[i][j] = tab[i-1][j] + tab[i][j-S[i-1]]\n",
    "    return tab[n][W]\n",
    "    \n",
    "S = [1,2,3]\n",
    "N = 5\n",
    "print(CoinChange(S,N))"
   ]
  },
  {
   "cell_type": "code",
   "execution_count": null,
   "id": "265e8cde",
   "metadata": {},
   "outputs": [],
   "source": []
  }
 ],
 "metadata": {
  "kernelspec": {
   "display_name": "Python 3",
   "language": "python",
   "name": "python3"
  },
  "language_info": {
   "codemirror_mode": {
    "name": "ipython",
    "version": 3
   },
   "file_extension": ".py",
   "mimetype": "text/x-python",
   "name": "python",
   "nbconvert_exporter": "python",
   "pygments_lexer": "ipython3",
   "version": "3.8.8"
  }
 },
 "nbformat": 4,
 "nbformat_minor": 5
}
