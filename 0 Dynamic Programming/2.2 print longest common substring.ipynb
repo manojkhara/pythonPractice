{
 "cells": [
  {
   "cell_type": "code",
   "execution_count": 1,
   "id": "7d8b50a5",
   "metadata": {},
   "outputs": [
    {
     "name": "stdout",
     "output_type": "stream",
     "text": [
      "abgh\n"
     ]
    }
   ],
   "source": [
    "def LongestCommonSubstring(str1,str2,m,n):\n",
    "    table = [[None for x in range(n+1)] for x in range(m+1)]\n",
    "    \n",
    "    for i in range(m+1):\n",
    "        for j in range(n+1):\n",
    "            \n",
    "            if i==0 or j==0:\n",
    "                table[i][j]=\"\"\n",
    "    \n",
    "            elif str1[i-1]==str2[j-1]:\n",
    "                table[i][j] = table[i-1][j-1] + str1[i-1] \n",
    "            else:\n",
    "                \n",
    "                if(table[i-1][j] > table[i][j-1]):\n",
    "                    table[i][j]=  table[i-1][j]\n",
    "                else:\n",
    "                    table[i][j]=  table[i][j-1]\n",
    "    \n",
    "    return table\n",
    "\n",
    "str1 = [\"a\",\"b\",\"c\",\"d\",\"g\",\"h\"]\n",
    "str2 = [\"a\",\"r\",\"e\",\"b\",\"g\",\"h\",\"p\"]\n",
    "m = len(str1)\n",
    "n = len(str2)\n",
    "# [a,b]\n",
    "matrix = LongestCommonSubstring(str1,str2,m,n)  \n",
    "\n",
    "print(matrix[len(matrix)-1][len(matrix[0])-1])\n",
    "\n",
    "#[print(*x) for x in matrix]"
   ]
  },
  {
   "cell_type": "code",
   "execution_count": 36,
   "id": "5aba73df",
   "metadata": {},
   "outputs": [
    {
     "name": "stdout",
     "output_type": "stream",
     "text": [
      "0 0 0 0 0 0 0 0\n",
      "0 1 1 1 1 1 1 1\n",
      "0 1 1 1 2 2 2 2\n",
      "0 1 1 1 2 2 2 2\n",
      "0 1 1 1 2 2 2 2\n",
      "0 1 1 1 2 3 3 3\n",
      "0 1 1 1 2 3 4 4\n",
      "6 7\n",
      "abgh\n"
     ]
    }
   ],
   "source": [
    "def LongestCommonSubstring(str1,str2,m,n):\n",
    "    table = [[None for x in range(n+1)] for x in range(m+1)]\n",
    "    \n",
    "    for i in range(m+1):\n",
    "        for j in range(n+1):\n",
    "            \n",
    "            if i==0 or j==0:\n",
    "                table[i][j]=0\n",
    "    \n",
    "            elif str1[i-1]==str2[j-1]:\n",
    "                table[i][j] = table[i-1][j-1] + 1  \n",
    "            else:\n",
    "                \n",
    "                if(table[i-1][j] > table[i][j-1]):\n",
    "                    table[i][j]=  table[i-1][j]\n",
    "                else:\n",
    "                    table[i][j]=  table[i][j-1]\n",
    "    \n",
    "    return table\n",
    "\n",
    "str1 = [\"a\",\"b\",\"c\",\"d\",\"g\",\"h\"]\n",
    "str2 = [\"a\",\"r\",\"e\",\"b\",\"g\",\"h\",\"p\"]\n",
    "\n",
    "m = len(str1)\n",
    "n = len(str2)\n",
    "# [a,b]\n",
    "matrix = LongestCommonSubstring(str1,str2,m,n) \n",
    "\n",
    "[print(*x) for x in matrix]\n",
    "\n",
    "i = len(matrix) -1\n",
    "j = len(matrix[0])-1\n",
    "\n",
    "print(i,j)\n",
    "\n",
    "str3 = \"\"\n",
    "\n",
    "while (i>0 and j>0):\n",
    "    \n",
    "    if matrix[i][j-1]== matrix[i-1][j]: #str1[i-1]==str2[j-1]:\n",
    "        str3+=str1[i-1]\n",
    "        i-=1\n",
    "        j-=1\n",
    "    else:\n",
    "        if matrix[i][j-1]> matrix[i-1][j]:\n",
    "            j-=1\n",
    "        else:\n",
    "            i-=1\n",
    "        \n",
    "print(str3[::-1])\n",
    "        \n",
    "\n",
    "\n",
    "\n",
    "#str2 = [\"a\",\"r\",\"e\",\"b\",\"g\",\"h\",\"p\"]"
   ]
  },
  {
   "cell_type": "code",
   "execution_count": 20,
   "id": "8581749f",
   "metadata": {},
   "outputs": [
    {
     "data": {
      "text/plain": [
       "'h'"
      ]
     },
     "execution_count": 20,
     "metadata": {},
     "output_type": "execute_result"
    }
   ],
   "source": [
    "str1 = [\"a\",\"b\",\"c\",\"d\",\"g\",\"h\"]\n",
    "str1[5]"
   ]
  },
  {
   "cell_type": "code",
   "execution_count": 45,
   "id": "52e3864e",
   "metadata": {},
   "outputs": [
    {
     "name": "stdout",
     "output_type": "stream",
     "text": [
      "abgh\n"
     ]
    },
    {
     "data": {
      "text/plain": [
       "'\\n#[print(*x) for x in matrix]\\n\\ni = len(matrix)-1\\nj = len(matrix[0])-1\\n\\n#print(i,j)\\n\\nstr3 = \"\"\\ncolumn = 0\\nwhile (column<j):\\n    \\n    if (matrix[i][column+1] > matrix[i][column]):\\n        str3 += str2[column]\\n    \\n    column+=1\\n         \\nprint(str3)\\n\\n#str2 = [\"a\",\"r\",\"e\",\"b\",\"g\",\"h\",\"p\"] '"
      ]
     },
     "execution_count": 45,
     "metadata": {},
     "output_type": "execute_result"
    }
   ],
   "source": [
    "def LongestCommonSubstring(str1,str2,m,n):\n",
    "    table = [[None for x in range(n+1)] for x in range(m+1)]\n",
    "    string= \"\"\n",
    "    for i in range(m+1):\n",
    "        for j in range(n+1):\n",
    "            \n",
    "            if i==0 or j==0:\n",
    "                table[i][j]=0\n",
    "    \n",
    "            elif str1[i-1]==str2[j-1]:\n",
    "                table[i][j] = table[i-1][j-1] + 1\n",
    "                string += str2[j-1]\n",
    "            else:\n",
    "                \n",
    "                if(table[i-1][j] > table[i][j-1]):\n",
    "                    table[i][j]=  table[i-1][j]\n",
    "                else:\n",
    "                    table[i][j]=  table[i][j-1]\n",
    "                    \n",
    "            \n",
    "        \n",
    "    \n",
    "    return string\n",
    "\n",
    "str1 = [\"a\",\"b\",\"c\",\"d\",\"g\",\"h\"]\n",
    "str2 = [\"a\",\"r\",\"e\",\"b\",\"g\",\"h\",\"p\"]\n",
    "\n",
    "m = len(str1)\n",
    "n = len(str2)\n",
    "# [a,b]\n",
    "matrix = LongestCommonSubstring(str1,str2,m,n) \n",
    "print(matrix)\n",
    "\"\"\"\n",
    "#[print(*x) for x in matrix]\n",
    "\n",
    "i = len(matrix)-1\n",
    "j = len(matrix[0])-1\n",
    "\n",
    "#print(i,j)\n",
    "\n",
    "str3 = \"\"\n",
    "column = 0\n",
    "while (column<j):\n",
    "    \n",
    "    if (matrix[i][column+1] > matrix[i][column]):\n",
    "        str3 += str2[column]\n",
    "    \n",
    "    column+=1\n",
    "         \n",
    "print(str3)\n",
    "\n",
    "#str2 = [\"a\",\"r\",\"e\",\"b\",\"g\",\"h\",\"p\"] \"\"\""
   ]
  },
  {
   "cell_type": "code",
   "execution_count": 52,
   "id": "583a2130",
   "metadata": {},
   "outputs": [
    {
     "name": "stdout",
     "output_type": "stream",
     "text": [
      "7\n"
     ]
    },
    {
     "ename": "TypeError",
     "evalue": "'>' not supported between instances of 'int' and 'list'",
     "output_type": "error",
     "traceback": [
      "\u001b[1;31m---------------------------------------------------------------------------\u001b[0m",
      "\u001b[1;31mTypeError\u001b[0m                                 Traceback (most recent call last)",
      "\u001b[1;32m<ipython-input-52-5668d6b28c05>\u001b[0m in \u001b[0;36m<module>\u001b[1;34m\u001b[0m\n\u001b[0;32m      4\u001b[0m     \u001b[0msum\u001b[0m \u001b[1;33m+=\u001b[0m \u001b[0mabs\u001b[0m\u001b[1;33m(\u001b[0m\u001b[0mx\u001b[0m\u001b[1;33m)\u001b[0m\u001b[1;33m\u001b[0m\u001b[1;33m\u001b[0m\u001b[0m\n\u001b[0;32m      5\u001b[0m \u001b[0mprint\u001b[0m\u001b[1;33m(\u001b[0m\u001b[0msum\u001b[0m\u001b[1;33m)\u001b[0m\u001b[1;33m\u001b[0m\u001b[1;33m\u001b[0m\u001b[0m\n\u001b[1;32m----> 6\u001b[1;33m \u001b[0mmax\u001b[0m\u001b[1;33m(\u001b[0m\u001b[0mnums\u001b[0m\u001b[1;33m,\u001b[0m\u001b[1;36m0\u001b[0m\u001b[1;33m)\u001b[0m\u001b[1;33m\u001b[0m\u001b[1;33m\u001b[0m\u001b[0m\n\u001b[0m",
      "\u001b[1;31mTypeError\u001b[0m: '>' not supported between instances of 'int' and 'list'"
     ]
    }
   ],
   "source": [
    "nums = [2,-1,-1,-3]\n",
    "sum = 0\n",
    "for x in nums:\n",
    "    sum += abs(x)\n",
    "print(sum)\n",
    "\n",
    "max(nums)"
   ]
  },
  {
   "cell_type": "code",
   "execution_count": null,
   "id": "540cb657",
   "metadata": {},
   "outputs": [],
   "source": []
  },
  {
   "cell_type": "code",
   "execution_count": 103,
   "id": "09c1cca0",
   "metadata": {},
   "outputs": [
    {
     "name": "stdout",
     "output_type": "stream",
     "text": [
      "[0, 0]\n",
      "0\n"
     ]
    }
   ],
   "source": [
    "nums = [-1,-2]  #[5,4,-1,7,8]# [-2,1,-3,4,-1,2,1,-5,4]\n",
    "\n",
    "max_length_of_subarray = len(nums) + 1\n",
    "table = [[0 for x in range(max_length_of_subarray-1)]for x in range(max_length_of_subarray-2)]\n",
    "\n",
    "for i in range(1,max_length_of_subarray-2):\n",
    "    for j in range(1,max_length_of_subarray-1):\n",
    "        sums = 0\n",
    "        for x in nums[j:i+j]:\n",
    "            sums+=x\n",
    "            table[i][j] = sums\n",
    "#print(table)\n",
    "\n",
    "[print(x) for x in table]\n",
    "print(max(map(max,table)))"
   ]
  },
  {
   "cell_type": "code",
   "execution_count": 64,
   "id": "bf590465",
   "metadata": {},
   "outputs": [
    {
     "name": "stdout",
     "output_type": "stream",
     "text": [
      "[-3, 4, -1]\n"
     ]
    }
   ],
   "source": [
    "print((nums[2:5]))\n"
   ]
  },
  {
   "cell_type": "code",
   "execution_count": null,
   "id": "d876e46f",
   "metadata": {},
   "outputs": [],
   "source": []
  }
 ],
 "metadata": {
  "kernelspec": {
   "display_name": "Python 3",
   "language": "python",
   "name": "python3"
  },
  "language_info": {
   "codemirror_mode": {
    "name": "ipython",
    "version": 3
   },
   "file_extension": ".py",
   "mimetype": "text/x-python",
   "name": "python",
   "nbconvert_exporter": "python",
   "pygments_lexer": "ipython3",
   "version": "3.8.8"
  }
 },
 "nbformat": 4,
 "nbformat_minor": 5
}
