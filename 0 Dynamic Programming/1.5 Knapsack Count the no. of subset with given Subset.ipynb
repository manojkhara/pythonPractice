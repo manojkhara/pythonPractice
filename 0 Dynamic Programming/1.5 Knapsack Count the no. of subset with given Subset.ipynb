{
 "cells": [
  {
   "cell_type": "code",
   "execution_count": 11,
   "id": "e3038f28",
   "metadata": {},
   "outputs": [
    {
     "name": "stdout",
     "output_type": "stream",
     "text": [
      "3\n"
     ]
    }
   ],
   "source": [
    "arr = [1,1,2,3]\n",
    "n = len(arr)\n",
    "diff = 1\n",
    "\n",
    "# 2+1+1-3 , (1+3)-(1+2), (1+3) - (1+2) \n",
    "\n",
    "su = 0\n",
    "for num in arr:\n",
    "    su = su + num\n",
    "    \n",
    "s1 = (diff + su)//2\n",
    "\n",
    "def countsubset(arr, n , s1):\n",
    "    table = [[-1 for x in range(s1+1)] for x in range(n+1)]\n",
    "    \n",
    "    for i in range(n+1):\n",
    "        for j in range(1,s1+1):\n",
    "            table[i][0] = 1\n",
    "            table[0][j] = 0\n",
    "        \n",
    "            if arr[i-1]>j:\n",
    "                table[i][j] = table[i-1][j]\n",
    "            else:\n",
    "                table[i][j] = table[i-1][j] + table[i-1][j-arr[i-1]]\n",
    "    return table[n][s1]       \n",
    "print(countsubset(arr, n , s1))       "
   ]
  },
  {
   "cell_type": "code",
   "execution_count": 5,
   "id": "cdd5f241",
   "metadata": {},
   "outputs": [
    {
     "ename": "TypeError",
     "evalue": "'int' object is not callable",
     "output_type": "error",
     "traceback": [
      "\u001b[1;31m---------------------------------------------------------------------------\u001b[0m",
      "\u001b[1;31mTypeError\u001b[0m                                 Traceback (most recent call last)",
      "\u001b[1;32m<ipython-input-5-03128424c018>\u001b[0m in \u001b[0;36m<module>\u001b[1;34m\u001b[0m\n\u001b[0;32m     49\u001b[0m \u001b[0mn\u001b[0m \u001b[1;33m=\u001b[0m \u001b[0mlen\u001b[0m\u001b[1;33m(\u001b[0m\u001b[0ma\u001b[0m\u001b[1;33m)\u001b[0m\u001b[1;33m\u001b[0m\u001b[1;33m\u001b[0m\u001b[0m\n\u001b[0;32m     50\u001b[0m \u001b[1;33m\u001b[0m\u001b[0m\n\u001b[1;32m---> 51\u001b[1;33m \u001b[0mprint\u001b[0m\u001b[1;33m(\u001b[0m\u001b[1;34m\"The minimum difference between \"\u001b[0m \u001b[1;34m\"2 sets is \"\u001b[0m\u001b[1;33m,\u001b[0m \u001b[0mfindMin\u001b[0m\u001b[1;33m(\u001b[0m\u001b[0ma\u001b[0m\u001b[1;33m,\u001b[0m \u001b[0mn\u001b[0m\u001b[1;33m)\u001b[0m\u001b[1;33m)\u001b[0m\u001b[1;33m\u001b[0m\u001b[1;33m\u001b[0m\u001b[0m\n\u001b[0m",
      "\u001b[1;32m<ipython-input-5-03128424c018>\u001b[0m in \u001b[0;36mfindMin\u001b[1;34m(a, n)\u001b[0m\n\u001b[0;32m      8\u001b[0m     \u001b[0msu\u001b[0m \u001b[1;33m=\u001b[0m \u001b[1;36m0\u001b[0m\u001b[1;33m\u001b[0m\u001b[1;33m\u001b[0m\u001b[0m\n\u001b[0;32m      9\u001b[0m     \u001b[1;31m# Calculate sum of all elements\u001b[0m\u001b[1;33m\u001b[0m\u001b[1;33m\u001b[0m\u001b[1;33m\u001b[0m\u001b[0m\n\u001b[1;32m---> 10\u001b[1;33m     \u001b[0msu\u001b[0m \u001b[1;33m=\u001b[0m \u001b[0msum\u001b[0m\u001b[1;33m(\u001b[0m\u001b[0ma\u001b[0m\u001b[1;33m)\u001b[0m\u001b[1;33m\u001b[0m\u001b[1;33m\u001b[0m\u001b[0m\n\u001b[0m\u001b[0;32m     11\u001b[0m \u001b[1;33m\u001b[0m\u001b[0m\n\u001b[0;32m     12\u001b[0m     \u001b[1;31m# Create an 2d list to store\u001b[0m\u001b[1;33m\u001b[0m\u001b[1;33m\u001b[0m\u001b[1;33m\u001b[0m\u001b[0m\n",
      "\u001b[1;31mTypeError\u001b[0m: 'int' object is not callable"
     ]
    }
   ],
   "source": [
    "# A Recursive Python3 program to solve\n",
    "# minimum sum partition problem.\n",
    "# Returns the minimum value of the\n",
    "# difference of the two sets.\n",
    "\n",
    "def findMin(a, n):\n",
    "\n",
    "    su = 0\n",
    "    # Calculate sum of all elements\n",
    "    su = sum(a)\n",
    "\n",
    "    # Create an 2d list to store\n",
    "    # results of subproblems\n",
    "    dp = [[0 for x in range(su + 1)] for x in range(n + 1)]\n",
    "\n",
    "    # Initialize first column as true.\n",
    "    # 0 sum is possible with all elements.\n",
    "    # Initialize top row, except dp[0][0] as false. \n",
    "    # With 0 elements, no other sum except 0 is possible\n",
    "        \n",
    "\n",
    "    # Fill the partition table in bottom up manner\n",
    "    for i in range(n + 1):\n",
    "        for j in range(1, su + 1):\n",
    "                dp[i][0] = True\n",
    "                dp[0][j] = False\n",
    "\n",
    "                # If i'th element is excluded\n",
    "                dp[i][j] = dp[i - 1][j]\n",
    "\n",
    "                # If i'th element is included\n",
    "                if a[i - 1] <= j:\n",
    "                    dp[i][j] |= dp[i - 1][j - a[i - 1]]\n",
    "\n",
    "    # Initialize difference of two sums.\n",
    "    diff = su\n",
    "\n",
    "    # Find the largest j such that dp[n][j] is true where j loops from sum/2 t0 0\n",
    "    for j in range(su // 2, -1, -1):\n",
    "        if dp[n][j] == True:\n",
    "            diff = su - (2 * j)\n",
    "            break\n",
    "\n",
    "    return diff\n",
    "\n",
    "\n",
    "# Driver code\n",
    "a = [3, 1, 4, 2, 2, 1]\n",
    "n = len(a)\n",
    "\n",
    "print(\"The minimum difference between \" \"2 sets is \", findMin(a, n))"
   ]
  },
  {
   "cell_type": "code",
   "execution_count": null,
   "id": "89f90640",
   "metadata": {},
   "outputs": [],
   "source": []
  }
 ],
 "metadata": {
  "kernelspec": {
   "display_name": "Python 3",
   "language": "python",
   "name": "python3"
  },
  "language_info": {
   "codemirror_mode": {
    "name": "ipython",
    "version": 3
   },
   "file_extension": ".py",
   "mimetype": "text/x-python",
   "name": "python",
   "nbconvert_exporter": "python",
   "pygments_lexer": "ipython3",
   "version": "3.8.8"
  }
 },
 "nbformat": 4,
 "nbformat_minor": 5
}
