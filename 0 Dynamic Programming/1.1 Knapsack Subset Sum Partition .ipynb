{
 "cells": [
  {
   "cell_type": "code",
   "execution_count": 60,
   "id": "c5f421d0",
   "metadata": {},
   "outputs": [
    {
     "name": "stdout",
     "output_type": "stream",
     "text": [
      "False\n"
     ]
    }
   ],
   "source": [
    "# Subset Sum Partition\n",
    "def subsetsum(set1,n,sum1):\n",
    "    \n",
    "    #Base Case \n",
    "    if (sum1==0):\n",
    "        return True    \n",
    "    if (n==0):\n",
    "        return False\n",
    "    if (set1[n-1]>sum1):\n",
    "        return subsetsum(set1,n-1,sum1)\n",
    "    \n",
    "    return subsetsum(set1,n-1,sum1) or subsetsum(set1,n-1, sum1-set1[n-1])\n",
    "\n",
    "set1 = [3, 34, 4, 12, 5, 2]\n",
    "sum1 = 30\n",
    "n = len(set1)    \n",
    "\n",
    "print(subsetsum(set1,n,sum1))"
   ]
  },
  {
   "cell_type": "code",
   "execution_count": 62,
   "id": "0e390297",
   "metadata": {},
   "outputs": [
    {
     "name": "stdout",
     "output_type": "stream",
     "text": [
      "False\n"
     ]
    }
   ],
   "source": [
    "# Subset Sum Partition Memoized\n",
    "def subsetsum(set1,n,sum1):\n",
    "    \n",
    "    table = [[None for x in range(sum1+1)] for x in range(n+1)]\n",
    "    \n",
    "    #Base Case\n",
    "    if (sum1==0):\n",
    "        return True\n",
    "\n",
    "    if (n==0 and sum1>0):\n",
    "        return False\n",
    "        \n",
    "    if table[n][sum1] != None:\n",
    "        return table[n][sum1]\n",
    "    \n",
    "    if (set1[n-1]>sum1):\n",
    "        table[n][sum1] = subsetsum(set1,n-1,sum1)\n",
    "        return table[n][sum1]\n",
    "    \n",
    "    else:\n",
    "        table[n][sum1] = subsetsum(set1,n-1,sum1) or subsetsum(set1,n-1, sum1-set1[n-1])\n",
    "        return table[n][sum1]\n",
    "\n",
    "set1 = [3, 34, 4, 12, 5, 2]\n",
    "sum1 = 30\n",
    "n = len(set1)    \n",
    "print(subsetsum(set1,n,sum1))"
   ]
  },
  {
   "cell_type": "code",
   "execution_count": 16,
   "id": "5cf04d16",
   "metadata": {},
   "outputs": [
    {
     "name": "stdout",
     "output_type": "stream",
     "text": [
      "True\n"
     ]
    }
   ],
   "source": [
    "# Subset Sum Partition Bottom Up\n",
    "\n",
    "def subsetsumbot(set1,n,sum1):\n",
    "    \n",
    "    table = [[False for x in range(sum1+1)] for x in range(n+1)]\n",
    "    \n",
    "    #Base Case\n",
    "    \n",
    "    for i in range(n+1):\n",
    "        for j in range(1,sum1+1): \n",
    "            table[i][0] = True\n",
    "            table[0][j] = False  \n",
    "            \n",
    "            if table[i][j] != False:\n",
    "                    table[i][j] = table[i-1][j] \n",
    "           \n",
    "            if (set1[i-1]>j):\n",
    "                table[i][j] = table[i-1][j]\n",
    "    \n",
    "            else:\n",
    "                table[i][j] = table[i-1][j] or table[i-1][j-set1[i-1]]\n",
    "        \n",
    "    return table[n][sum1]\n",
    "\n",
    "set1 = [3, 34, 4, 12, 5, 2]\n",
    "sum1 = 9\n",
    "n = len(set1)    \n",
    "print(subsetsumbot(set1,n,sum1))"
   ]
  },
  {
   "cell_type": "code",
   "execution_count": 81,
   "id": "0b380d19",
   "metadata": {},
   "outputs": [
    {
     "name": "stdout",
     "output_type": "stream",
     "text": [
      "True\n"
     ]
    }
   ],
   "source": [
    "def knapSacksubset(sett,summ): \n",
    "    n=len(sett)\n",
    "    table = [[False for x in range(summ + 1)] for x in range(n + 1)] \n",
    " \n",
    "    for len_arr in range(n+1):\n",
    "        table[len_arr][0] = True    \n",
    "        \n",
    "    for target in range(1,summ+1): \n",
    "        table[0][target] = False\n",
    "            \n",
    "    for len_arr in range(1,n+1):\n",
    "        for target in range(1, sum1+1):\n",
    "            \n",
    "            if sett[len_arr-1] > target:\n",
    "                table[len_arr][target] = table[len_arr-1][target] \n",
    "            \n",
    "            else : \n",
    "                table[len_arr][target] = table[len_arr-1][target-sett[len_arr-1]] or  table[len_arr-1][target] \n",
    "   \n",
    "    return table[n][summ] \n",
    "\n",
    "set1 = [3, 34, 4, 12, 5, 2]\n",
    "sum1 = 9\n",
    "\n",
    "print(knapSacksubset(set1,sum1))"
   ]
  }
 ],
 "metadata": {
  "kernelspec": {
   "display_name": "Python 3",
   "language": "python",
   "name": "python3"
  },
  "language_info": {
   "codemirror_mode": {
    "name": "ipython",
    "version": 3
   },
   "file_extension": ".py",
   "mimetype": "text/x-python",
   "name": "python",
   "nbconvert_exporter": "python",
   "pygments_lexer": "ipython3",
   "version": "3.8.8"
  }
 },
 "nbformat": 4,
 "nbformat_minor": 5
}
