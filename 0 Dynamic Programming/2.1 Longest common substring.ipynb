{
 "cells": [
  {
   "cell_type": "code",
   "execution_count": 44,
   "id": "6fd3d18c",
   "metadata": {},
   "outputs": [
    {
     "name": "stdout",
     "output_type": "stream",
     "text": [
      "4\n"
     ]
    }
   ],
   "source": [
    "def LongestCommonSubstring(str1,str2,m,n):\n",
    "    table = [[-1 for x in range(n+1)] for x in range(m+1)]\n",
    "    \n",
    "    for i in range(m+1):\n",
    "        for j in range(n+1):\n",
    "            \n",
    "            if i==0 or j==0:\n",
    "                table[i][j]=0\n",
    "    \n",
    "            elif str1[i-1]==str2[j-1]:\n",
    "                table[i][j] =  1 + table[i-1][j-1]\n",
    "            else:\n",
    "                table[i][j] = 0 \n",
    "    \n",
    "    return max(map(max,table)) #max([max(val) for val in table])\n",
    "\n",
    "str1 = [\"a\",\"b\",\"c\",\"d\",\"g\",\"h\"]\n",
    "str2 = [\"a\",\"b\",\"c\",\"d\",\"f\",\"h\",\"r\"]\n",
    "m = len(str1)\n",
    "n = len(str2)\n",
    "# [a,b]\n",
    "print(LongestCommonSubstring(str1,str2,m,n))"
   ]
  },
  {
   "cell_type": "code",
   "execution_count": 40,
   "id": "b33735f3",
   "metadata": {},
   "outputs": [
    {
     "name": "stdout",
     "output_type": "stream",
     "text": [
      "<map object at 0x0000011EFBD8B4C0>\n",
      "['appleorange', 'bananalemon', 'cherrypineapple']\n"
     ]
    }
   ],
   "source": [
    "def myfunc(a, b):\n",
    "    return a + b\n",
    "\n",
    "x = map(myfunc, ('apple', 'banana', 'cherry'), ('orange', 'lemon', 'pineapple'))\n",
    "\n",
    "print(x)\n",
    "print(list(x))"
   ]
  },
  {
   "cell_type": "code",
   "execution_count": null,
   "id": "881f5aa4",
   "metadata": {},
   "outputs": [],
   "source": []
  }
 ],
 "metadata": {
  "kernelspec": {
   "display_name": "Python 3",
   "language": "python",
   "name": "python3"
  },
  "language_info": {
   "codemirror_mode": {
    "name": "ipython",
    "version": 3
   },
   "file_extension": ".py",
   "mimetype": "text/x-python",
   "name": "python",
   "nbconvert_exporter": "python",
   "pygments_lexer": "ipython3",
   "version": "3.8.8"
  }
 },
 "nbformat": 4,
 "nbformat_minor": 5
}
