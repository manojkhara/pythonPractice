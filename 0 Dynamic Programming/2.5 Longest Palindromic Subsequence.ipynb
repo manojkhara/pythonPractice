{
 "cells": [
  {
   "cell_type": "code",
   "execution_count": 10,
   "id": "e4788447",
   "metadata": {},
   "outputs": [
    {
     "name": "stdout",
     "output_type": "stream",
     "text": [
      "5\n"
     ]
    }
   ],
   "source": [
    "def lcs(str1,str2,m,n):\n",
    "    if m==0 or n==0:\n",
    "        return 0 \n",
    "    if str1[m-1] == str2[n-1]:\n",
    "        return lcs(str1,str2,m-1,n-1) + 1\n",
    "    \n",
    "    else:\n",
    "        return max(lcs(str1,str2,m-1,n),lcs(str1,str2,m,n-1))\n",
    "    \n",
    "\n",
    "def LongestCommonPalindrome(str1):\n",
    "    str2 = str1[::-1] #ReverseTheString\n",
    "    m = len(str1)\n",
    "    n = len(str2)\n",
    "    return lcs(str1,str2,m,n)\n",
    "\n",
    "str1 = \"agbcba\"\n",
    "print(LongestCommonPalindrome(str1))"
   ]
  },
  {
   "cell_type": "code",
   "execution_count": 4,
   "id": "870f5ad2",
   "metadata": {},
   "outputs": [
    {
     "data": {
      "text/plain": [
       "'abcbga'"
      ]
     },
     "execution_count": 4,
     "metadata": {},
     "output_type": "execute_result"
    }
   ],
   "source": []
  },
  {
   "cell_type": "code",
   "execution_count": null,
   "id": "0b2ad75f",
   "metadata": {},
   "outputs": [],
   "source": []
  }
 ],
 "metadata": {
  "kernelspec": {
   "display_name": "Python 3",
   "language": "python",
   "name": "python3"
  },
  "language_info": {
   "codemirror_mode": {
    "name": "ipython",
    "version": 3
   },
   "file_extension": ".py",
   "mimetype": "text/x-python",
   "name": "python",
   "nbconvert_exporter": "python",
   "pygments_lexer": "ipython3",
   "version": "3.8.8"
  }
 },
 "nbformat": 4,
 "nbformat_minor": 5
}
