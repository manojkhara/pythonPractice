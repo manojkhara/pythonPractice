{
 "cells": [
  {
   "cell_type": "code",
   "execution_count": 79,
   "id": "0f4bca7e",
   "metadata": {},
   "outputs": [
    {
     "name": "stdout",
     "output_type": "stream",
     "text": [
      "24\n"
     ]
    }
   ],
   "source": [
    "def Unbounded_Knapsack(val,wt,n,W):\n",
    "    \n",
    "    if n==0 or W==0:\n",
    "        return 0\n",
    "    elif wt[n-1]>W:\n",
    "        return Unbounded_Knapsack(val,wt,n-1,W)\n",
    "    else:\n",
    "        y = max(val[n-1] + Unbounded_Knapsack(val,wt,n,W-wt[n-1]),Unbounded_Knapsack(val,wt,n-1,W))\n",
    "        return y\n",
    "\n",
    "W= 8\n",
    "\n",
    "val = [3, 5, 8, 9, 10, 17, 17, 20]\n",
    "\n",
    "#val = [10,40,50,70]\n",
    "wt = [1,2,3,4,5,6,7,8]\n",
    "#wt = [1,3,4,5]\n",
    "n = len(wt)\n",
    "\n",
    "print(Unbounded_Knapsack(val,wt,n,W))"
   ]
  },
  {
   "cell_type": "code",
   "execution_count": 51,
   "id": "ec0ed886",
   "metadata": {},
   "outputs": [
    {
     "name": "stdout",
     "output_type": "stream",
     "text": [
      "0\n"
     ]
    }
   ],
   "source": [
    "def Unbounded_Knapsack(val,wt,n,W):\n",
    "    \n",
    "    tab = [[0 for x in range(W+1)] for x in range(n+1)]\n",
    "    \n",
    "    for i in range(n+1):\n",
    "        for j in range(W+1):\n",
    "            \n",
    "            if i==0 or j==0:\n",
    "                tab[i][j] =0 \n",
    "            \n",
    "            elif wt[i-1] <= j:\n",
    "                tab[i][j] = max(val[i-1]+tab[i][j-wt[i-1]],tab[i-1][j])\n",
    "        \n",
    "            else:\n",
    "                tab[i][j] = tab[i-1][j]\n",
    "    print(tab[n][W])\n",
    "\n",
    "W= 8\n",
    "val = []\n",
    "wt = []\n",
    "\n",
    "#val = [10,40,50,70]\n",
    "#wt = [1,3,4,5]\n",
    "n = len(wt)\n",
    "\n",
    "Unbounded_Knapsack(val,wt,n,W)"
   ]
  },
  {
   "cell_type": "code",
   "execution_count": 53,
   "id": "ba1aabd7",
   "metadata": {},
   "outputs": [
    {
     "name": "stdout",
     "output_type": "stream",
     "text": [
      "[[0, 0, 0, 0, 0, 0, 0, 0, 0], [0, 10, 20, 30, 40, 50, 60, 70, 80], [0, 10, 20, 40, 50, 60, 80, 90, 100], [0, 10, 20, 40, 50, 60, 80, 90, 100], [0, 10, 20, 40, 50, 70, 80, 90, 110]]\n"
     ]
    }
   ],
   "source": [
    "def printknapSack(W, wt, val, n):\n",
    "\tK = [[0 for w in range(W + 1)] for i in range(n + 1)]\n",
    "\t\t\t\n",
    "\tfor i in range(n + 1):\n",
    "\t\tfor j in range(W + 1):\n",
    "            \n",
    "\t\t\tif i == 0 or j == 0:\n",
    "\t\t\t\tK[i][j] = 0\n",
    "                \n",
    "\t\t\telif wt[i - 1] <= j:\n",
    "\t\t\t\tK[i][j] = max(val[i - 1] + K[i][j - wt[i - 1]], K[i - 1][j])\n",
    "\t\t\telse:\n",
    "\t\t\t\tK[i][j] = K[i - 1][j]\n",
    "\n",
    "\t# stores the result of Knapsack\n",
    "\tres = K\n",
    "\tprint(res)\n",
    "\n",
    "# Driver code\n",
    "#val = []\n",
    "#wt = []\n",
    "val = [10,40,50,70]\n",
    "wt = [1,3,4,5]\n",
    "W = 8\n",
    "n = len(val)\n",
    "\t\n",
    "printknapSack(W, wt, val, n)\n",
    "\n",
    "# This code is contributed by Aryan Garg.\n"
   ]
  }
 ],
 "metadata": {
  "kernelspec": {
   "display_name": "Python 3",
   "language": "python",
   "name": "python3"
  },
  "language_info": {
   "codemirror_mode": {
    "name": "ipython",
    "version": 3
   },
   "file_extension": ".py",
   "mimetype": "text/x-python",
   "name": "python",
   "nbconvert_exporter": "python",
   "pygments_lexer": "ipython3",
   "version": "3.8.8"
  }
 },
 "nbformat": 4,
 "nbformat_minor": 5
}
