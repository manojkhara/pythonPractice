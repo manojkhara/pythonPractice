{
 "cells": [
  {
   "cell_type": "code",
   "execution_count": 23,
   "id": "9d45a988",
   "metadata": {},
   "outputs": [],
   "source": [
    "def cutrod(price,n,W,wt):\n",
    "    \n",
    "    tab = [[0 for x in range(W+1)] for x in range(n+1)]\n",
    "    \n",
    "    for i in range(1,n+1):\n",
    "        for j in range(1,W+1):\n",
    "            \n",
    "            if wt[i-1] > j:\n",
    "                tab[i][j] = tab[i-1][j]\n",
    "            else:\n",
    "                tab[i][j] = max(tab[i-1][j], tab[i][j-wt[i-1]] + price[i-1])\n",
    "    return tab\n",
    "                \n",
    "            "
   ]
  },
  {
   "cell_type": "code",
   "execution_count": 24,
   "id": "8fe12d7f",
   "metadata": {},
   "outputs": [
    {
     "data": {
      "text/plain": [
       "[[0, 0, 0, 0, 0, 0, 0, 0, 0],\n",
       " [0, 3, 6, 9, 12, 15, 18, 21, 24],\n",
       " [0, 3, 6, 9, 12, 15, 18, 21, 24],\n",
       " [0, 3, 6, 9, 12, 15, 18, 21, 24],\n",
       " [0, 3, 6, 9, 12, 15, 18, 21, 24],\n",
       " [0, 3, 6, 9, 12, 15, 18, 21, 24],\n",
       " [0, 3, 6, 9, 12, 15, 18, 21, 24],\n",
       " [0, 3, 6, 9, 12, 15, 18, 21, 24],\n",
       " [0, 3, 6, 9, 12, 15, 18, 21, 24]]"
      ]
     },
     "execution_count": 24,
     "metadata": {},
     "output_type": "execute_result"
    }
   ],
   "source": [
    "price = [3, 5, 8, 9, 10, 17, 17, 20]\n",
    "#wt = [1,2,3,4,5,6,7,8]\n",
    "W = 8\n",
    "n = len(wt)\n",
    "cutrod(price,n,W,wt)"
   ]
  },
  {
   "cell_type": "code",
   "execution_count": null,
   "id": "981ab09d",
   "metadata": {},
   "outputs": [],
   "source": [
    "price = [3, 5, 8, 9, 10, 17, 17, 20]\n",
    "n = 8\n",
    "\n",
    "def CutRod(price,n):\n",
    "    if n==0:\n",
    "        return 0\n",
    "    if len(price) ==0:\n",
    "        return 0\n",
    "    for i in range(1,n+1):\n",
    "        for j in range(1,n+1):\n",
    "            if i >j:\n",
    "                return CutRod(price,n)\n",
    "        \n",
    "    "
   ]
  },
  {
   "cell_type": "code",
   "execution_count": 88,
   "id": "a549c6f8",
   "metadata": {},
   "outputs": [],
   "source": [
    "\n",
    "price = [3, 5, 8, 9, 10, 17, 17, 20]\n",
    "n = 8\n",
    "\n",
    "tab = [[0 for x in range(n+1)] for x in range(n+1)]\n",
    "    \n",
    "for i in range(1,n+1):\n",
    "    for j in range(1,n+1):\n",
    "        if i > j:\n",
    "            tab[i][j] = tab[i-1][j]\n",
    "        else:\n",
    "            tab[i][j] = max(tab[i-1][j] , tab[i][j-i] + price[i-1])\n",
    "                "
   ]
  },
  {
   "cell_type": "code",
   "execution_count": 31,
   "id": "addba558",
   "metadata": {},
   "outputs": [
    {
     "data": {
      "text/plain": [
       "[[0, 0, 0, 0, 0, 0, 0, 0, 0],\n",
       " [0, 3, 6, 9, 12, 15, 18, 21, 24],\n",
       " [0, 3, 6, 9, 12, 15, 18, 21, 24],\n",
       " [0, 3, 6, 9, 12, 15, 18, 21, 24],\n",
       " [0, 3, 6, 9, 12, 15, 18, 21, 24],\n",
       " [0, 3, 6, 9, 12, 15, 18, 21, 24],\n",
       " [0, 3, 6, 9, 12, 15, 18, 21, 24],\n",
       " [0, 3, 6, 9, 12, 15, 18, 21, 24],\n",
       " [0, 3, 6, 9, 12, 15, 18, 21, 24]]"
      ]
     },
     "execution_count": 31,
     "metadata": {},
     "output_type": "execute_result"
    }
   ],
   "source": [
    "def cutRod(price, n):\n",
    "    dp = [[0 for i in range(n+1)] for j in range(n+1)]\n",
    "    for i in range(1,n+1):\n",
    "        for j in range(1,n+1):\n",
    "            if i<=j:\n",
    "                dp[i][j] = max(price[i-1]+dp[i][j-i],dp[i-1][j])\n",
    "            else:\n",
    "                dp[i][j] = dp[i-1][j]\n",
    "    return dp\n",
    "price = [3, 5, 8, 9, 10, 17, 17, 20]\n",
    "n = 8\n",
    "cutRod(price,n)"
   ]
  },
  {
   "cell_type": "code",
   "execution_count": 51,
   "id": "ca73c721",
   "metadata": {},
   "outputs": [
    {
     "name": "stdout",
     "output_type": "stream",
     "text": [
      "2 2 1 1 $2 1 $\n"
     ]
    }
   ],
   "source": []
  },
  {
   "cell_type": "code",
   "execution_count": 86,
   "id": "abab9f6c",
   "metadata": {},
   "outputs": [
    {
     "name": "stdout",
     "output_type": "stream",
     "text": [
      "1 3 "
     ]
    }
   ],
   "source": []
  },
  {
   "cell_type": "code",
   "execution_count": null,
   "id": "d0c481e9",
   "metadata": {},
   "outputs": [],
   "source": []
  }
 ],
 "metadata": {
  "kernelspec": {
   "display_name": "Python 3",
   "language": "python",
   "name": "python3"
  },
  "language_info": {
   "codemirror_mode": {
    "name": "ipython",
    "version": 3
   },
   "file_extension": ".py",
   "mimetype": "text/x-python",
   "name": "python",
   "nbconvert_exporter": "python",
   "pygments_lexer": "ipython3",
   "version": "3.8.8"
  }
 },
 "nbformat": 4,
 "nbformat_minor": 5
}
