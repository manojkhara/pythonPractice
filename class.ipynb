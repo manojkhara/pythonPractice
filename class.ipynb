{
 "cells": [
  {
   "cell_type": "code",
   "execution_count": 2,
   "id": "9bc775f4",
   "metadata": {},
   "outputs": [
    {
     "data": {
      "text/plain": [
       "'ges'"
      ]
     },
     "execution_count": 2,
     "metadata": {},
     "output_type": "execute_result"
    }
   ],
   "source": [
    "S = \"geeks\"\n",
    "a = S[::2]\n",
    "a"
   ]
  },
  {
   "cell_type": "code",
   "execution_count": 17,
   "id": "ca333aec",
   "metadata": {},
   "outputs": [
    {
     "name": "stdout",
     "output_type": "stream",
     "text": [
      "{1}\n"
     ]
    }
   ],
   "source": [
    "A=43\n",
    "B=38\n",
    "factorsA = []\n",
    "factorsB = []\n",
    "        \n",
    "for i in range(1,A+1):\n",
    "    if A%i==0:\n",
    "        factorsA.append(i)\n",
    "\n",
    "for j in range(1,B+1):\n",
    "    if B%j==0:\n",
    "        factorsB.append(j)\n",
    "        \n",
    "\n",
    "if set(factorsA) & set(factorsB) :\n",
    "    print(set(factorsA) & set(factorsB))\n",
    "\n"
   ]
  },
  {
   "cell_type": "code",
   "execution_count": 16,
   "id": "eb03be6f",
   "metadata": {},
   "outputs": [
    {
     "name": "stdout",
     "output_type": "stream",
     "text": [
      "{5}\n",
      "No common elements\n"
     ]
    }
   ],
   "source": [
    "def common_member(a, b):\n",
    "    a_set = set(a)\n",
    "    b_set = set(b)\n",
    " \n",
    "    if (a_set & b_set):\n",
    "        print(a_set & b_set)\n",
    "    else:\n",
    "        print(\"No common elements\")\n",
    "          \n",
    "  \n",
    "a = [1, 2, 3, 4, 5]\n",
    "b = [5, 6, 7, 8, 9]\n",
    "common_member(a, b)\n",
    "  \n",
    "a = [1, 2, 3, 4, 5]\n",
    "b = [6, 7, 8, 9]\n",
    "common_member(a, b)"
   ]
  },
  {
   "cell_type": "code",
   "execution_count": null,
   "id": "731872f6",
   "metadata": {},
   "outputs": [],
   "source": [
    "def gcd(a,b):   \n",
    "    # Everything divides 0\n",
    "    table = [[0 for x in range(b+1)]for x in range(a+1)]\n",
    "    \n",
    "    for i in range(a+1):\n",
    "        for j in range(b+1):\n",
    "            table[0][j] = a\n",
    "            table[i][0] = b\n",
    "            \n",
    "            # base case\n",
    "            if (i == j):\n",
    "                table[i][j] =  i\n",
    " \n",
    "            if (i > j):\n",
    "                table[i][j] = gcd(i-j, j)\n",
    "            else:\n",
    "                table[i][j] = gcd(a, b-a)\n",
    "\n",
    "    return table\n",
    "\n",
    "# Driver program to test above function\n",
    "a = 98\n",
    "b = 56\n",
    "print(gcd(a, b))\n",
    "\"\"\"\n",
    "if(gcd(a, b)):\n",
    "    print('GCD of', a, 'and', b, 'is', gcd(a, b))\n",
    "else:\n",
    "    print('not found')\n",
    " \"\"\""
   ]
  },
  {
   "cell_type": "code",
   "execution_count": 10,
   "id": "e4c9872e",
   "metadata": {},
   "outputs": [
    {
     "data": {
      "text/plain": [
       "80"
      ]
     },
     "execution_count": 10,
     "metadata": {},
     "output_type": "execute_result"
    }
   ],
   "source": [
    "class school:\n",
    "    def __init__(self,m,s):\n",
    "        self.math = m\n",
    "        self.science = s"
   ]
  },
  {
   "cell_type": "code",
   "execution_count": 13,
   "id": "5f3cfe35",
   "metadata": {},
   "outputs": [
    {
     "name": "stdout",
     "output_type": "stream",
     "text": [
      "{'__module__': '__main__', 'canPartition': 2, '__dict__': <attribute '__dict__' of 'Solution' objects>, '__weakref__': <attribute '__weakref__' of 'Solution' objects>, '__doc__': None}\n"
     ]
    }
   ],
   "source": [
    "class Solution:\n",
    "    canPartition = 2\n",
    "    pass\n",
    "print(Solution.__dict__)"
   ]
  },
  {
   "cell_type": "code",
   "execution_count": 22,
   "id": "bedd0880",
   "metadata": {},
   "outputs": [
    {
     "name": "stdout",
     "output_type": "stream",
     "text": [
      "Harry Salary is 500 and role is Instructor\n",
      "Rohan Salary is 50 and role is Student\n"
     ]
    }
   ],
   "source": [
    "class Employee:\n",
    "    no_of_leaves = 0\n",
    "    \n",
    "    def __init__(self,aname,asalary,arole):\n",
    "        self.name = aname\n",
    "        self.salary = asalary\n",
    "        self.role = arole\n",
    "        \n",
    "    def printdetails(self):\n",
    "        return f\"{self.name} Salary is {self.salary} and role is {self.role}\"\n",
    "    \n",
    "harry = Employee(\"Harry\", 500, \"Instructor\")\n",
    "rohan = Employee(\"Rohan\", 50,\"Student\")\n",
    "\n",
    "# harry.name = \"Harry\"\n",
    "# harry.salary = 500\n",
    "# harry.role = \"Instructor\"\n",
    "\n",
    "#rohan.name = \"Rohan\"\n",
    "#rohan.salary = 50\n",
    "#rohan.role = \"student\"\n",
    "\n",
    "\n",
    "print(harry.printdetails())\n",
    "print(rohan.printdetails())\n",
    "\n"
   ]
  },
  {
   "cell_type": "code",
   "execution_count": 7,
   "id": "f7928b90",
   "metadata": {},
   "outputs": [
    {
     "ename": "TypeError",
     "evalue": "keys() takes no arguments (1 given)",
     "output_type": "error",
     "traceback": [
      "\u001b[1;31m---------------------------------------------------------------------------\u001b[0m",
      "\u001b[1;31mTypeError\u001b[0m                                 Traceback (most recent call last)",
      "\u001b[1;32m<ipython-input-7-66dc3eccbac6>\u001b[0m in \u001b[0;36m<module>\u001b[1;34m\u001b[0m\n\u001b[0;32m      6\u001b[0m \u001b[1;33m\u001b[0m\u001b[0m\n\u001b[0;32m      7\u001b[0m \u001b[1;32mif\u001b[0m \u001b[1;34m\"model\"\u001b[0m \u001b[1;32min\u001b[0m \u001b[0mthisdict\u001b[0m\u001b[1;33m:\u001b[0m\u001b[1;33m\u001b[0m\u001b[1;33m\u001b[0m\u001b[0m\n\u001b[1;32m----> 8\u001b[1;33m     \u001b[0mprint\u001b[0m\u001b[1;33m(\u001b[0m\u001b[0mthisdict\u001b[0m\u001b[1;33m.\u001b[0m\u001b[0mkeys\u001b[0m\u001b[1;33m(\u001b[0m\u001b[1;34m\"Mustang\"\u001b[0m\u001b[1;33m)\u001b[0m\u001b[1;33m)\u001b[0m\u001b[1;33m\u001b[0m\u001b[1;33m\u001b[0m\u001b[0m\n\u001b[0m",
      "\u001b[1;31mTypeError\u001b[0m: keys() takes no arguments (1 given)"
     ]
    }
   ],
   "source": [
    "thisdict = {\n",
    "  \"brand\": \"Ford\",\n",
    "  \"model\": \"Mustang\",\n",
    "  \"year\": 1964\n",
    "}\n",
    "\n",
    "if \"model\" in thisdict:\n",
    "    print(thisdict.keys())"
   ]
  },
  {
   "cell_type": "code",
   "execution_count": 9,
   "id": "9ccb5185",
   "metadata": {},
   "outputs": [
    {
     "name": "stdout",
     "output_type": "stream",
     "text": [
      "5\n",
      "120\n"
     ]
    }
   ],
   "source": [
    "#User function Template for python3\n",
    "\n",
    "class Solution:\n",
    "    def find_fact(self, n):\n",
    "        # Code here\n",
    "        if n==0:\n",
    "            return 1\n",
    "        else:\n",
    "            return(n * ob.find_fact(n-1))\n",
    "\n",
    "#{ \n",
    "#  Driver Code Starts\n",
    "#Initial Template for Python 3\n",
    "\n",
    "if __name__ == '__main__':\n",
    "    T=1\n",
    "    for i in range(T):\n",
    "        n = int(input())\n",
    "        ob = Solution();\n",
    "        ans = ob.find_fact(n)\n",
    "        print(ans)\n",
    "\n",
    "# } Driver Code Ends"
   ]
  },
  {
   "cell_type": "code",
   "execution_count": null,
   "id": "eba27874",
   "metadata": {},
   "outputs": [],
   "source": []
  }
 ],
 "metadata": {
  "kernelspec": {
   "display_name": "Python 3",
   "language": "python",
   "name": "python3"
  },
  "language_info": {
   "codemirror_mode": {
    "name": "ipython",
    "version": 3
   },
   "file_extension": ".py",
   "mimetype": "text/x-python",
   "name": "python",
   "nbconvert_exporter": "python",
   "pygments_lexer": "ipython3",
   "version": "3.8.8"
  }
 },
 "nbformat": 4,
 "nbformat_minor": 5
}
