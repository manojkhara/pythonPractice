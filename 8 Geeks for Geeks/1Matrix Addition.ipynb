{
 "cells": [
  {
   "cell_type": "code",
   "execution_count": 2,
   "id": "75594c24",
   "metadata": {},
   "outputs": [
    {
     "name": "stdout",
     "output_type": "stream",
     "text": [
      "[10, 13, 10]\n",
      "[9, 10, 10]\n",
      "[10, 4, 1]\n"
     ]
    }
   ],
   "source": [
    "# Using Nested For Loops\n",
    "\n",
    "A = [[1,5,3], \n",
    "     [3,5,6], \n",
    "     [7 ,2,0]] \n",
    "   \n",
    "B = [[9,8,7], \n",
    "     [6,5,4], \n",
    "     [3,2,1]] \n",
    "   \n",
    "result = [[0,0,0], \n",
    "          [0,0,0], \n",
    "          [0,0,0]] \n",
    "   \n",
    "# iterate through rows \n",
    "for i in range(len(A)):    \n",
    "    for j in range(len(A[0])): \n",
    "        result[i][j] = A[i][j] + B[i][j] \n",
    "\n",
    "for x in result: \n",
    "    print(x)"
   ]
  },
  {
   "cell_type": "code",
   "execution_count": 3,
   "id": "7a9b21c9",
   "metadata": {},
   "outputs": [
    {
     "name": "stdout",
     "output_type": "stream",
     "text": [
      "[10, 13, 10]\n",
      "[9, 10, 10]\n",
      "[10, 4, 1]\n"
     ]
    }
   ],
   "source": [
    "#Using Nested List Comprehension\n",
    "\n",
    "result = [[A[i][j] + B[i][j]  for j in range (len(A[0]))] for i in range(len(A))] \n",
    "    \n",
    "for r in result: \n",
    "    print(r) "
   ]
  },
  {
   "cell_type": "code",
   "execution_count": 25,
   "id": "d0899ea0",
   "metadata": {},
   "outputs": [
    {
     "name": "stdout",
     "output_type": "stream",
     "text": [
      "[10, 13, 10]\n",
      "[9, 10, 10]\n",
      "[10, 4, 1]\n"
     ]
    }
   ],
   "source": [
    "result = [map(sum, zip(*i)) for i in zip(A,B)] \n",
    "    \n",
    "for x in result:\n",
    "    print(list(x))"
   ]
  },
  {
   "cell_type": "code",
   "execution_count": 20,
   "id": "03160cd1",
   "metadata": {},
   "outputs": [
    {
     "name": "stdout",
     "output_type": "stream",
     "text": [
      "[52, 54, 99]\n"
     ]
    }
   ],
   "source": [
    "x = [\"52\", \"54\", \"99\"]\n",
    "y = map(int, x)\n",
    "\n",
    "print(list(y))"
   ]
  },
  {
   "cell_type": "code",
   "execution_count": 22,
   "id": "6ef5a33a",
   "metadata": {},
   "outputs": [
    {
     "name": "stdout",
     "output_type": "stream",
     "text": [
      "([1, 5, 3], [9, 8, 7]) ([3, 5, 6], [6, 5, 4]) ([7, 2, 0], [3, 2, 1])\n"
     ]
    }
   ],
   "source": [
    "y = zip(A,B)\n",
    "print(*y)"
   ]
  },
  {
   "cell_type": "code",
   "execution_count": null,
   "id": "7c440e43",
   "metadata": {},
   "outputs": [],
   "source": []
  }
 ],
 "metadata": {
  "kernelspec": {
   "display_name": "Python 3",
   "language": "python",
   "name": "python3"
  },
  "language_info": {
   "codemirror_mode": {
    "name": "ipython",
    "version": 3
   },
   "file_extension": ".py",
   "mimetype": "text/x-python",
   "name": "python",
   "nbconvert_exporter": "python",
   "pygments_lexer": "ipython3",
   "version": "3.8.8"
  }
 },
 "nbformat": 4,
 "nbformat_minor": 5
}
