{
 "cells": [
  {
   "cell_type": "code",
   "execution_count": 37,
   "id": "73627176",
   "metadata": {},
   "outputs": [
    {
     "name": "stdout",
     "output_type": "stream",
     "text": [
      "117893 117893 {'8', '1', '3', '9', '7'} ['1', '1', '7', '8', '9', '3']\n"
     ]
    }
   ],
   "source": [
    "a = 117893\n",
    "b = str(a)\n",
    "c = set(b)\n",
    "d = list(b)\n",
    "print(a,b,c,d)"
   ]
  },
  {
   "cell_type": "code",
   "execution_count": 52,
   "id": "f5d412ff",
   "metadata": {},
   "outputs": [
    {
     "name": "stdout",
     "output_type": "stream",
     "text": [
      "True\n"
     ]
    }
   ],
   "source": [
    "# Given a non-empty sequence of characters str\n",
    "# return true if sequence is Binary, else return false\n",
    "# Binary string is string formed of 0 & 1 only  eg. \"10110100111\"\n",
    "# non Binary  eg.  \"13545\", \"01453\"\n",
    "\n",
    "str1 = \"11111\"\n",
    "\n",
    "d = [int(x) for x in list(str1) if int(x)>1 or int(x)< 0]\n",
    "if len(d)>0:\n",
    "    print(False)\n",
    "else:\n",
    "    print(True)"
   ]
  },
  {
   "cell_type": "code",
   "execution_count": 62,
   "id": "f25ead9b",
   "metadata": {},
   "outputs": [
    {
     "data": {
      "text/plain": [
       "'geeksforgeeks'"
      ]
     },
     "execution_count": 62,
     "metadata": {},
     "output_type": "execute_result"
    }
   ],
   "source": [
    "str2 = \"geeks for geeks\"\n",
    "str3 = \"\"\n",
    "list1 = list(str2)\n",
    "c = [x for x in list1 if x!=\" \"]\n",
    "for x in c:\n",
    "    str3 = str3 + x\n",
    "str3"
   ]
  },
  {
   "cell_type": "code",
   "execution_count": 66,
   "id": "26f7eb0d",
   "metadata": {},
   "outputs": [
    {
     "data": {
      "text/plain": [
       "['2',\n",
       " '1',\n",
       " ' ',\n",
       " '1',\n",
       " '1',\n",
       " ' ',\n",
       " '3',\n",
       " '0',\n",
       " ' ',\n",
       " '1',\n",
       " '7',\n",
       " ' ',\n",
       " '3',\n",
       " '0',\n",
       " ' ',\n",
       " '1',\n",
       " '8',\n",
       " ' ',\n",
       " '1',\n",
       " '3',\n",
       " ' ',\n",
       " '2',\n",
       " '3',\n",
       " ' ',\n",
       " '1',\n",
       " '0',\n",
       " ' ',\n",
       " '3',\n",
       " '0',\n",
       " ' ',\n",
       " '1',\n",
       " '1',\n",
       " ' ',\n",
       " '1',\n",
       " '5',\n",
       " ' ',\n",
       " '2',\n",
       " '1',\n",
       " ' ',\n",
       " '1',\n",
       " '3',\n",
       " ' ',\n",
       " '1',\n",
       " '3',\n",
       " ' ',\n",
       " '2',\n",
       " '4',\n",
       " ' ',\n",
       " '2',\n",
       " '5',\n",
       " ' ',\n",
       " '1',\n",
       " '1',\n",
       " ' ',\n",
       " '1',\n",
       " '5',\n",
       " ' ',\n",
       " '3',\n",
       " '0',\n",
       " ' ',\n",
       " '1',\n",
       " '5',\n",
       " ' ',\n",
       " '1',\n",
       " '8',\n",
       " ' ',\n",
       " '1',\n",
       " '3']"
      ]
     },
     "execution_count": 66,
     "metadata": {},
     "output_type": "execute_result"
    }
   ],
   "source": [
    "N = 23\n",
    "a = [21,11,30,17, 30, 18, 13, 23, 10, 30, 11, 15, 21, 13, 13, 24, 25, 11, 15, 30, 15, 18, 13\"\n",
    "key = 899\n",
    "b = list(a)\n",
    "#c = [int(x) for x in list(a)]\n",
    "b"
   ]
  },
  {
   "cell_type": "code",
   "execution_count": null,
   "id": "6143b277",
   "metadata": {},
   "outputs": [],
   "source": []
  }
 ],
 "metadata": {
  "kernelspec": {
   "display_name": "Python 3",
   "language": "python",
   "name": "python3"
  },
  "language_info": {
   "codemirror_mode": {
    "name": "ipython",
    "version": 3
   },
   "file_extension": ".py",
   "mimetype": "text/x-python",
   "name": "python",
   "nbconvert_exporter": "python",
   "pygments_lexer": "ipython3",
   "version": "3.8.8"
  }
 },
 "nbformat": 4,
 "nbformat_minor": 5
}
