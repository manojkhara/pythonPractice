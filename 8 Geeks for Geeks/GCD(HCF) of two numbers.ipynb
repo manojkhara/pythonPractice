{
 "cells": [
  {
   "cell_type": "raw",
   "id": "e5c7ea28",
   "metadata": {},
   "source": [
    "Greatest Common Divisor(GCD) or Highest Common Factor(HCF)\n",
    "factors of 12 = 1,2,3,4,6,12\n",
    "factors of 16 = 1,2,4,8,16\n",
    "GCD or HCF =  max of common factors =  4  "
   ]
  },
  {
   "cell_type": "code",
   "execution_count": 8,
   "id": "be6f9c5c",
   "metadata": {},
   "outputs": [
    {
     "name": "stdout",
     "output_type": "stream",
     "text": [
      "6\n",
      "Total runtime of the program is 0.0\n"
     ]
    }
   ],
   "source": [
    "import time\n",
    "A = 96\n",
    "B = 78\n",
    "\n",
    "begin = time.time()\n",
    "def Hcf(A,B):\n",
    "    factorsA = []\n",
    "    factorsB = []\n",
    "    \n",
    "    for i in range(1,min(A+1,B+1)):\n",
    "        if A%i==0:\n",
    "            factorsA.append(i)\n",
    "        if B%i==0:\n",
    "            factorsB.append(i)\n",
    "    x = max(set(factorsA) & set(factorsB))\n",
    "    return x\n",
    "end = time.time()\n",
    "print(Hcf(A,B))\n",
    "print(f\"Total runtime of the program is {end - begin}\")"
   ]
  },
  {
   "cell_type": "code",
   "execution_count": 5,
   "id": "79771b89",
   "metadata": {},
   "outputs": [],
   "source": [
    "import time"
   ]
  },
  {
   "cell_type": "code",
   "execution_count": 9,
   "id": "64a7979c",
   "metadata": {},
   "outputs": [
    {
     "data": {
      "text/plain": [
       "79"
      ]
     },
     "execution_count": 9,
     "metadata": {},
     "output_type": "execute_result"
    }
   ],
   "source": [
    "min(A+1,B+1)"
   ]
  },
  {
   "cell_type": "code",
   "execution_count": null,
   "id": "3f3b3ad3",
   "metadata": {},
   "outputs": [],
   "source": []
  }
 ],
 "metadata": {
  "kernelspec": {
   "display_name": "Python 3",
   "language": "python",
   "name": "python3"
  },
  "language_info": {
   "codemirror_mode": {
    "name": "ipython",
    "version": 3
   },
   "file_extension": ".py",
   "mimetype": "text/x-python",
   "name": "python",
   "nbconvert_exporter": "python",
   "pygments_lexer": "ipython3",
   "version": "3.8.8"
  }
 },
 "nbformat": 4,
 "nbformat_minor": 5
}
