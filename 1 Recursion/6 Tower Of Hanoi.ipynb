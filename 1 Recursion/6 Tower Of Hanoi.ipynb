{
 "cells": [
  {
   "cell_type": "code",
   "execution_count": 11,
   "id": "dbec168e",
   "metadata": {},
   "outputs": [
    {
     "data": {
      "text/plain": [
       "584.942417355072"
      ]
     },
     "execution_count": 11,
     "metadata": {},
     "output_type": "execute_result"
    }
   ],
   "source": [
    "seconds = 2**64\n",
    "minutes = seconds/60\n",
    "hours = minutes/60\n",
    "days = hours/24\n",
    "years = days/365\n",
    "billion = 10**9\n",
    "years/billion"
   ]
  },
  {
   "cell_type": "code",
   "execution_count": 10,
   "id": "ad3014cf",
   "metadata": {},
   "outputs": [
    {
     "data": {
      "text/plain": [
       "18446744073.709553"
      ]
     },
     "execution_count": 10,
     "metadata": {},
     "output_type": "execute_result"
    }
   ],
   "source": [
    "seconds/billion"
   ]
  },
  {
   "cell_type": "code",
   "execution_count": null,
   "id": "326398f2",
   "metadata": {},
   "outputs": [],
   "source": []
  }
 ],
 "metadata": {
  "kernelspec": {
   "display_name": "Python 3",
   "language": "python",
   "name": "python3"
  },
  "language_info": {
   "codemirror_mode": {
    "name": "ipython",
    "version": 3
   },
   "file_extension": ".py",
   "mimetype": "text/x-python",
   "name": "python",
   "nbconvert_exporter": "python",
   "pygments_lexer": "ipython3",
   "version": "3.8.8"
  }
 },
 "nbformat": 4,
 "nbformat_minor": 5
}
