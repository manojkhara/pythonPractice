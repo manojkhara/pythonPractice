{
 "cells": [
  {
   "cell_type": "markdown",
   "id": "5ad541a7",
   "metadata": {},
   "source": [
    "Given a set of characters and a positive integer k, print all possible strings of length k that can be formed from the given set.\n",
    "\n",
    "Examples:\n",
    "\n",
    "Input: \n",
    "set = ['a', 'b'], k = 3\n",
    "\n",
    "Output:\n",
    "aaa\n",
    "aab\n",
    "aba\n",
    "abb\n",
    "baa\n",
    "bab\n",
    "bba\n",
    "bbb\n",
    "\n",
    "\n",
    "Input: \n",
    "set= ['a', 'b', 'c', 'd'], k = 1\n",
    "Output:\n",
    "a\n",
    "b\n",
    "c\n",
    "d"
   ]
  },
  {
   "cell_type": "code",
   "execution_count": null,
   "id": "bea59a9f",
   "metadata": {},
   "outputs": [],
   "source": [
    "# def allstrings(arr,k):\n",
    "    \n",
    "    \n",
    "\n",
    "\n",
    "    \n",
    "    \n",
    "# arr = [\"a\",\"b\"]\n",
    "# k = 3\n",
    "# allstrings(arr,k)\n"
   ]
  },
  {
   "cell_type": "code",
   "execution_count": 16,
   "id": "85394874",
   "metadata": {},
   "outputs": [
    {
     "name": "stdout",
     "output_type": "stream",
     "text": [
      "aaa\n",
      "aab\n",
      "aba\n",
      "abb\n",
      "baa\n",
      "bab\n",
      "bba\n",
      "bbb\n"
     ]
    }
   ],
   "source": [
    "arr = [\"a\",\"b\"]\n",
    "k = 3\n",
    "n = len(arr)\n",
    "str1 = \"\"\n",
    "\n",
    "for i in range(n):\n",
    "    for j in range(n):\n",
    "        for p in range(n):\n",
    "            str1 = arr[i] + arr[j] + arr[p]\n",
    "            print(str1)"
   ]
  },
  {
   "cell_type": "code",
   "execution_count": 25,
   "id": "b05f76d0",
   "metadata": {},
   "outputs": [
    {
     "name": "stdout",
     "output_type": "stream",
     "text": [
      "aaa\n",
      "bbb\n"
     ]
    }
   ],
   "source": [
    "for i in range(n):\n",
    "    str2 = \"\"\n",
    "    for x in range(k):\n",
    "        str2 += arr[i]\n",
    "    print(str2)"
   ]
  },
  {
   "cell_type": "code",
   "execution_count": 12,
   "id": "ab926918",
   "metadata": {},
   "outputs": [
    {
     "name": "stdout",
     "output_type": "stream",
     "text": [
      "a\n",
      "b\n",
      "c\n",
      "d\n"
     ]
    }
   ],
   "source": [
    "arr = ['a', 'b', 'c', 'd']\n",
    "k = 1 \n",
    "n = len(arr)\n",
    "for i in range(n):\n",
    "    print(arr[i])"
   ]
  },
  {
   "cell_type": "code",
   "execution_count": 26,
   "id": "07f7c7a7",
   "metadata": {},
   "outputs": [
    {
     "name": "stdout",
     "output_type": "stream",
     "text": [
      "aaa\n",
      "aab\n",
      "aba\n",
      "abb\n",
      "baa\n",
      "bab\n",
      "bba\n",
      "bbb\n"
     ]
    }
   ],
   "source": [
    "def printAllKLengthRec(set, prefix, n, k):\n",
    "     \n",
    "    # Base case: k is 0,\n",
    "    # print prefix\n",
    "    if (k == 0) :\n",
    "        print(prefix)\n",
    "        return\n",
    " \n",
    "    # One by one add all characters\n",
    "    # from set and recursively\n",
    "    # call for k equals to k-1\n",
    "    for i in range(n):\n",
    " \n",
    "        # Next character of input added\n",
    "        newPrefix = prefix + set[i]\n",
    "         \n",
    "        # k is decreased, because\n",
    "        # we have added a new character\n",
    "        printAllKLengthRec(set, newPrefix, n, k - 1)\n",
    "        \n",
    "\n",
    "arr = [\"a\",\"b\"]\n",
    "k = 3\n",
    "n = len(arr)\n",
    "str1 = \"\"\n",
    "\n",
    "printAllKLengthRec(arr, str1, n, k)"
   ]
  },
  {
   "cell_type": "code",
   "execution_count": 39,
   "id": "7804bf8d",
   "metadata": {},
   "outputs": [
    {
     "name": "stdout",
     "output_type": "stream",
     "text": [
      "00\n",
      "01\n",
      "10\n",
      "11\n"
     ]
    }
   ],
   "source": [
    "def printAllKLengthRec(prefix,n, k):\n",
    "    if (k == 0) :\n",
    "        print(prefix)\n",
    "        return\n",
    "    \n",
    "    for i in range(n):\n",
    "        newPrefix = prefix + str(i)\n",
    "        printAllKLengthRec(newPrefix, n, k - 1)\n",
    "\n",
    "printAllKLengthRec(\"\", 2, 2)"
   ]
  },
  {
   "cell_type": "code",
   "execution_count": 41,
   "id": "8df71833",
   "metadata": {},
   "outputs": [
    {
     "name": "stdout",
     "output_type": "stream",
     "text": [
      "010101\n"
     ]
    }
   ],
   "source": [
    "k = 3\n",
    "n = 2\n",
    "prefix = \"\"\n",
    "for j in range(k):\n",
    "    for i in range(n):\n",
    "        prefix = prefix + str(i)\n"
   ]
  },
  {
   "cell_type": "code",
   "execution_count": null,
   "id": "1612f33a",
   "metadata": {},
   "outputs": [],
   "source": []
  }
 ],
 "metadata": {
  "kernelspec": {
   "display_name": "Python 3",
   "language": "python",
   "name": "python3"
  },
  "language_info": {
   "codemirror_mode": {
    "name": "ipython",
    "version": 3
   },
   "file_extension": ".py",
   "mimetype": "text/x-python",
   "name": "python",
   "nbconvert_exporter": "python",
   "pygments_lexer": "ipython3",
   "version": "3.8.8"
  }
 },
 "nbformat": 4,
 "nbformat_minor": 5
}
