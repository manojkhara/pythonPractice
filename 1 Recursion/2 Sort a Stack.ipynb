{
 "cells": [
  {
   "cell_type": "code",
   "execution_count": null,
   "id": "4953e973",
   "metadata": {},
   "outputs": [],
   "source": [
    "# Recursive insertion Sort Stack\n",
    "\n",
    "def insertion(arr,temp):\n",
    "    \n",
    "    if len(arr)==0 or arr[len(arr)-1] <= temp:\n",
    "        arr.append(temp)\n",
    "        return\n",
    "    \n",
    "    x = arr.pop()\n",
    "    insertion(arr,temp)\n",
    "    arr.append(x)\n",
    "\n",
    "\n",
    "def SortAnArray(arr):\n",
    "    if len(arr)<=1:\n",
    "        return\n",
    "    \n",
    "    temp = arr.pop()\n",
    "    SortAnArray(arr)\n",
    "    insertion(arr,temp)\n",
    "    \n",
    "    \n",
    "    \n",
    "array = [7,4,9,2,8,0,3]\n",
    "SortAnArray(array)\n",
    "print(array)"
   ]
  }
 ],
 "metadata": {
  "kernelspec": {
   "display_name": "Python 3",
   "language": "python",
   "name": "python3"
  },
  "language_info": {
   "codemirror_mode": {
    "name": "ipython",
    "version": 3
   },
   "file_extension": ".py",
   "mimetype": "text/x-python",
   "name": "python",
   "nbconvert_exporter": "python",
   "pygments_lexer": "ipython3",
   "version": "3.8.8"
  }
 },
 "nbformat": 4,
 "nbformat_minor": 5
}
