{
 "cells": [
  {
   "cell_type": "raw",
   "id": "de9f20ae",
   "metadata": {},
   "source": [
    "input array = [8,2,7,6,9,4]\n",
    "\n",
    "output = [2,4,6,7,8,9]\n",
    "\n",
    "{  Base  }   \n",
    "\n",
    "{  hypothesis }  \n",
    "\n",
    "{  Induction  }"
   ]
  },
  {
   "cell_type": "code",
   "execution_count": 1,
   "id": "a59588af",
   "metadata": {},
   "outputs": [
    {
     "name": "stdout",
     "output_type": "stream",
     "text": [
      "Original Array ---> [2, 3, 7, 6, 9, 4]\n",
      "Modified Array ---> [2, 3, 4, 6, 7, 9]\n"
     ]
    }
   ],
   "source": [
    "def sort(testVariable, length):\n",
    "    # Base case\n",
    "    if length <= 1 :\n",
    "        return\n",
    "\n",
    "    # Recursive case\n",
    "    # Sort first n-1 elements\n",
    "    sort(testVariable, length - 1)\n",
    "\n",
    "    # Insert last element at its correct position in sorted array\n",
    "    lastElement = testVariable[length - 1] # fetch the last element\n",
    "    temp = length - 2 # start finding its correct location from one element before it\n",
    "\n",
    "    # Move elements of testVariable[0..i-1], that are greater than key, to one position ahead of their current position \n",
    "    while (temp >= 0 and testVariable[temp] > lastElement):\n",
    "        testVariable[temp + 1] = testVariable[temp]\n",
    "        temp = temp - 1\n",
    "\n",
    "    testVariable[temp + 1] = lastElement # place the element in its correct position\n",
    "\n",
    "\n",
    "# Driver Code\n",
    "testVariable = [2,3,7,6,9,4]\n",
    "print(\"Original Array ---> \" + str(testVariable))\n",
    "\n",
    "sort(testVariable, len(testVariable))\n",
    "print(\"Modified Array ---> \" + str(testVariable))"
   ]
  },
  {
   "cell_type": "code",
   "execution_count": 64,
   "id": "988fea95",
   "metadata": {},
   "outputs": [
    {
     "name": "stdout",
     "output_type": "stream",
     "text": [
      "Original Array ---> [2, 3, 7, 6, 5, 9, 4]\n",
      "Modified Array ---> [2, 3, 4, 5, 6, 7, 9]\n"
     ]
    }
   ],
   "source": [
    "def sort(testVariable, length):\n",
    "    # Base case\n",
    "    if length <= 1 :\n",
    "        return\n",
    "\n",
    "    sort(testVariable, length - 1)\n",
    "    \n",
    "    lastElement = testVariable[length - 1] \n",
    "    temp = length - 2 \n",
    "\n",
    "    while (temp >= 0 and testVariable[temp] > lastElement):\n",
    "        testVariable[temp + 1] = testVariable[temp]\n",
    "        temp = temp - 1\n",
    "\n",
    "    testVariable[temp + 1] = lastElement \n",
    "\n",
    "\n",
    "# Driver Code\n",
    "testVariable = [2,3,7,6,5,9,4]\n",
    "n = len(testVariable)\n",
    "print(\"Original Array ---> \" + str(testVariable))\n",
    "\n",
    "sort(testVariable, n)\n",
    "print(\"Modified Array ---> \" + str(testVariable))"
   ]
  },
  {
   "cell_type": "code",
   "execution_count": 4,
   "id": "5751842a",
   "metadata": {},
   "outputs": [
    {
     "name": "stdout",
     "output_type": "stream",
     "text": [
      "[8, 2, 7, 6, 9]\n"
     ]
    },
    {
     "ename": "IndexError",
     "evalue": "pop from empty list",
     "output_type": "error",
     "traceback": [
      "\u001b[1;31m---------------------------------------------------------------------------\u001b[0m",
      "\u001b[1;31mIndexError\u001b[0m                                Traceback (most recent call last)",
      "Cell \u001b[1;32mIn [4], line 23\u001b[0m\n\u001b[0;32m     20\u001b[0m array \u001b[38;5;241m=\u001b[39m [\u001b[38;5;241m8\u001b[39m,\u001b[38;5;241m2\u001b[39m,\u001b[38;5;241m7\u001b[39m,\u001b[38;5;241m6\u001b[39m,\u001b[38;5;241m9\u001b[39m,\u001b[38;5;241m4\u001b[39m]\n\u001b[0;32m     21\u001b[0m length \u001b[38;5;241m=\u001b[39m \u001b[38;5;28mlen\u001b[39m(array)\n\u001b[1;32m---> 23\u001b[0m sorting(array,length)\n",
      "Cell \u001b[1;32mIn [4], line 6\u001b[0m, in \u001b[0;36msorting\u001b[1;34m(arr, length)\u001b[0m\n\u001b[0;32m      3\u001b[0m \u001b[38;5;28;01mif\u001b[39;00m length \u001b[38;5;241m<\u001b[39m\u001b[38;5;241m=\u001b[39m \u001b[38;5;241m1\u001b[39m :\n\u001b[0;32m      4\u001b[0m     \u001b[38;5;28;01mreturn\u001b[39;00m\n\u001b[1;32m----> 6\u001b[0m \u001b[43msorting\u001b[49m\u001b[43m(\u001b[49m\u001b[43marr\u001b[49m\u001b[43m,\u001b[49m\u001b[43m \u001b[49m\u001b[43mlength\u001b[49m\u001b[43m \u001b[49m\u001b[38;5;241;43m-\u001b[39;49m\u001b[43m \u001b[49m\u001b[38;5;241;43m1\u001b[39;49m\u001b[43m)\u001b[49m\n\u001b[0;32m      7\u001b[0m arr\u001b[38;5;241m.\u001b[39mpop()\n\u001b[0;32m      8\u001b[0m \u001b[38;5;28mprint\u001b[39m(arr)\n",
      "Cell \u001b[1;32mIn [4], line 6\u001b[0m, in \u001b[0;36msorting\u001b[1;34m(arr, length)\u001b[0m\n\u001b[0;32m      3\u001b[0m \u001b[38;5;28;01mif\u001b[39;00m length \u001b[38;5;241m<\u001b[39m\u001b[38;5;241m=\u001b[39m \u001b[38;5;241m1\u001b[39m :\n\u001b[0;32m      4\u001b[0m     \u001b[38;5;28;01mreturn\u001b[39;00m\n\u001b[1;32m----> 6\u001b[0m \u001b[43msorting\u001b[49m\u001b[43m(\u001b[49m\u001b[43marr\u001b[49m\u001b[43m,\u001b[49m\u001b[43m \u001b[49m\u001b[43mlength\u001b[49m\u001b[43m \u001b[49m\u001b[38;5;241;43m-\u001b[39;49m\u001b[43m \u001b[49m\u001b[38;5;241;43m1\u001b[39;49m\u001b[43m)\u001b[49m\n\u001b[0;32m      7\u001b[0m arr\u001b[38;5;241m.\u001b[39mpop()\n\u001b[0;32m      8\u001b[0m \u001b[38;5;28mprint\u001b[39m(arr)\n",
      "    \u001b[1;31m[... skipping similar frames: sorting at line 6 (1 times)]\u001b[0m\n",
      "Cell \u001b[1;32mIn [4], line 6\u001b[0m, in \u001b[0;36msorting\u001b[1;34m(arr, length)\u001b[0m\n\u001b[0;32m      3\u001b[0m \u001b[38;5;28;01mif\u001b[39;00m length \u001b[38;5;241m<\u001b[39m\u001b[38;5;241m=\u001b[39m \u001b[38;5;241m1\u001b[39m :\n\u001b[0;32m      4\u001b[0m     \u001b[38;5;28;01mreturn\u001b[39;00m\n\u001b[1;32m----> 6\u001b[0m \u001b[43msorting\u001b[49m\u001b[43m(\u001b[49m\u001b[43marr\u001b[49m\u001b[43m,\u001b[49m\u001b[43m \u001b[49m\u001b[43mlength\u001b[49m\u001b[43m \u001b[49m\u001b[38;5;241;43m-\u001b[39;49m\u001b[43m \u001b[49m\u001b[38;5;241;43m1\u001b[39;49m\u001b[43m)\u001b[49m\n\u001b[0;32m      7\u001b[0m arr\u001b[38;5;241m.\u001b[39mpop()\n\u001b[0;32m      8\u001b[0m \u001b[38;5;28mprint\u001b[39m(arr)\n",
      "Cell \u001b[1;32mIn [4], line 10\u001b[0m, in \u001b[0;36msorting\u001b[1;34m(arr, length)\u001b[0m\n\u001b[0;32m      7\u001b[0m arr\u001b[38;5;241m.\u001b[39mpop()\n\u001b[0;32m      8\u001b[0m \u001b[38;5;28mprint\u001b[39m(arr)\n\u001b[1;32m---> 10\u001b[0m \u001b[43minsert\u001b[49m\u001b[43m(\u001b[49m\u001b[43marr\u001b[49m\u001b[43m,\u001b[49m\u001b[38;5;28;43mlen\u001b[39;49m\u001b[43m(\u001b[49m\u001b[43marr\u001b[49m\u001b[43m)\u001b[49m\u001b[43m)\u001b[49m\n",
      "Cell \u001b[1;32mIn [3], line 3\u001b[0m, in \u001b[0;36minsert\u001b[1;34m(arr, size)\u001b[0m\n\u001b[0;32m      1\u001b[0m \u001b[38;5;28;01mdef\u001b[39;00m \u001b[38;5;21minsert\u001b[39m(arr,size):\n\u001b[0;32m      2\u001b[0m     temp \u001b[38;5;241m=\u001b[39m arr\u001b[38;5;241m.\u001b[39mpop()  \n\u001b[1;32m----> 3\u001b[0m     \u001b[43minsert\u001b[49m\u001b[43m(\u001b[49m\u001b[43marr\u001b[49m\u001b[43m,\u001b[49m\u001b[43msize\u001b[49m\u001b[38;5;241;43m-\u001b[39;49m\u001b[38;5;241;43m1\u001b[39;49m\u001b[43m)\u001b[49m\n",
      "Cell \u001b[1;32mIn [3], line 3\u001b[0m, in \u001b[0;36minsert\u001b[1;34m(arr, size)\u001b[0m\n\u001b[0;32m      1\u001b[0m \u001b[38;5;28;01mdef\u001b[39;00m \u001b[38;5;21minsert\u001b[39m(arr,size):\n\u001b[0;32m      2\u001b[0m     temp \u001b[38;5;241m=\u001b[39m arr\u001b[38;5;241m.\u001b[39mpop()  \n\u001b[1;32m----> 3\u001b[0m     \u001b[43minsert\u001b[49m\u001b[43m(\u001b[49m\u001b[43marr\u001b[49m\u001b[43m,\u001b[49m\u001b[43msize\u001b[49m\u001b[38;5;241;43m-\u001b[39;49m\u001b[38;5;241;43m1\u001b[39;49m\u001b[43m)\u001b[49m\n",
      "    \u001b[1;31m[... skipping similar frames: insert at line 3 (2 times)]\u001b[0m\n",
      "Cell \u001b[1;32mIn [3], line 3\u001b[0m, in \u001b[0;36minsert\u001b[1;34m(arr, size)\u001b[0m\n\u001b[0;32m      1\u001b[0m \u001b[38;5;28;01mdef\u001b[39;00m \u001b[38;5;21minsert\u001b[39m(arr,size):\n\u001b[0;32m      2\u001b[0m     temp \u001b[38;5;241m=\u001b[39m arr\u001b[38;5;241m.\u001b[39mpop()  \n\u001b[1;32m----> 3\u001b[0m     \u001b[43minsert\u001b[49m\u001b[43m(\u001b[49m\u001b[43marr\u001b[49m\u001b[43m,\u001b[49m\u001b[43msize\u001b[49m\u001b[38;5;241;43m-\u001b[39;49m\u001b[38;5;241;43m1\u001b[39;49m\u001b[43m)\u001b[49m\n",
      "Cell \u001b[1;32mIn [3], line 2\u001b[0m, in \u001b[0;36minsert\u001b[1;34m(arr, size)\u001b[0m\n\u001b[0;32m      1\u001b[0m \u001b[38;5;28;01mdef\u001b[39;00m \u001b[38;5;21minsert\u001b[39m(arr,size):\n\u001b[1;32m----> 2\u001b[0m     temp \u001b[38;5;241m=\u001b[39m \u001b[43marr\u001b[49m\u001b[38;5;241;43m.\u001b[39;49m\u001b[43mpop\u001b[49m\u001b[43m(\u001b[49m\u001b[43m)\u001b[49m  \n\u001b[0;32m      3\u001b[0m     insert(arr,size\u001b[38;5;241m-\u001b[39m\u001b[38;5;241m1\u001b[39m)\n",
      "\u001b[1;31mIndexError\u001b[0m: pop from empty list"
     ]
    }
   ],
   "source": [
    "def sorting(arr, length):\n",
    "    # Base case\n",
    "    if length <= 1 :\n",
    "        return\n",
    "\n",
    "    sorting(arr, length - 1)\n",
    "    arr.pop()\n",
    "    print(arr)\n",
    "    \n",
    "    insert(arr,len(arr))\n",
    "#     temp = arr[len(arr)-1]\n",
    "#     if arr[len(arr)-1] < arr[len(arr)-2]:\n",
    "#         arr[len(arr)-1] = arr[len(arr)-2]\n",
    "#         arr[len(arr)-2] = temp\n",
    "    \n",
    "\n",
    "\n",
    "    \n",
    "    \n",
    "array = [8,2,7,6,9,4]\n",
    "length = len(array)\n",
    "\n",
    "sorting(array,length)"
   ]
  },
  {
   "cell_type": "code",
   "execution_count": 3,
   "id": "63b96f96",
   "metadata": {},
   "outputs": [],
   "source": [
    "def insert(arr,size):\n",
    "    temp = arr.pop()  \n",
    "    insert(arr,size-1)\n",
    "    \n",
    "    "
   ]
  },
  {
   "cell_type": "code",
   "execution_count": 5,
   "id": "620cdd68",
   "metadata": {},
   "outputs": [
    {
     "data": {
      "text/plain": [
       "[2, 3, 7, 6, 4, 5, 9]"
      ]
     },
     "execution_count": 5,
     "metadata": {},
     "output_type": "execute_result"
    }
   ],
   "source": [
    "b = [2,3,7,6,5,9,4]\n",
    "x = b.pop()\n",
    "b.insert(4, x) \n",
    "b"
   ]
  },
  {
   "cell_type": "code",
   "execution_count": 6,
   "id": "f824f78b",
   "metadata": {},
   "outputs": [
    {
     "name": "stdout",
     "output_type": "stream",
     "text": [
      "[1, 1, 1, 1, 2, 3, 4, 5, 6, 9]\n"
     ]
    }
   ],
   "source": [
    "def insertion(v,temp):\n",
    "    \n",
    "    if(len(v)==0 or v[len(v)-1]<temp): \n",
    "        v.append(temp)\n",
    "        return\n",
    "\n",
    "    x= v[len(v)-1]\n",
    "    v.pop()\n",
    "    insertion(v,temp)\n",
    "    v.append(x)\n",
    "    \n",
    "def sorting(v):\n",
    "    \n",
    "    if(len(v)<=1):\n",
    "        return\n",
    "    temp=v[len(v)-1]\n",
    "    v.pop()\n",
    "    sorting(v)\n",
    "    insertion(v,temp)\n",
    "\n",
    "v=[5,3,2,4,1,1,6,1,1,9]\n",
    "sorting(v)\n",
    "print(v)"
   ]
  },
  {
   "cell_type": "code",
   "execution_count": 115,
   "id": "e86e84e4",
   "metadata": {},
   "outputs": [
    {
     "data": {
      "text/plain": [
       "[1, 1, 2, 3, 4, 5]"
      ]
     },
     "execution_count": 115,
     "metadata": {},
     "output_type": "execute_result"
    }
   ],
   "source": [
    "def insertion(v,temp):\n",
    "    if(len(v)==0 or v[-1]<=temp): \n",
    "        v.append(temp)\n",
    "        return\n",
    "\n",
    "    x= v.pop()\n",
    "    insertion(v,temp)\n",
    "    v.append(x)\n",
    "\n",
    "def Exclusion(v):\n",
    "\n",
    "    if(len(v)<=1):\n",
    "        return\n",
    "    temp = v.pop()\n",
    "    Exclusion(v)\n",
    "    insertion(v,temp)\n",
    "    \n",
    "def sorting(v):\n",
    "    Exclusion(v)\n",
    "    return v\n",
    "\n",
    "v=[5,3,2,4,1,1]\n",
    "sorting(v)"
   ]
  },
  {
   "cell_type": "code",
   "execution_count": 123,
   "id": "fef9fa3f",
   "metadata": {},
   "outputs": [
    {
     "data": {
      "text/plain": [
       "[3, 2, 4, 5, 4, 1, 4]"
      ]
     },
     "execution_count": 123,
     "metadata": {},
     "output_type": "execute_result"
    }
   ],
   "source": [
    "def Exclusion(v):\n",
    "\n",
    "    if(len(v)<=1):\n",
    "        return\n",
    "    temp = v.pop()\n",
    "    Exclusion(v)\n",
    "    for i in range(len(v)):\n",
    "        if temp<=v[i]:\n",
    "            v.insert(i,temp)\n",
    "    v.insert(i,temp)\n",
    "\n",
    "v=[5,3,2,4,1]\n",
    "Exclusion(v)\n",
    "v"
   ]
  },
  {
   "cell_type": "code",
   "execution_count": 142,
   "id": "30803e65",
   "metadata": {},
   "outputs": [
    {
     "name": "stdout",
     "output_type": "stream",
     "text": [
      "[12, 12, 13, 5, 6]\n",
      "[11, 12, 13, 13, 6]\n",
      "[11, 12, 12, 13, 6]\n",
      "[11, 11, 12, 13, 6]\n",
      "[5, 11, 12, 13, 13]\n",
      "[5, 11, 12, 12, 13]\n",
      "[5, 11, 11, 12, 13]\n",
      "sorted array:  [5, 6, 11, 12, 13]\n"
     ]
    }
   ],
   "source": [
    "arr = [12, 11, 13, 5, 6]\n",
    "for i in range(1, len(arr)):\n",
    "  \n",
    "    key = arr[i]\n",
    "\n",
    "    # Move elements of arr[0..i-1], that are\n",
    "    # greater than key, to one position ahead\n",
    "    # of their current position\n",
    "    j = i-1\n",
    "#    print(j,key,arr[j])\n",
    "    \n",
    "    while j >=0 and key < arr[j] :\n",
    "            arr[j+1] = arr[j]\n",
    "            j -= 1\n",
    "            print(arr)\n",
    "    arr[j+1] = key\n",
    "print(\"sorted array: \", arr)"
   ]
  },
  {
   "cell_type": "code",
   "execution_count": 2,
   "id": "f9078a3e",
   "metadata": {},
   "outputs": [
    {
     "data": {
      "text/plain": [
       "[1, 2, 5, 6]"
      ]
     },
     "execution_count": 2,
     "metadata": {},
     "output_type": "execute_result"
    }
   ],
   "source": [
    "def insertion(v,temp):\n",
    "    if(len(v)==0 or v[len(v)-1]<temp):\n",
    "        v.append(temp)\n",
    "        return\n",
    "    x = v.pop()\n",
    "    insertion(v,temp)\n",
    "    v.append(x)\n",
    "\n",
    "v = [1,5,6]\n",
    "temp = 2\n",
    "insertion(v,temp)\n",
    "v"
   ]
  }
 ],
 "metadata": {
  "kernelspec": {
   "display_name": "Python 3.9.12 ('base')",
   "language": "python",
   "name": "python3"
  },
  "language_info": {
   "codemirror_mode": {
    "name": "ipython",
    "version": 3
   },
   "file_extension": ".py",
   "mimetype": "text/x-python",
   "name": "python",
   "nbconvert_exporter": "python",
   "pygments_lexer": "ipython3",
   "version": "3.9.12"
  },
  "vscode": {
   "interpreter": {
    "hash": "9a26911e402c31d7288b33c759a9769dc74dc3f022c732e87c213a9e0296918f"
   }
  }
 },
 "nbformat": 4,
 "nbformat_minor": 5
}
