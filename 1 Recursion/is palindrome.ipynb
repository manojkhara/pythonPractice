{
 "cells": [
  {
   "cell_type": "code",
   "execution_count": 15,
   "id": "537bfb11",
   "metadata": {},
   "outputs": [
    {
     "name": "stdout",
     "output_type": "stream",
     "text": [
      "99\n"
     ]
    },
    {
     "data": {
      "text/plain": [
       "True"
      ]
     },
     "execution_count": 15,
     "metadata": {},
     "output_type": "execute_result"
    }
   ],
   "source": [
    "# Iterative Solution\n",
    "\n",
    "def palindrome(n):\n",
    "    rev= 0\n",
    "    m = n\n",
    "    while n>0:\n",
    "        rev = rev*10 + n%10\n",
    "        n = n//10\n",
    "        \n",
    "    if m==rev:\n",
    "        return True\n",
    "    else:\n",
    "        return False\n",
    "palindrome(99)"
   ]
  },
  {
   "cell_type": "code",
   "execution_count": 33,
   "id": "d508c6e0",
   "metadata": {},
   "outputs": [
    {
     "data": {
      "text/plain": [
       "64"
      ]
     },
     "execution_count": 33,
     "metadata": {},
     "output_type": "execute_result"
    }
   ],
   "source": [
    "#recursive Solution\n",
    "def recurse(n):\n",
    "    rev = 0\n",
    "    m = n\n",
    "    \n",
    "    if n<10 and n>=0:\n",
    "        return rev + n\n",
    "    rev = rev*10 + n%10\n",
    "    return recurse(n//10) + (n%10)* 10\n",
    "\n",
    "recurse(4321)"
   ]
  },
  {
   "cell_type": "code",
   "execution_count": 16,
   "id": "9807f981",
   "metadata": {},
   "outputs": [
    {
     "name": "stdout",
     "output_type": "stream",
     "text": [
      "Enter a value: 121\n",
      "The input is a palindrome\n"
     ]
    }
   ],
   "source": [
    "def check_palindrome(v):\n",
    "    if len(v) < 1:\n",
    "        return True\n",
    "    else:\n",
    "        if v[0] == v[-1]:\n",
    "            return check_palindrome(v[1:-1])\n",
    "        else:\n",
    "            return False\n",
    "var = input((\"Enter a value: \"))\n",
    "if(check_palindrome(var)):\n",
    "    print(\"The input is a palindrome\")\n",
    "else:\n",
    "    print(\"The input is not a palindrome\")"
   ]
  },
  {
   "cell_type": "code",
   "execution_count": 62,
   "id": "2ef02937",
   "metadata": {},
   "outputs": [
    {
     "name": "stdout",
     "output_type": "stream",
     "text": [
      "Yes\n",
      "No\n",
      "Yes\n",
      "No\n"
     ]
    }
   ],
   "source": [
    "# A recursive Python3 program to check\n",
    "# whether a given number is palindrome or not\n",
    "\n",
    "# A function that returns true\n",
    "# only if num contains one digit\n",
    "def oneDigit(num):\n",
    "\t\n",
    "\t# comparison operation is faster\n",
    "\t# than division operation. So\n",
    "\t# using following instead of\n",
    "\t# \"return num / 10 == 0;\"\n",
    "\treturn ((num >= 0) and (num < 10))\n",
    "\n",
    "# A recursive function to find\n",
    "# out whether num is palindrome\n",
    "# or not. Initially, dupNum\n",
    "# contains address of a copy of num.\n",
    "def isPalUtil(num, dupNum):\n",
    "\t\n",
    "\t# Base case (needed for recursion\n",
    "\t# termination): This statement\n",
    "\t# mainly compares the first digit\n",
    "\t# with the last digit\n",
    "\tif oneDigit(num):\n",
    "\t\treturn (num == (dupNum[0]) % 10)\n",
    "\n",
    "\t# This is the key line in this\n",
    "\t# method. Note that all recursive\n",
    "\t# calls have a separate copy of\n",
    "\t# num, but they all share same\n",
    "\t# copy of *dupNum. We divide num\n",
    "\t# while moving up the recursion tree\n",
    "\tif not isPalUtil(num //10, dupNum):\n",
    "\t\treturn False\n",
    "\n",
    "\t# The following statements are\n",
    "\t# executed when we move up the\n",
    "\t# recursion call tree\n",
    "\tdupNum[0] = dupNum[0] //10\n",
    "\n",
    "\t# At this point, if num%10\n",
    "\t# contains i'th digit from\n",
    "\t# beginning, then (*dupNum)%10\n",
    "\t# contains i'th digit from end\n",
    "\treturn (num % 10 == (dupNum[0]) % 10)\n",
    "\n",
    "# The main function that uses\n",
    "# recursive function isPalUtil()\n",
    "# to find out whether num is\n",
    "# palindrome or not\n",
    "def isPal(num):\n",
    "\t# If num is negative,\n",
    "\t# make it positive\n",
    "\tif (num < 0):\n",
    "\t\tnum = (-num)\n",
    "\n",
    "\t# Create a separate copy of\n",
    "\t# num, so that modifications\n",
    "\t# made to address dupNum\n",
    "\t# don't change the input number.\n",
    "\tdupNum = [num] # *dupNum = num\n",
    "\n",
    "\treturn isPalUtil(num, dupNum)\n",
    "\n",
    "# Driver Code\n",
    "n = 12321\n",
    "if isPal(n):\n",
    "\tprint(\"Yes\")\n",
    "else:\n",
    "\tprint(\"No\")\n",
    "\n",
    "n = 12\n",
    "if isPal(n) :\n",
    "\tprint(\"Yes\")\n",
    "else:\n",
    "\tprint(\"No\")\n",
    "\n",
    "n = 88\n",
    "if isPal(n) :\n",
    "\tprint(\"Yes\")\n",
    "else:\n",
    "\tprint(\"No\")\n",
    "\n",
    "n = 8999\n",
    "if isPal(n) :\n",
    "\tprint(\"Yes\")\n",
    "else:\n",
    "\tprint(\"No\")\n",
    "\n",
    "# This code is contributed by mits\n"
   ]
  },
  {
   "cell_type": "code",
   "execution_count": 63,
   "id": "d42956b2",
   "metadata": {},
   "outputs": [
    {
     "name": "stdout",
     "output_type": "stream",
     "text": [
      "True\n"
     ]
    }
   ],
   "source": [
    "num = 5\n",
    "print((num >= 0) and (num < 10))"
   ]
  },
  {
   "cell_type": "code",
   "execution_count": 8,
   "id": "3356ff79",
   "metadata": {},
   "outputs": [
    {
     "name": "stdout",
     "output_type": "stream",
     "text": [
      "not a palindrome\n"
     ]
    }
   ],
   "source": [
    "number = 557\n",
    "dummy = number\n",
    "variable = 0\n",
    "while dummy>0:\n",
    "    variable = variable * 10 + dummy%10\n",
    "    dummy = dummy//10\n",
    "\n",
    "if variable == number:\n",
    "    print(\"palindrome\")\n",
    "else:\n",
    "    print(\"not a palindrome\")"
   ]
  },
  {
   "cell_type": "code",
   "execution_count": 19,
   "id": "fb2e42ea",
   "metadata": {},
   "outputs": [
    {
     "name": "stdout",
     "output_type": "stream",
     "text": [
      "not\n"
     ]
    }
   ],
   "source": [
    "def palindrome (number,variable):\n",
    "    if number <10:\n",
    "        variable = variable * 10 + number\n",
    "        return variable\n",
    "    \n",
    "    variable = variable * 10 + number%10\n",
    "    return palindrome (number//10,variable)\n",
    "    \n",
    "num = 124\n",
    "if num == palindrome (num,0):\n",
    "    print(\"palindrome\")\n",
    "else:\n",
    "    print(\"not\")\n",
    "    "
   ]
  },
  {
   "cell_type": "code",
   "execution_count": 28,
   "id": "85bf32be",
   "metadata": {},
   "outputs": [
    {
     "name": "stdout",
     "output_type": "stream",
     "text": [
      "321\n"
     ]
    }
   ],
   "source": [
    "def palindrome (number,variable):\n",
    "    if number == 0:\n",
    "        return variable\n",
    "    \n",
    "    variable = variable * 10 + number%10\n",
    "    return palindrome (number//10,variable)\n",
    "    \n",
    "num = 123\n",
    "print(palindrome (num,0))"
   ]
  },
  {
   "cell_type": "code",
   "execution_count": 35,
   "id": "35e0c337",
   "metadata": {},
   "outputs": [
    {
     "data": {
      "text/plain": [
       "36100"
      ]
     },
     "execution_count": 35,
     "metadata": {},
     "output_type": "execute_result"
    }
   ],
   "source": [
    "#recursive Solution\n",
    "def recurse(n):\n",
    "    rev = 0\n",
    "    m = n\n",
    "    \n",
    "    if n<10 and n>=0:\n",
    "        return n\n",
    "    rev = rev*10 + n%10\n",
    "    return recurse(n//10) + (n%10)* 10*\n",
    "\n",
    "recurse(4321)"
   ]
  },
  {
   "cell_type": "code",
   "execution_count": 39,
   "id": "d40b3d14",
   "metadata": {},
   "outputs": [
    {
     "name": "stdout",
     "output_type": "stream",
     "text": [
      "2855\n"
     ]
    }
   ],
   "source": [
    "variable = 0\n",
    "def palindrome (number):\n",
    "    global variable\n",
    "    if number == 0:\n",
    "        return variable\n",
    "    \n",
    "    variable = variable * 10 + number%10\n",
    "    return palindrome (number//10)\n",
    "    \n",
    "num = 5582\n",
    "print(palindrome (num))"
   ]
  },
  {
   "cell_type": "code",
   "execution_count": null,
   "id": "2cf538f2",
   "metadata": {},
   "outputs": [],
   "source": []
  }
 ],
 "metadata": {
  "kernelspec": {
   "display_name": "Python 3",
   "language": "python",
   "name": "python3"
  },
  "language_info": {
   "codemirror_mode": {
    "name": "ipython",
    "version": 3
   },
   "file_extension": ".py",
   "mimetype": "text/x-python",
   "name": "python",
   "nbconvert_exporter": "python",
   "pygments_lexer": "ipython3",
   "version": "3.8.8"
  }
 },
 "nbformat": 4,
 "nbformat_minor": 5
}
