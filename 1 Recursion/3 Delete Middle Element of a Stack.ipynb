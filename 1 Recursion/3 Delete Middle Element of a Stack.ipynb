{
 "cells": [
  {
   "cell_type": "code",
   "execution_count": 30,
   "id": "59c3009a",
   "metadata": {},
   "outputs": [
    {
     "name": "stdout",
     "output_type": "stream",
     "text": [
      "[1, 2, 4, 6]\n"
     ]
    }
   ],
   "source": [
    "def DeleteMiddle(stack,k):\n",
    "    if k==1:\n",
    "        stack.pop()\n",
    "        return\n",
    "    x = stack.pop()\n",
    "    DeleteMiddle(stack,k-1)\n",
    "    stack.append(x)\n",
    "    \n",
    "stack = [1,2,3,4,6]\n",
    "k = (len(stack)//2)+1\n",
    "DeleteMiddle(stack,k)\n",
    "\n",
    "print(stack)"
   ]
  },
  {
   "cell_type": "code",
   "execution_count": null,
   "id": "da1d00f3",
   "metadata": {},
   "outputs": [],
   "source": []
  }
 ],
 "metadata": {
  "kernelspec": {
   "display_name": "Python 3",
   "language": "python",
   "name": "python3"
  },
  "language_info": {
   "codemirror_mode": {
    "name": "ipython",
    "version": 3
   },
   "file_extension": ".py",
   "mimetype": "text/x-python",
   "name": "python",
   "nbconvert_exporter": "python",
   "pygments_lexer": "ipython3",
   "version": "3.8.8"
  }
 },
 "nbformat": 4,
 "nbformat_minor": 5
}
