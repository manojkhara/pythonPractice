{
 "cells": [
  {
   "cell_type": "code",
   "execution_count": 16,
   "id": "aa0967eb",
   "metadata": {},
   "outputs": [
    {
     "data": {
      "text/plain": [
       "[6, 5, 3, 8, 9, 1]"
      ]
     },
     "execution_count": 16,
     "metadata": {},
     "output_type": "execute_result"
    }
   ],
   "source": [
    "def inserting(stack,temp):\n",
    "    if len(stack)==0:\n",
    "        stack.append(temp)\n",
    "        return\n",
    "    \n",
    "    x = stack.pop()\n",
    "    inserting(stack,temp)\n",
    "    stack.append(x)\n",
    "    \n",
    "\n",
    "def ReverseStack(stack):\n",
    "    \n",
    "    if len(stack)==0:\n",
    "        return\n",
    "    temp = stack.pop()\n",
    "    ReverseStack(stack)\n",
    "    inserting(stack,temp)\n",
    "    \n",
    "    \n",
    "stack = [1,9,8,3,5,6]\n",
    "ReverseStack(stack)\n",
    "stack"
   ]
  },
  {
   "cell_type": "code",
   "execution_count": null,
   "id": "b9ef00ed",
   "metadata": {},
   "outputs": [],
   "source": []
  }
 ],
 "metadata": {
  "kernelspec": {
   "display_name": "Python 3",
   "language": "python",
   "name": "python3"
  },
  "language_info": {
   "codemirror_mode": {
    "name": "ipython",
    "version": 3
   },
   "file_extension": ".py",
   "mimetype": "text/x-python",
   "name": "python",
   "nbconvert_exporter": "python",
   "pygments_lexer": "ipython3",
   "version": "3.8.8"
  }
 },
 "nbformat": 4,
 "nbformat_minor": 5
}
