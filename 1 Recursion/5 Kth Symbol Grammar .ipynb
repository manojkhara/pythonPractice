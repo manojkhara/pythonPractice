{
 "cells": [
  {
   "cell_type": "code",
   "execution_count": 40,
   "id": "15933366",
   "metadata": {},
   "outputs": [
    {
     "name": "stdout",
     "output_type": "stream",
     "text": [
      "1\n"
     ]
    }
   ],
   "source": [
    "# iterative\n",
    "n = 4\n",
    "k = 5\n",
    "length = 2**(n-1)\n",
    "\n",
    "inverse = False\n",
    "\n",
    "while length>1:      \n",
    "    if k > length//2:\n",
    "        inverse = not inverse\n",
    "        k -= length//2\n",
    "        \n",
    "    length//=2\n",
    "            \n",
    "print(int(inverse))\n"
   ]
  },
  {
   "cell_type": "code",
   "execution_count": 42,
   "id": "4430c3ef",
   "metadata": {},
   "outputs": [
    {
     "data": {
      "text/plain": [
       "1"
      ]
     },
     "execution_count": 42,
     "metadata": {},
     "output_type": "execute_result"
    }
   ],
   "source": [
    "# Recursive\n",
    "\n",
    "def kthGrammar(n,k):\n",
    "    if(n==1 & k==1):\n",
    "        return 0\n",
    "    \n",
    "    mid= pow(2,n-2)\n",
    "    \n",
    "    if(k<=mid):\n",
    "        return kthGrammar(n-1,k)\n",
    "    \n",
    "    return int(not kthGrammar(n-1,k-mid))\n",
    "\n",
    "kthGrammar(4,5)"
   ]
  },
  {
   "cell_type": "code",
   "execution_count": null,
   "id": "d2ab7dab",
   "metadata": {},
   "outputs": [],
   "source": []
  }
 ],
 "metadata": {
  "kernelspec": {
   "display_name": "Python 3",
   "language": "python",
   "name": "python3"
  },
  "language_info": {
   "codemirror_mode": {
    "name": "ipython",
    "version": 3
   },
   "file_extension": ".py",
   "mimetype": "text/x-python",
   "name": "python",
   "nbconvert_exporter": "python",
   "pygments_lexer": "ipython3",
   "version": "3.8.8"
  }
 },
 "nbformat": 4,
 "nbformat_minor": 5
}
