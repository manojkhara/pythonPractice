{
 "cells": [
  {
   "cell_type": "code",
   "execution_count": 16,
   "id": "0f03df2f",
   "metadata": {},
   "outputs": [],
   "source": [
    "# youtube NoobCoder\n",
    "# stack is LIFO\n",
    "\n",
    "class Stack:\n",
    "    def __init__(self,capacity):\n",
    "        self.storage = [None] * capacity\n",
    "        self.top = -1\n",
    "        \n",
    "    def Push(self,data):\n",
    "        if (self.isFull()):\n",
    "            raise Exception('stack is full')\n",
    "        else:\n",
    "            self.top += 1\n",
    "            self.storage[self.top] = data\n",
    "            \n",
    "    def pop(self):\n",
    "        if self.top == -1:\n",
    "            return None\n",
    "        else:\n",
    "            data = self.storage[self.top]\n",
    "            self.top -= 1\n",
    "            return data\n",
    "    def getSize(self):\n",
    "        return self.top + 1\n",
    "\n",
    "    def peek(self):\n",
    "        return self.storage[self.top]   # returns the  topmost element\n",
    "    \n",
    "    def isFull(self):\n",
    "        return self.getSize() == len(self.storage)\n",
    "    "
   ]
  },
  {
   "cell_type": "code",
   "execution_count": 23,
   "id": "902907fc",
   "metadata": {},
   "outputs": [],
   "source": [
    "s1 = Stack(5)"
   ]
  },
  {
   "cell_type": "code",
   "execution_count": 24,
   "id": "7ada74b7",
   "metadata": {},
   "outputs": [],
   "source": [
    "for i in range(5):\n",
    "    s1.Push(i)"
   ]
  },
  {
   "cell_type": "code",
   "execution_count": 25,
   "id": "93919518",
   "metadata": {},
   "outputs": [
    {
     "data": {
      "text/plain": [
       "5"
      ]
     },
     "execution_count": 25,
     "metadata": {},
     "output_type": "execute_result"
    }
   ],
   "source": [
    "s1.getSize()"
   ]
  },
  {
   "cell_type": "code",
   "execution_count": 26,
   "id": "9b2fef64",
   "metadata": {},
   "outputs": [
    {
     "data": {
      "text/plain": [
       "True"
      ]
     },
     "execution_count": 26,
     "metadata": {},
     "output_type": "execute_result"
    }
   ],
   "source": [
    "s1.isFull()"
   ]
  },
  {
   "cell_type": "code",
   "execution_count": 27,
   "id": "aa585424",
   "metadata": {},
   "outputs": [
    {
     "data": {
      "text/plain": [
       "4"
      ]
     },
     "execution_count": 27,
     "metadata": {},
     "output_type": "execute_result"
    }
   ],
   "source": [
    "s1.peek()"
   ]
  },
  {
   "cell_type": "code",
   "execution_count": 28,
   "id": "bfc81c01",
   "metadata": {},
   "outputs": [
    {
     "data": {
      "text/plain": [
       "4"
      ]
     },
     "execution_count": 28,
     "metadata": {},
     "output_type": "execute_result"
    }
   ],
   "source": [
    "s1.pop()"
   ]
  },
  {
   "cell_type": "code",
   "execution_count": 30,
   "id": "f05a1dc0",
   "metadata": {},
   "outputs": [],
   "source": [
    "s1.Push(7)"
   ]
  },
  {
   "cell_type": "code",
   "execution_count": 31,
   "id": "1b5dbc04",
   "metadata": {},
   "outputs": [
    {
     "data": {
      "text/plain": [
       "5"
      ]
     },
     "execution_count": 31,
     "metadata": {},
     "output_type": "execute_result"
    }
   ],
   "source": [
    "s1.getSize()"
   ]
  },
  {
   "cell_type": "code",
   "execution_count": null,
   "id": "b156e227",
   "metadata": {},
   "outputs": [],
   "source": []
  }
 ],
 "metadata": {
  "kernelspec": {
   "display_name": "Python 3 (ipykernel)",
   "language": "python",
   "name": "python3"
  },
  "language_info": {
   "codemirror_mode": {
    "name": "ipython",
    "version": 3
   },
   "file_extension": ".py",
   "mimetype": "text/x-python",
   "name": "python",
   "nbconvert_exporter": "python",
   "pygments_lexer": "ipython3",
   "version": "3.9.12"
  }
 },
 "nbformat": 4,
 "nbformat_minor": 5
}
