{
 "cells": [
  {
   "cell_type": "code",
   "execution_count": 25,
   "id": "aa0ffc09",
   "metadata": {},
   "outputs": [
    {
     "data": {
      "text/plain": [
       "[1, 2, 2, 3, 5, 6]"
      ]
     },
     "execution_count": 25,
     "metadata": {},
     "output_type": "execute_result"
    }
   ],
   "source": [
    "nums1 = [1,2,3,0,0,0] \n",
    "m = 3\n",
    "nums2 = [2,5,6]\n",
    "n = 3\n",
    "\n",
    "nums1 = nums1[0:m] + nums2\n",
    "nums1.sort()\n",
    "nums1"
   ]
  },
  {
   "cell_type": "code",
   "execution_count": 28,
   "id": "ebea087d",
   "metadata": {},
   "outputs": [
    {
     "data": {
      "text/plain": [
       "[1, 2, 2, 2, 5, 6]"
      ]
     },
     "execution_count": 28,
     "metadata": {},
     "output_type": "execute_result"
    }
   ],
   "source": [
    "i = m-1\n",
    "j = n-1\n",
    "k = m+n-1\n",
    "\n",
    "while i>=0 and j>=0:\n",
    "    if nums1[i] > nums2[j]:\n",
    "        nums1[k] = nums1[i]\n",
    "    else:\n",
    "        nums1[k] = nums2[j]\n",
    "        j -=1\n",
    "    k -=1\n",
    "\n",
    "if i<0:\n",
    "    nums1[:k+1] = nums2[:j+1]\n",
    "\n",
    "nums1"
   ]
  },
  {
   "cell_type": "code",
   "execution_count": 45,
   "id": "64ff0c59",
   "metadata": {},
   "outputs": [
    {
     "ename": "SyntaxError",
     "evalue": "invalid syntax (<ipython-input-45-c014d8560878>, line 11)",
     "output_type": "error",
     "traceback": [
      "\u001b[1;36m  File \u001b[1;32m\"<ipython-input-45-c014d8560878>\"\u001b[1;36m, line \u001b[1;32m11\u001b[0m\n\u001b[1;33m    for k in range(len(mat[0]):\u001b[0m\n\u001b[1;37m                              ^\u001b[0m\n\u001b[1;31mSyntaxError\u001b[0m\u001b[1;31m:\u001b[0m invalid syntax\n"
     ]
    }
   ],
   "source": [
    "mat = [[1,2],[3,4]]\n",
    "r = 1 \n",
    "c = 4\n",
    "print(mat)\n",
    "\n",
    "print(len(mat), len(mat[0]))\n",
    "\n",
    "mat2 = [[None for x in range(c)] for x in range(r)]\n",
    "for i in range(len(mat)):\n",
    "    for j in range(len(mat[0])):\n",
    "        for k in range(len(mat[0]):\n",
    "            \n",
    "                \n",
    "        \n",
    "mat2\n",
    "# mat2 = [[for x in range(c)] for x in range(r)]\n",
    "# for i in range(r):\n",
    "#     for j in range(c):\n",
    "#     mat2[i][j] = mat[i+][]  "
   ]
  },
  {
   "cell_type": "code",
   "execution_count": 43,
   "id": "83653cc5",
   "metadata": {},
   "outputs": [
    {
     "data": {
      "text/plain": [
       "[[None, None, None, None]]"
      ]
     },
     "execution_count": 43,
     "metadata": {},
     "output_type": "execute_result"
    }
   ],
   "source": [
    "mat2 = [[None for x in range(c)] for x in range(r)]\n",
    "mat2"
   ]
  },
  {
   "cell_type": "code",
   "execution_count": 55,
   "id": "e9bbf6d0",
   "metadata": {},
   "outputs": [
    {
     "name": "stdout",
     "output_type": "stream",
     "text": [
      "[19]\n",
      "[43]\n"
     ]
    }
   ],
   "source": [
    "#Program to multiply two matrices using nested loops\n",
    " \n",
    "# take a 3x3 matrix\n",
    "A =[[1,2],[3,4]]\n",
    " \n",
    "# take a 3x4 matrix   \n",
    "B = [[5],[7]]\n",
    "     \n",
    "result = [[0],[0]]\n",
    " \n",
    "# iterating by row of A\n",
    "for i in range(len(A)):\n",
    " \n",
    "    # iterating by column by B\n",
    "    for j in range(len(B[0])):\n",
    " \n",
    "        # iterating by rows of B\n",
    "        for k in range(len(A[0])):\n",
    "            result[i][j] += A[i][k] * B[k][j] \n",
    "\n",
    "\n",
    "for r in result:\n",
    "    print(r)"
   ]
  },
  {
   "cell_type": "code",
   "execution_count": 65,
   "id": "198606a9",
   "metadata": {},
   "outputs": [
    {
     "data": {
      "text/plain": [
       "[[1, 2, 3], [4, 5, 6]]"
      ]
     },
     "execution_count": 65,
     "metadata": {},
     "output_type": "execute_result"
    }
   ],
   "source": [
    "nums = [[1,2],[3,4],[5,6]]\n",
    "r = 2 \n",
    "c = 3\n",
    "ans = [[0 for j in range(c)] for i in range(r)]\n",
    "k = 0\n",
    "\n",
    "for i in nums:\n",
    "    for j in i:\n",
    "        ans[k // c][k % c] = j\n",
    "        k += 1\n",
    "\n",
    "ans"
   ]
  },
  {
   "cell_type": "code",
   "execution_count": 62,
   "id": "b5a1a248",
   "metadata": {},
   "outputs": [
    {
     "name": "stdout",
     "output_type": "stream",
     "text": [
      "[1, 2]\n",
      "[3, 4]\n"
     ]
    }
   ],
   "source": [
    "for i in nums:\n",
    "    print(i)"
   ]
  },
  {
   "cell_type": "code",
   "execution_count": 63,
   "id": "79481a38",
   "metadata": {},
   "outputs": [
    {
     "name": "stdout",
     "output_type": "stream",
     "text": [
      "1\n",
      "2\n",
      "3\n",
      "4\n"
     ]
    }
   ],
   "source": [
    "for i in nums:\n",
    "    for j in i:\n",
    "        print(j)\n",
    "        "
   ]
  },
  {
   "cell_type": "code",
   "execution_count": 79,
   "id": "211e15f8",
   "metadata": {},
   "outputs": [
    {
     "name": "stdout",
     "output_type": "stream",
     "text": [
      "0 0 0 1 1 1\n",
      "0 1 2 0 1 2\n"
     ]
    }
   ],
   "source": [
    "print(0//3,1//3,2//3,3//3,4//3,5//3) # row\n",
    "print(0%3,1%3,2%3,3%3,4%3,5%3)   #column"
   ]
  },
  {
   "cell_type": "code",
   "execution_count": 4,
   "id": "ce481103",
   "metadata": {},
   "outputs": [
    {
     "name": "stdout",
     "output_type": "stream",
     "text": [
      "1\n",
      "2\n",
      "3\n"
     ]
    }
   ],
   "source": [
    "def func(n):\n",
    "    if n==0:\n",
    "        return\n",
    "    func(n-1)\n",
    "    print(n)\n",
    "func(3)"
   ]
  },
  {
   "cell_type": "code",
   "execution_count": 9,
   "id": "308ec6ee",
   "metadata": {},
   "outputs": [
    {
     "name": "stdout",
     "output_type": "stream",
     "text": [
      "0\n",
      "1\n",
      "2\n",
      "loop complete\n"
     ]
    }
   ],
   "source": [
    "def func1(n):\n",
    "    for i in range(n):\n",
    "        print(i)\n",
    "        p\n",
    "    print(\"loop complete\")\n",
    "func1(3)"
   ]
  },
  {
   "cell_type": "code",
   "execution_count": null,
   "id": "9efef482",
   "metadata": {},
   "outputs": [],
   "source": []
  }
 ],
 "metadata": {
  "kernelspec": {
   "display_name": "Python 3",
   "language": "python",
   "name": "python3"
  },
  "language_info": {
   "codemirror_mode": {
    "name": "ipython",
    "version": 3
   },
   "file_extension": ".py",
   "mimetype": "text/x-python",
   "name": "python",
   "nbconvert_exporter": "python",
   "pygments_lexer": "ipython3",
   "version": "3.8.8"
  }
 },
 "nbformat": 4,
 "nbformat_minor": 5
}
