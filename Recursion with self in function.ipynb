{
 "cells": [
  {
   "cell_type": "code",
   "execution_count": 4,
   "id": "79f85cea",
   "metadata": {},
   "outputs": [
    {
     "name": "stdout",
     "output_type": "stream",
     "text": [
      "5\n",
      "1 2 3 4 None\n"
     ]
    }
   ],
   "source": [
    "class Solution:\n",
    "    def fibonacci(self,n):\n",
    "        if n==1 or n==2:\n",
    "            return 1\n",
    "        return self.fibonacci(self,n-1) + self.fibonacci(self,n-2)\n",
    "    \n",
    "    def printTillN(self, N):\n",
    "        if N<1:\n",
    "            return\n",
    "        self.printTillN(self,N-1)\n",
    "        print(N,end = \" \")\n",
    " \n",
    "print(Solution.fibonacci(Solution,5))\n",
    "print(Solution.printTillN(Solution,4))"
   ]
  },
  {
   "cell_type": "code",
   "execution_count": 4,
   "id": "ff3418b2",
   "metadata": {},
   "outputs": [
    {
     "name": "stdout",
     "output_type": "stream",
     "text": [
      "1 2 3 4 "
     ]
    }
   ],
   "source": [
    "#Print 1 to N\n",
    "class Solvent:\n",
    "    def printTillN(self, N):\n",
    "        if N<1:\n",
    "            return\n",
    "        self.printTillN(self,N-1)\n",
    "        print(N,end = \" \")\n",
    "\n",
    "Solvent.printTillN(Solvent,4)"
   ]
  },
  {
   "cell_type": "code",
   "execution_count": 15,
   "id": "72950b46",
   "metadata": {},
   "outputs": [
    {
     "name": "stdout",
     "output_type": "stream",
     "text": [
      "4 3 2 1 "
     ]
    }
   ],
   "source": [
    "class solute:\n",
    "    def PrintNtoOne(self,n):\n",
    "        if n==0:\n",
    "            return \n",
    "        print(n,end = \" \")\n",
    "        self.PrintNtoOne(self,n-1)\n",
    "\n",
    "solute.PrintNtoOne(solute,4)"
   ]
  },
  {
   "cell_type": "code",
   "execution_count": 25,
   "id": "82b5ef40",
   "metadata": {},
   "outputs": [
    {
     "data": {
      "text/plain": [
       "10"
      ]
     },
     "execution_count": 25,
     "metadata": {},
     "output_type": "execute_result"
    }
   ],
   "source": [
    "class arithmatic:\n",
    "    def sumofn(self,n):\n",
    "        if n==1:\n",
    "            return 1\n",
    "        else:\n",
    "            return n + arithmatic.sumofn(self,n-1)\n",
    "\n",
    "num = 4\n",
    "arithmatic.sumofn(arithmatic,num)"
   ]
  },
  {
   "cell_type": "code",
   "execution_count": 31,
   "id": "44490e8e",
   "metadata": {},
   "outputs": [
    {
     "data": {
      "text/plain": [
       "15"
      ]
     },
     "execution_count": 31,
     "metadata": {},
     "output_type": "execute_result"
    }
   ],
   "source": [
    "class set1:\n",
    "\n",
    "    def fun1(self,x, y) :\n",
    "        if (x == 0) :\n",
    "            return y\n",
    "        else :\n",
    "            return set1.fun1(self,x - 1, x + y)\n",
    "        \n",
    "set1.fun1(set1,5, 0) # 4 + 5+4+3+2+1 "
   ]
  },
  {
   "cell_type": "code",
   "execution_count": 33,
   "id": "2df3ff76",
   "metadata": {},
   "outputs": [
    {
     "data": {
      "text/plain": [
       "120"
      ]
     },
     "execution_count": 33,
     "metadata": {},
     "output_type": "execute_result"
    }
   ],
   "source": [
    "class set2:\n",
    "    def factorial(self,n):\n",
    "        if n==1:\n",
    "            return 1\n",
    "        else:\n",
    "            return n * set2.factorial(self,n-1)\n",
    "set2.factorial(set2,5)"
   ]
  },
  {
   "cell_type": "code",
   "execution_count": 45,
   "id": "5a32f09e",
   "metadata": {},
   "outputs": [
    {
     "data": {
      "text/plain": [
       "4"
      ]
     },
     "execution_count": 45,
     "metadata": {},
     "output_type": "execute_result"
    }
   ],
   "source": [
    "def fun1(n):\n",
    "    if(n == 1):\n",
    "        return 0\n",
    "    else:\n",
    "        return 1 + fun1(n//2)\n",
    "fun1(16)\n",
    "\n",
    "# log2(8) = 3\n",
    "# log2(16) = 4"
   ]
  },
  {
   "cell_type": "code",
   "execution_count": 65,
   "id": "832e1c30",
   "metadata": {},
   "outputs": [
    {
     "data": {
      "text/plain": [
       "[0, 1, 0, 1]"
      ]
     },
     "execution_count": 65,
     "metadata": {},
     "output_type": "execute_result"
    }
   ],
   "source": [
    "def fun2(n,x):\n",
    "    if(n == 0):\n",
    "        return\n",
    "\n",
    "    x.append(n%2)\n",
    "    fun2(n // 2,x)\n",
    "\n",
    "arr = []\n",
    "fun2(10,arr)\n",
    "\n",
    "\n",
    "#9-->4-->2-->1-->0      1001\n",
    "\n",
    "# 21-->10-->5-->2-->1-->0\n",
    "\n",
    "# 10-->5-->2-->1-->0\n",
    "arr"
   ]
  },
  {
   "cell_type": "code",
   "execution_count": 71,
   "id": "b2defb22",
   "metadata": {},
   "outputs": [
    {
     "name": "stdout",
     "output_type": "stream",
     "text": [
      "4 4 4 4 3 3 3 2 2 1 "
     ]
    }
   ],
   "source": [
    "def  fun1(n):              #4\n",
    "    if (n > 1):\n",
    "        fun1(n - 1)      #4 -->3-->2-->1\n",
    "    for i in range(n):    \n",
    "        print(n,end = \" \")\n",
    "\n",
    "        \n",
    "        \n",
    "        \n",
    "        \n",
    "        \n",
    "\n",
    "\n",
    "        \n",
    "fun1(4)"
   ]
  },
  {
   "cell_type": "code",
   "execution_count": 78,
   "id": "e69eae7b",
   "metadata": {},
   "outputs": [
    {
     "name": "stdout",
     "output_type": "stream",
     "text": [
      "640 320 160 80 40 20 10 5 "
     ]
    }
   ],
   "source": [
    "LIMIT = 1000\n",
    "def fun2(n):\n",
    "    if (n <= 0):\n",
    "        return\n",
    "    if (n > LIMIT):\n",
    "        return\n",
    "    print(n, end=\" \")\n",
    "    fun2(2 * n)\n",
    "    print(n, end=\" \")\n",
    "\n",
    "fun2(5)"
   ]
  },
  {
   "cell_type": "code",
   "execution_count": 94,
   "id": "26e7f87c",
   "metadata": {},
   "outputs": [
    {
     "name": "stdout",
     "output_type": "stream",
     "text": [
      "1\n",
      "2\n",
      "3\n",
      "4\n"
     ]
    }
   ],
   "source": [
    "def funx(n):    #4,3,2,1,0\n",
    "    if n==0:\n",
    "        return\n",
    "    \n",
    "    funx(n-1)   #3,2,1,0\n",
    "    print(n)\n",
    "    \n",
    "funx(4)"
   ]
  },
  {
   "cell_type": "code",
   "execution_count": 4,
   "id": "66e0f3a1",
   "metadata": {},
   "outputs": [
    {
     "data": {
      "text/plain": [
       "0"
      ]
     },
     "execution_count": 4,
     "metadata": {},
     "output_type": "execute_result"
    }
   ],
   "source": [
    "class Solution:\n",
    "    def kthGrammar(self, n: int, k: int) -> int:\n",
    "        \n",
    "        if(n==1 & k==1):\n",
    "            return 0\n",
    "\n",
    "        mid= pow(2,n-2)\n",
    "\n",
    "        if(k<=mid):\n",
    "            return self.kthGrammar(self,n-1,k)\n",
    "\n",
    "        return int(not self.kthGrammar(self,n-1,k-mid))\n",
    "    \n",
    "Solution.kthGrammar(Solution,3,4)"
   ]
  },
  {
   "cell_type": "code",
   "execution_count": null,
   "id": "c485cf49",
   "metadata": {},
   "outputs": [],
   "source": []
  }
 ],
 "metadata": {
  "kernelspec": {
   "display_name": "Python 3",
   "language": "python",
   "name": "python3"
  },
  "language_info": {
   "codemirror_mode": {
    "name": "ipython",
    "version": 3
   },
   "file_extension": ".py",
   "mimetype": "text/x-python",
   "name": "python",
   "nbconvert_exporter": "python",
   "pygments_lexer": "ipython3",
   "version": "3.8.8"
  }
 },
 "nbformat": 4,
 "nbformat_minor": 5
}
