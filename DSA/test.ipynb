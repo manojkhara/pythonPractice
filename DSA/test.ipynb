{
 "cells": [
  {
   "cell_type": "code",
   "execution_count": 2,
   "metadata": {},
   "outputs": [],
   "source": [
    "arr = [0,3,2,1,4]\n",
    "arr.sort()"
   ]
  },
  {
   "cell_type": "code",
   "execution_count": 3,
   "metadata": {},
   "outputs": [
    {
     "data": {
      "text/plain": [
       "[0, 1, 2, 3, 4]"
      ]
     },
     "execution_count": 3,
     "metadata": {},
     "output_type": "execute_result"
    }
   ],
   "source": [
    "arr"
   ]
  },
  {
   "cell_type": "code",
   "execution_count": 21,
   "metadata": {},
   "outputs": [],
   "source": [
    "nums1 = [1,2,3,0,0,0]\n",
    "m = 3\n",
    "nums2 = [2,5,6]\n",
    "n = 3\n"
   ]
  },
  {
   "cell_type": "code",
   "execution_count": 14,
   "metadata": {},
   "outputs": [
    {
     "data": {
      "text/plain": [
       "[1, 2, 2, 3, 5, 6]"
      ]
     },
     "execution_count": 14,
     "metadata": {},
     "output_type": "execute_result"
    }
   ],
   "source": [
    "for i in range(m,len(nums1)):\n",
    "    nums1[i] = nums2[i-m]\n",
    "\n",
    "nums1.sort()\n",
    "nums1"
   ]
  },
  {
   "cell_type": "code",
   "execution_count": null,
   "metadata": {},
   "outputs": [],
   "source": [
    "for i in range(m):\n",
    "    if nums1[i] >= nums2[i]:\n",
    "        nums1.insert(nums2[i],i)\n",
    "    elif nums1[i] < nums2[i]:\n",
    "        nums2[i]"
   ]
  },
  {
   "cell_type": "code",
   "execution_count": 16,
   "metadata": {},
   "outputs": [],
   "source": [
    "class Solution:\n",
    "    def merge(self,nums1:list[int],m:int,nums2:list[int],n:int) -> None:\n",
    "        #last index nums1\n",
    "        last = m+n-1\n",
    "\n",
    "        #merger in reverse order\n",
    "        while m>0 and n>0:\n",
    "            if nums1[m-1] > nums2[n-1]:\n",
    "                nums1[last] = nums1[m-1]\n",
    "                m -= 1\n",
    "            else:\n",
    "                nums1[last] = nums2[n-1]\n",
    "                n -= 1\n",
    "\n",
    "            last -= 1\n",
    "\n",
    "        #fill nums1 with leftover num2 elements\n",
    "        while n>0:\n",
    "            nums1[last] = nums2[n-1]\n",
    "            n,last = n-1, last-1\n",
    "    "
   ]
  },
  {
   "cell_type": "code",
   "execution_count": 17,
   "metadata": {},
   "outputs": [],
   "source": [
    "sol = Solution()"
   ]
  },
  {
   "cell_type": "code",
   "execution_count": 23,
   "metadata": {},
   "outputs": [],
   "source": [
    "sol.merge(nums1,m,nums2,n)"
   ]
  },
  {
   "cell_type": "code",
   "execution_count": 24,
   "metadata": {},
   "outputs": [
    {
     "data": {
      "text/plain": [
       "[1, 2, 2, 3, 5, 6]"
      ]
     },
     "execution_count": 24,
     "metadata": {},
     "output_type": "execute_result"
    }
   ],
   "source": [
    "nums1"
   ]
  },
  {
   "cell_type": "code",
   "execution_count": 33,
   "metadata": {},
   "outputs": [
    {
     "name": "stdout",
     "output_type": "stream",
     "text": [
      "15\n"
     ]
    }
   ],
   "source": [
    "arr = [[1,2,3],[4,5,6]]\n",
    "i = 0\n",
    "maxSum = 0\n",
    "while i<len(arr):\n",
    "    rowSum = 0\n",
    "    j = 0\n",
    "    while j < len(arr[0]):\n",
    "        rowSum += arr[i][j]\n",
    "        j += 1\n",
    "\n",
    "    maxSum = max(maxSum,rowSum)\n",
    "    i += 1\n",
    "\n",
    "print(maxSum)"
   ]
  },
  {
   "cell_type": "code",
   "execution_count": 29,
   "metadata": {},
   "outputs": [
    {
     "name": "stdout",
     "output_type": "stream",
     "text": [
      "2\n"
     ]
    }
   ],
   "source": [
    "print(i)"
   ]
  },
  {
   "cell_type": "code",
   "execution_count": 36,
   "metadata": {},
   "outputs": [
    {
     "data": {
      "text/plain": [
       "[11, 12, 23, 25, 64]"
      ]
     },
     "execution_count": 36,
     "metadata": {},
     "output_type": "execute_result"
    }
   ],
   "source": [
    "#selection sort\n",
    "# iterate through inner loop find the index of minimum value\n",
    "# swap minimum value with \n",
    "arr = [64,25,12,23,11]\n",
    "for i in range(0,len(arr)-1,1):\n",
    "    min_idx = i\n",
    "    for j in range(i+1,len(arr),1):\n",
    "        if arr[j] < arr[min_idx]:\n",
    "            min_idx = j\n",
    "        \n",
    "    arr[i],arr[min_idx] = arr[min_idx],arr[i]\n",
    "\n",
    "arr"
   ]
  },
  {
   "cell_type": "code",
   "execution_count": 40,
   "metadata": {},
   "outputs": [
    {
     "name": "stdout",
     "output_type": "stream",
     "text": [
      "Sorted array is:\n",
      "11 12 22 25 34 64 90 "
     ]
    }
   ],
   "source": [
    "# Python program for implementation of Bubble Sort\n",
    "\n",
    "\n",
    "def bubbleSort(arr):\n",
    "\tn = len(arr)\n",
    "\n",
    "\t# Traverse through all array elements\n",
    "\tfor i in range(n):\n",
    "\n",
    "\t\t# Last i elements are already in place\n",
    "\t\tfor j in range(0, n-i-1):\n",
    "\n",
    "\t\t\t# traverse the array from 0 to n-i-1\n",
    "\t\t\t# Swap if the element found is greater\n",
    "\t\t\t# than the next element\n",
    "\t\t\tif arr[j] > arr[j+1]:\n",
    "\t\t\t\tarr[j], arr[j+1] = arr[j+1], arr[j]\n",
    "\n",
    "\n",
    "# Driver code to test above\n",
    "\n",
    "arr = [64, 34, 25, 12, 22, 11, 90]\n",
    "\n",
    "bubbleSort(arr)\n",
    "\n",
    "print(\"Sorted array is:\")\n",
    "for i in range(len(arr)):\n",
    "\tprint(\"%d\" % arr[i], end=\" \")\n"
   ]
  },
  {
   "cell_type": "code",
   "execution_count": 38,
   "metadata": {},
   "outputs": [
    {
     "name": "stdout",
     "output_type": "stream",
     "text": [
      "Sorted array is:\n",
      "34 12 11 22 25 64 90 "
     ]
    }
   ],
   "source": [
    "def bubbleSort(arr):\n",
    "\tn = len(arr)\n",
    "\n",
    "\t# Traverse through all array elements\n",
    "\tfor i in range(n-1):\n",
    "\n",
    "\t\t# Last i elements are already in place\n",
    "\t\tfor j in range(i, n-1):\n",
    "\n",
    "\t\t\t# traverse the array from 0 to n-i-1\n",
    "\t\t\t# Swap if the element found is greater\n",
    "\t\t\t# than the next element\n",
    "\t\t\tif arr[j] > arr[j+1]:\n",
    "\t\t\t\tarr[j], arr[j+1] = arr[j+1], arr[j]\n",
    "\n",
    "\n",
    "arr = [64, 34, 25, 12, 22, 11, 90]\n",
    "\n",
    "bubbleSort(arr)\n",
    "\n",
    "print(\"Sorted array is:\")\n",
    "for i in range(len(arr)):\n",
    "\tprint(\"%d\" % arr[i], end=\" \")"
   ]
  },
  {
   "cell_type": "code",
   "execution_count": 51,
   "metadata": {},
   "outputs": [
    {
     "name": "stdout",
     "output_type": "stream",
     "text": [
      "False\n"
     ]
    }
   ],
   "source": [
    "a = {\n",
    "    'a' : 3,\n",
    "    'n': 1\n",
    "    }\n",
    "\n",
    "if 'c' in a.keys():\n",
    "    print(True)\n",
    "else:\n",
    "    print(False)"
   ]
  },
  {
   "cell_type": "code",
   "execution_count": 54,
   "metadata": {},
   "outputs": [
    {
     "data": {
      "text/plain": [
       "{'a': 3, 'n': 1, 'g': 1, 'r': 1, 'm': 1}"
      ]
     },
     "execution_count": 54,
     "metadata": {},
     "output_type": "execute_result"
    }
   ],
   "source": [
    "strin = 'anagram'\n",
    "hash = dict()\n",
    "for letter in strin:\n",
    "    if letter in hash.keys():\n",
    "        hash[letter] += 1\n",
    "    else:\n",
    "        hash.update({letter:1})\n",
    "\n",
    "hash\n"
   ]
  },
  {
   "cell_type": "code",
   "execution_count": 55,
   "metadata": {},
   "outputs": [
    {
     "data": {
      "text/plain": [
       "{'a': 3, 'n': 1, 'g': 1, 'r': 1, 'm': 1}"
      ]
     },
     "execution_count": 55,
     "metadata": {},
     "output_type": "execute_result"
    }
   ],
   "source": [
    "strin = 'anagram'\n",
    "hash2 = dict()\n",
    "for letter in strin:\n",
    "    if letter in hash2.keys():\n",
    "        hash2[letter] += 1\n",
    "    else:\n",
    "        hash2.update({letter:1})\n",
    "\n",
    "hash2\n"
   ]
  },
  {
   "cell_type": "code",
   "execution_count": 56,
   "metadata": {},
   "outputs": [
    {
     "data": {
      "text/plain": [
       "True"
      ]
     },
     "execution_count": 56,
     "metadata": {},
     "output_type": "execute_result"
    }
   ],
   "source": [
    "hash==hash2"
   ]
  },
  {
   "cell_type": "code",
   "execution_count": null,
   "metadata": {},
   "outputs": [],
   "source": [
    "def checkAnagram(string1,string2):\n",
    "    hash1 = dict()\n",
    "    hash2 = dict()\n",
    "    for l1,l2 in string1,string2:\n",
    "        if l1 in hash1.keys():\n",
    "            hash1[l1] += 1\n",
    "        if l2 in hash2.keys():\n",
    "            hash2[l2] += 1\n",
    "        else:\n",
    "            hash1.update({l1:1})\n",
    "            hash"
   ]
  },
  {
   "cell_type": "code",
   "execution_count": 78,
   "metadata": {},
   "outputs": [],
   "source": [
    "#check two strings is anagram or not\n",
    "# anagram\n",
    "#   both strings should have equal length\n",
    "#   all the characters in string1 should repeat once in string two\n",
    "#\n",
    "from typing import Counter\n",
    "\n",
    "\n",
    "def isAnagram(s,t):\n",
    "    return Counter(s) == Counter(t)\n",
    "    # if len(s) != len(t):\n",
    "    #     return False\n",
    "\n",
    "    # countS, countT = {},{}\n",
    "\n",
    "    # for i in range(len(s)):\n",
    "    #     countS[s[i]] = 1 + countS.get(s[i],0)\n",
    "    #     countT[t[i]] = 1 + countT.get(t[i],0)\n",
    "    # for c in countS:\n",
    "    #     if countS[c] != countT.get(c,0):\n",
    "    #         return False\n",
    "    # return True"
   ]
  },
  {
   "cell_type": "code",
   "execution_count": 79,
   "metadata": {},
   "outputs": [
    {
     "data": {
      "text/plain": [
       "True"
      ]
     },
     "execution_count": 79,
     "metadata": {},
     "output_type": "execute_result"
    }
   ],
   "source": [
    "isAnagram('abc','bac')"
   ]
  },
  {
   "cell_type": "code",
   "execution_count": 64,
   "metadata": {},
   "outputs": [
    {
     "name": "stdout",
     "output_type": "stream",
     "text": [
      "False\n",
      "False\n"
     ]
    }
   ],
   "source": [
    "countS, countT = {},{}\n",
    "s = 'abcde'\n",
    "t = 'edcba'\n",
    "\n",
    "for i in range(len(s)):\n",
    "    countS[s[i]] = 1 + countS.get(s[i],0)\n",
    "    countT[t[i]] = 1 + countT.get(s[i],0)\n",
    "    \n",
    "for c in countS:\n",
    "    if countS[c] != countT.get(c,0):\n",
    "        print(False)\n"
   ]
  },
  {
   "cell_type": "code",
   "execution_count": 75,
   "metadata": {},
   "outputs": [
    {
     "name": "stdout",
     "output_type": "stream",
     "text": [
      "<class 'dict'>\n",
      "<class 'dict'>\n"
     ]
    }
   ],
   "source": [
    "hash = {}\n",
    "print(type(hash))\n",
    "hash[s[0]] = 1 + hash.get(s[0],0)\n",
    "print(type(hash))"
   ]
  },
  {
   "cell_type": "code",
   "execution_count": 88,
   "metadata": {},
   "outputs": [
    {
     "name": "stdout",
     "output_type": "stream",
     "text": [
      "987\n"
     ]
    }
   ],
   "source": [
    "#70 climbing stairs leetcode\n",
    "n = 15\n",
    "one,two = 1,1\n",
    "for i in range(n-1):\n",
    "    one,two = one + two, one\n",
    "print(one)"
   ]
  },
  {
   "cell_type": "code",
   "execution_count": 85,
   "metadata": {},
   "outputs": [],
   "source": [
    "# Function for nth Fibonacci number\n",
    "class Solution:\n",
    "    def climbStairs(self, n):\n",
    "\n",
    "        # Check if input is 0 then it will\n",
    "        # print incorrect input\n",
    "        if n < 0:\n",
    "            print(\"Incorrect input\")\n",
    "\n",
    "        # Check if n is 0\n",
    "        # then it will return 0\n",
    "        elif n == 0:\n",
    "            return 0\n",
    "\n",
    "        # Check if n is 1,2\n",
    "        # it will return 1\n",
    "        elif n == 1:\n",
    "            return 1\n",
    "\n",
    "        elif n == 2:\n",
    "            return 2\n",
    "\n",
    "        else:\n",
    "            return self.climbStairs(n-1) + self.climbStairs(n-2)"
   ]
  },
  {
   "cell_type": "code",
   "execution_count": 87,
   "metadata": {},
   "outputs": [
    {
     "data": {
      "text/plain": [
       "987"
      ]
     },
     "execution_count": 87,
     "metadata": {},
     "output_type": "execute_result"
    }
   ],
   "source": [
    "a = Solution()\n",
    "a.climbStairs(15)"
   ]
  },
  {
   "cell_type": "code",
   "execution_count": null,
   "metadata": {},
   "outputs": [],
   "source": []
  }
 ],
 "metadata": {
  "kernelspec": {
   "display_name": "Python 3.9.12 ('base')",
   "language": "python",
   "name": "python3"
  },
  "language_info": {
   "codemirror_mode": {
    "name": "ipython",
    "version": 3
   },
   "file_extension": ".py",
   "mimetype": "text/x-python",
   "name": "python",
   "nbconvert_exporter": "python",
   "pygments_lexer": "ipython3",
   "version": "3.9.12"
  },
  "orig_nbformat": 4,
  "vscode": {
   "interpreter": {
    "hash": "ff4f85d6e04298634172ac5d8264e7e9b556b95639fe52ebb9425c4d4cba0c9c"
   }
  }
 },
 "nbformat": 4,
 "nbformat_minor": 2
}
