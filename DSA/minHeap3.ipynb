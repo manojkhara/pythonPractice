{
 "cells": [
  {
   "cell_type": "code",
   "execution_count": 1,
   "metadata": {},
   "outputs": [],
   "source": [
    "# Function to build the min heap using\n",
    "# the minHeapify function\n",
    "\n",
    "def minHeapify(self, pos):\n",
    "\n",
    "    # If the node is a non-leaf node and greater\n",
    "    # than any of its child\n",
    "    if not self.isLeaf(pos):\n",
    "        if (self.Heap[pos] > self.Heap[self.leftChild(pos)] or\n",
    "        self.Heap[pos] > self.Heap[self.rightChild(pos)]):\n",
    "\n",
    "            # Swap with the left child and heapify\n",
    "            # the left child\n",
    "            if self.Heap[self.leftChild(pos)] < self.Heap[self.rightChild(pos)]:\n",
    "                self.swap(pos, self.leftChild(pos))\n",
    "                self.minHeapify(self.leftChild(pos))\n",
    "\n",
    "            # Swap with the right child and heapify\n",
    "            # the right child\n",
    "            else:\n",
    "                self.swap(pos, self.rightChild(pos))\n",
    "                self.minHeapify(self.rightChild(pos))"
   ]
  },
  {
   "cell_type": "code",
   "execution_count": 2,
   "metadata": {},
   "outputs": [],
   "source": [
    "def minHeap(self):\n",
    "    for pos in range(self.size//2, 0, -1):\n",
    "        self.minHeapify(pos)"
   ]
  },
  {
   "cell_type": "code",
   "execution_count": 3,
   "metadata": {},
   "outputs": [],
   "source": [
    "def insert(self, element):\n",
    "    if self.size >= self.maxsize :\n",
    "        return\n",
    "    self.size+= 1\n",
    "    self.Heap[self.size] = element\n",
    "\n",
    "    current = self.size\n",
    "\n",
    "    while self.Heap[current] < self.Heap[self.parent(current)]:\n",
    "        self.swap(current, self.parent(current))\n",
    "        current = self.parent(current)"
   ]
  },
  {
   "cell_type": "code",
   "execution_count": 4,
   "metadata": {},
   "outputs": [
    {
     "name": "stdout",
     "output_type": "stream",
     "text": [
      "16\n",
      "15\n",
      "14\n",
      "13\n",
      "12\n",
      "11\n",
      "10\n",
      "9\n",
      "8\n",
      "7\n",
      "6\n",
      "5\n",
      "4\n",
      "3\n",
      "2\n",
      "1\n"
     ]
    }
   ],
   "source": [
    "size = 32\n",
    "for pos in range(size//2, 0, -1):\n",
    "    print(pos)"
   ]
  },
  {
   "cell_type": "code",
   "execution_count": null,
   "metadata": {},
   "outputs": [],
   "source": []
  }
 ],
 "metadata": {
  "kernelspec": {
   "display_name": "Python 3.9.12 ('base')",
   "language": "python",
   "name": "python3"
  },
  "language_info": {
   "codemirror_mode": {
    "name": "ipython",
    "version": 3
   },
   "file_extension": ".py",
   "mimetype": "text/x-python",
   "name": "python",
   "nbconvert_exporter": "python",
   "pygments_lexer": "ipython3",
   "version": "3.9.12"
  },
  "orig_nbformat": 4,
  "vscode": {
   "interpreter": {
    "hash": "ff4f85d6e04298634172ac5d8264e7e9b556b95639fe52ebb9425c4d4cba0c9c"
   }
  }
 },
 "nbformat": 4,
 "nbformat_minor": 2
}
