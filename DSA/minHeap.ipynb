{
 "cells": [
  {
   "cell_type": "code",
   "execution_count": 169,
   "metadata": {},
   "outputs": [],
   "source": [
    "class MinHeap:\n",
    "    def __init__(self,capacity) -> None:\n",
    "        self.storage = [0] * capacity\n",
    "        self.capacity = capacity\n",
    "        self.size = 0\n",
    "\n",
    "    def getParentIndex(self,index):\n",
    "        return (index-1)//2\n",
    "\n",
    "    def getLeftChildIndex(self,index):\n",
    "        return 2*index + 1\n",
    "\n",
    "    def getRightChildIndex(self,index):\n",
    "        return 2*index + 2\n",
    "\n",
    "    def hasParent(self,index):\n",
    "        return self.getParentIndex(index) >= 0\n",
    "\n",
    "    def hasLeftChild(self,index):\n",
    "        return self.getLeftChildIndex(index) < self.size\n",
    "\n",
    "    def hasRightChild(self,index):\n",
    "        return self.getRightChildIndex(index) < self.size\n",
    "\n",
    "    def parent(self,index):\n",
    "        return self.storage[self.getParentIndex(index)]\n",
    "\n",
    "    def leftChild(self,index):\n",
    "        return self.storage[self.getLeftChildIndex(index)]\n",
    "\n",
    "    def rightChild(self,index):\n",
    "        return self.storage[self.getRightChildIndex(index)]\n",
    "\n",
    "    def isFull(self):\n",
    "        return self.size == self.capacity\n",
    "\n",
    "    def swap(self,index1,index2):\n",
    "        temp = self.storage[index1]\n",
    "        self.storage[index1]  = self.storage[index2]\n",
    "        self.storage[index2] = temp\n",
    "\n",
    "    def insert(self,data):\n",
    "        if self.isFull():\n",
    "            raise(\"heap is Full\")\n",
    "\n",
    "        self.storage[self.size] = data\n",
    "        self.size += 1\n",
    "        self.heapifyUP()\n",
    "\n",
    "    def heapifyUP(self):\n",
    "        index = self.size - 1\n",
    "        while self.hasParent(index) & self.storage[self.parent(index)] > self.storage[index]:\n",
    "            self.swap(index,self.getParentIndex(index))\n",
    "\n",
    "    def Remove(self):\n",
    "        if self.size == 0:\n",
    "            raise('Heap is Empty')\n",
    "        data = self.storage[0]\n",
    "        self.storage[0] = self.storage[self.size-1]\n",
    "        self.size -= 1\n",
    "        self.heapifyDown()\n",
    "        return data\n",
    "\n",
    "    def heapifyDown(self):\n",
    "        index = 0\n",
    "        while self.hasLeftChild(index):\n",
    "            smallerChildIndex = self.getLeftChildIndex(index)\n",
    "            if(self.hasRightChild(index) & self.rightChild(index) < self.leftChild(index)):\n",
    "                smallerChildIndex = self.getRightChildIndex(index)\n",
    "            if self.storage[index] < self.storage[smallerChildIndex] :\n",
    "                break\n",
    "            else:\n",
    "                self.swap(index,smallerChildIndex)\n",
    "            index = smallerChildIndex"
   ]
  },
  {
   "cell_type": "code",
   "execution_count": 170,
   "metadata": {},
   "outputs": [],
   "source": [
    "mh1 = MinHeap(7)"
   ]
  },
  {
   "cell_type": "code",
   "execution_count": 171,
   "metadata": {},
   "outputs": [
    {
     "data": {
      "text/plain": [
       "False"
      ]
     },
     "execution_count": 171,
     "metadata": {},
     "output_type": "execute_result"
    }
   ],
   "source": [
    "mh1.insert(10)\n",
    "mh1.isFull()"
   ]
  },
  {
   "cell_type": "code",
   "execution_count": 172,
   "metadata": {},
   "outputs": [
    {
     "ename": "IndexError",
     "evalue": "list index out of range",
     "output_type": "error",
     "traceback": [
      "\u001b[1;31m---------------------------------------------------------------------------\u001b[0m",
      "\u001b[1;31mIndexError\u001b[0m                                Traceback (most recent call last)",
      "\u001b[1;32mc:\\AnacondaCodes\\2 Python_practice\\DSA\\minHeap.ipynb Cell 4\u001b[0m in \u001b[0;36m<cell line: 1>\u001b[1;34m()\u001b[0m\n\u001b[1;32m----> <a href='vscode-notebook-cell:/c%3A/AnacondaCodes/2%20Python_practice/DSA/minHeap.ipynb#W3sZmlsZQ%3D%3D?line=0'>1</a>\u001b[0m mh1\u001b[39m.\u001b[39;49minsert(\u001b[39m20\u001b[39;49m)\n",
      "\u001b[1;32mc:\\AnacondaCodes\\2 Python_practice\\DSA\\minHeap.ipynb Cell 4\u001b[0m in \u001b[0;36mMinHeap.insert\u001b[1;34m(self, data)\u001b[0m\n\u001b[0;32m     <a href='vscode-notebook-cell:/c%3A/AnacondaCodes/2%20Python_practice/DSA/minHeap.ipynb#W3sZmlsZQ%3D%3D?line=45'>46</a>\u001b[0m \u001b[39mself\u001b[39m\u001b[39m.\u001b[39mstorage[\u001b[39mself\u001b[39m\u001b[39m.\u001b[39msize] \u001b[39m=\u001b[39m data\n\u001b[0;32m     <a href='vscode-notebook-cell:/c%3A/AnacondaCodes/2%20Python_practice/DSA/minHeap.ipynb#W3sZmlsZQ%3D%3D?line=46'>47</a>\u001b[0m \u001b[39mself\u001b[39m\u001b[39m.\u001b[39msize \u001b[39m+\u001b[39m\u001b[39m=\u001b[39m \u001b[39m1\u001b[39m\n\u001b[1;32m---> <a href='vscode-notebook-cell:/c%3A/AnacondaCodes/2%20Python_practice/DSA/minHeap.ipynb#W3sZmlsZQ%3D%3D?line=47'>48</a>\u001b[0m \u001b[39mself\u001b[39;49m\u001b[39m.\u001b[39;49mheapifyUP()\n",
      "\u001b[1;32mc:\\AnacondaCodes\\2 Python_practice\\DSA\\minHeap.ipynb Cell 4\u001b[0m in \u001b[0;36mMinHeap.heapifyUP\u001b[1;34m(self)\u001b[0m\n\u001b[0;32m     <a href='vscode-notebook-cell:/c%3A/AnacondaCodes/2%20Python_practice/DSA/minHeap.ipynb#W3sZmlsZQ%3D%3D?line=49'>50</a>\u001b[0m \u001b[39mdef\u001b[39;00m \u001b[39mheapifyUP\u001b[39m(\u001b[39mself\u001b[39m):\n\u001b[0;32m     <a href='vscode-notebook-cell:/c%3A/AnacondaCodes/2%20Python_practice/DSA/minHeap.ipynb#W3sZmlsZQ%3D%3D?line=50'>51</a>\u001b[0m     index \u001b[39m=\u001b[39m \u001b[39mself\u001b[39m\u001b[39m.\u001b[39msize \u001b[39m-\u001b[39m \u001b[39m1\u001b[39m\n\u001b[1;32m---> <a href='vscode-notebook-cell:/c%3A/AnacondaCodes/2%20Python_practice/DSA/minHeap.ipynb#W3sZmlsZQ%3D%3D?line=51'>52</a>\u001b[0m     \u001b[39mwhile\u001b[39;00m \u001b[39mself\u001b[39m\u001b[39m.\u001b[39mhasParent(index) \u001b[39m&\u001b[39m \u001b[39mself\u001b[39;49m\u001b[39m.\u001b[39;49mstorage[\u001b[39mself\u001b[39;49m\u001b[39m.\u001b[39;49mparent(index)] \u001b[39m>\u001b[39m \u001b[39mself\u001b[39m\u001b[39m.\u001b[39mstorage[index]:\n\u001b[0;32m     <a href='vscode-notebook-cell:/c%3A/AnacondaCodes/2%20Python_practice/DSA/minHeap.ipynb#W3sZmlsZQ%3D%3D?line=52'>53</a>\u001b[0m         \u001b[39mself\u001b[39m\u001b[39m.\u001b[39mswap(index,\u001b[39mself\u001b[39m\u001b[39m.\u001b[39mgetParentIndex(index))\n",
      "\u001b[1;31mIndexError\u001b[0m: list index out of range"
     ]
    }
   ],
   "source": [
    "mh1.insert(20)"
   ]
  },
  {
   "cell_type": "code",
   "execution_count": 104,
   "metadata": {},
   "outputs": [],
   "source": [
    "mh1.insert(5)\n",
    "mh1.insert(30)\n",
    "mh1.insert(2)\n",
    "mh1.insert(1)"
   ]
  },
  {
   "cell_type": "code",
   "execution_count": 173,
   "metadata": {},
   "outputs": [
    {
     "name": "stdout",
     "output_type": "stream",
     "text": [
      "10\n",
      "20\n",
      "0\n",
      "0\n",
      "0\n",
      "0\n",
      "0\n"
     ]
    }
   ],
   "source": [
    "for i in range(7):\n",
    "    print( mh1.storage[i])\n"
   ]
  },
  {
   "cell_type": "code",
   "execution_count": 73,
   "metadata": {},
   "outputs": [
    {
     "data": {
      "text/plain": [
       "True"
      ]
     },
     "execution_count": 73,
     "metadata": {},
     "output_type": "execute_result"
    }
   ],
   "source": [
    "mh1.hasParent(1)"
   ]
  },
  {
   "cell_type": "code",
   "execution_count": 75,
   "metadata": {},
   "outputs": [
    {
     "data": {
      "text/plain": [
       "5"
      ]
     },
     "execution_count": 75,
     "metadata": {},
     "output_type": "execute_result"
    }
   ],
   "source": [
    "mh1.Remove()"
   ]
  },
  {
   "cell_type": "code",
   "execution_count": 99,
   "metadata": {},
   "outputs": [
    {
     "name": "stdout",
     "output_type": "stream",
     "text": [
      "The minHeap is \n",
      " PARENT : 3 LEFT CHILD : 5 RIGHT CHILD : 6\n",
      " PARENT : 5 LEFT CHILD : 9 RIGHT CHILD : 84\n",
      " PARENT : 6 LEFT CHILD : 19 RIGHT CHILD : 17\n",
      " PARENT : 9 LEFT CHILD : 22 RIGHT CHILD : 10\n",
      "The Min val is 3\n"
     ]
    }
   ],
   "source": [
    "# Python3 implementation of Min Heap\n",
    "\n",
    "import sys\n",
    "\n",
    "class MinHeap:\n",
    "\n",
    "\tdef __init__(self, maxsize):\n",
    "\t\tself.maxsize = maxsize\n",
    "\t\tself.size = 0\n",
    "\t\tself.Heap = [0]*(self.maxsize + 1)\n",
    "\t\tself.Heap[0] = -1 * sys.maxsize     #arr[0] = - sys.maxsize\n",
    "\t\tself.FRONT = 1\n",
    "\n",
    "\t# Function to return the position of\n",
    "\t# parent for the node currently\n",
    "\t# at pos\n",
    "\tdef parent(self, pos):\n",
    "\t\treturn pos//2\n",
    "\n",
    "\t# Function to return the position of\n",
    "\t# the left child for the node currently\n",
    "\t# at pos\n",
    "\tdef leftChild(self, pos):\n",
    "\t\treturn 2 * pos\n",
    "\n",
    "\t# Function to return the position of\n",
    "\t# the right child for the node currently\n",
    "\t# at pos\n",
    "\tdef rightChild(self, pos):\n",
    "\t\treturn (2 * pos) + 1\n",
    "\n",
    "\t# Function that returns true if the passed\n",
    "\t# node is a leaf node\n",
    "\tdef isLeaf(self, pos):\n",
    "\t\treturn pos*2 > self.size\n",
    "\n",
    "\t# Function to swap two nodes of the heap\n",
    "\tdef swap(self, fpos, spos):\n",
    "\t\tself.Heap[fpos], self.Heap[spos] = self.Heap[spos], self.Heap[fpos]\n",
    "\n",
    "\t# Function to heapify the node at pos\n",
    "\tdef minHeapify(self, pos):\n",
    "\n",
    "\t\t# If the node is a non-leaf node and greater\n",
    "\t\t# than any of its child\n",
    "\t\tif not self.isLeaf(pos):\n",
    "\t\t\tif (self.Heap[pos] > self.Heap[self.leftChild(pos)] or\n",
    "\t\t\tself.Heap[pos] > self.Heap[self.rightChild(pos)]):\n",
    "\n",
    "\t\t\t\t# Swap with the left child and heapify\n",
    "\t\t\t\t# the left child\n",
    "\t\t\t\tif self.Heap[self.leftChild(pos)] < self.Heap[self.rightChild(pos)]:\n",
    "\t\t\t\t\tself.swap(pos, self.leftChild(pos))\n",
    "\t\t\t\t\tself.minHeapify(self.leftChild(pos))\n",
    "\n",
    "\t\t\t\t# Swap with the right child and heapify\n",
    "\t\t\t\t# the right child\n",
    "\t\t\t\telse:\n",
    "\t\t\t\t\tself.swap(pos, self.rightChild(pos))\n",
    "\t\t\t\t\tself.minHeapify(self.rightChild(pos))\n",
    "\n",
    "\t# Function to insert a node into the heap\n",
    "\tdef insert(self, element):\n",
    "\t\tif self.size >= self.maxsize :\n",
    "\t\t\treturn\n",
    "\t\tself.size+= 1\n",
    "\t\tself.Heap[self.size] = element\n",
    "\n",
    "\t\tcurrent = self.size\n",
    "\n",
    "\t\twhile self.Heap[current] < self.Heap[self.parent(current)]:\n",
    "\t\t\tself.swap(current, self.parent(current))\n",
    "\t\t\tcurrent = self.parent(current)\n",
    "\n",
    "\t# Function to print the contents of the heap\n",
    "\tdef Print(self):\n",
    "\t\tfor i in range(1, (self.size//2)+1):\n",
    "\t\t\tprint(\" PARENT : \"+ str(self.Heap[i])+\" LEFT CHILD : \"+\n",
    "\t\t\t\t\t\t\t\tstr(self.Heap[2 * i])+\" RIGHT CHILD : \"+\n",
    "\t\t\t\t\t\t\t\tstr(self.Heap[2 * i + 1]))\n",
    "\n",
    "\t# Function to build the min heap using\n",
    "\t# the minHeapify function\n",
    "\tdef minHeap(self):\n",
    "\n",
    "\t\tfor pos in range(self.size//2, 0, -1):\n",
    "\t\t\tself.minHeapify(pos)\n",
    "\n",
    "\t# Function to remove and return the minimum\n",
    "\t# element from the heap\n",
    "\tdef remove(self):\n",
    "\n",
    "\t\tpopped = self.Heap[self.FRONT]\n",
    "\t\tself.Heap[self.FRONT] = self.Heap[self.size]\n",
    "\t\tself.size-= 1\n",
    "\t\tself.minHeapify(self.FRONT)\n",
    "\t\treturn popped\n",
    "\n",
    "# Driver Code\n",
    "if __name__ == \"__main__\":\n",
    "\t\n",
    "\tprint('The minHeap is ')\n",
    "\tminHeap = MinHeap(15)\n",
    "\tminHeap.insert(5)\n",
    "\tminHeap.insert(3)\n",
    "\tminHeap.insert(17)\n",
    "\tminHeap.insert(10)\n",
    "\tminHeap.insert(84)\n",
    "\tminHeap.insert(19)\n",
    "\tminHeap.insert(6)\n",
    "\tminHeap.insert(22)\n",
    "\tminHeap.insert(9)\n",
    "\tminHeap.minHeap()\n",
    "\n",
    "\tminHeap.Print()\n",
    "\tprint(\"The Min val is \" + str(minHeap.remove()))\n"
   ]
  },
  {
   "cell_type": "code",
   "execution_count": null,
   "metadata": {},
   "outputs": [],
   "source": []
  },
  {
   "cell_type": "code",
   "execution_count": 106,
   "metadata": {},
   "outputs": [
    {
     "name": "stdout",
     "output_type": "stream",
     "text": [
      "Head value of heap : 10\n",
      "The heap elements : \n",
      "10 30 20 400 \n",
      "\n",
      "The heap elements : \n",
      "20 30 400 "
     ]
    }
   ],
   "source": [
    "# Python3 program to demonstrate working of heapq\n",
    "\n",
    "from heapq import heapify, heappush, heappop\n",
    "\n",
    "# Creating empty heap\n",
    "heap = []\n",
    "heapify(heap)\n",
    "\n",
    "# Adding items to the heap using heappush function\n",
    "heappush(heap, 10)\n",
    "heappush(heap, 30)\n",
    "heappush(heap, 20)\n",
    "heappush(heap, 400)\n",
    "\n",
    "# printing the value of minimum element\n",
    "print(\"Head value of heap : \"+str(heap[0]))\n",
    "\n",
    "# printing the elements of the heap\n",
    "print(\"The heap elements : \")\n",
    "for i in heap:\n",
    "\tprint(i, end = ' ')\n",
    "print(\"\\n\")\n",
    "\n",
    "element = heappop(heap)\n",
    "\n",
    "# printing the elements of the heap\n",
    "print(\"The heap elements : \")\n",
    "for i in heap:\n",
    "\tprint(i, end = ' ')\n"
   ]
  },
  {
   "cell_type": "code",
   "execution_count": 154,
   "metadata": {},
   "outputs": [
    {
     "name": "stdout",
     "output_type": "stream",
     "text": [
      "6 is leaf Node\n",
      "7 is leaf Node\n",
      "8 is leaf Node\n",
      "90 is leaf Node\n",
      "2 is leaf Node\n"
     ]
    }
   ],
   "source": [
    "arr = [0,1,2,3,4,5,5,6,7,8,90,2]\n",
    "n = len(arr)\n",
    "\n",
    "for i in range(n):\n",
    "    if 2*i > n:\n",
    "        print(f\"{arr[i]} is leaf Node\")"
   ]
  },
  {
   "cell_type": "code",
   "execution_count": 155,
   "metadata": {},
   "outputs": [
    {
     "name": "stdout",
     "output_type": "stream",
     "text": [
      "not a leaf node\n"
     ]
    }
   ],
   "source": [
    "# check if number 6 is a leaf node or not?\n",
    "def isLeafNode(arr,num):\n",
    "    idx = arr.index(num)\n",
    "    if 2*idx > len(arr):\n",
    "        print('leaf node')\n",
    "    else:\n",
    "        print(\"not a leaf node\")\n",
    "\n",
    "isLeafNode(arr,5)"
   ]
  },
  {
   "cell_type": "code",
   "execution_count": 156,
   "metadata": {},
   "outputs": [
    {
     "name": "stdout",
     "output_type": "stream",
     "text": [
      "6 parent is at index  3\n",
      "7 parent is at index  3\n",
      "2 parent is at index  0\n"
     ]
    }
   ],
   "source": [
    "#check parent node for number 6\n",
    "\n",
    "def checkParent(arr,num):\n",
    "    print(f\"{num} parent is at index \",(arr.index(num) - 1)//2)\n",
    "    return (arr.index(num) - 1)//2\n",
    "\n",
    "checkParent(arr,6)\n",
    "checkParent(arr,7)\n",
    "checkParent(arr,2)\n"
   ]
  },
  {
   "cell_type": "code",
   "execution_count": null,
   "metadata": {},
   "outputs": [],
   "source": []
  },
  {
   "cell_type": "code",
   "execution_count": 127,
   "metadata": {},
   "outputs": [
    {
     "name": "stdout",
     "output_type": "stream",
     "text": [
      "index of left child with value 8 is 9\n",
      "index of right child with value 90 is 10\n"
     ]
    }
   ],
   "source": [
    "#parent index is given find childs index\n",
    "\n",
    "def ChildIndex(arr,pIdx):\n",
    "    if 2*pIdx < len(arr):\n",
    "        leftChildIdx = 2 * pIdx + 1\n",
    "        rightChildIdx = 2 * pIdx + 2\n",
    "        leftValue = arr[leftChildIdx]\n",
    "        rightValue = arr[rightChildIdx]\n",
    "        print(f\"index of left child with value {leftValue} is {leftChildIdx}\")\n",
    "        print(f\"index of right child with value {rightValue} is {rightChildIdx}\")\n",
    "\n",
    "    else:\n",
    "        return -1\n",
    "\n",
    "ChildIndex(arr,4)"
   ]
  },
  {
   "cell_type": "code",
   "execution_count": 147,
   "metadata": {},
   "outputs": [
    {
     "name": "stdout",
     "output_type": "stream",
     "text": [
      "12\n",
      "ceil=  4\n"
     ]
    }
   ],
   "source": [
    "#calculate height of heap for above array\n",
    "\n",
    "import math\n",
    "n = len(arr)\n",
    "print(n)\n",
    "height = math.log2(n+1)\n",
    "print(\"ceil= \", math.ceil(height))\n"
   ]
  },
  {
   "cell_type": "code",
   "execution_count": 150,
   "metadata": {},
   "outputs": [
    {
     "data": {
      "text/plain": [
       "7"
      ]
     },
     "execution_count": 150,
     "metadata": {},
     "output_type": "execute_result"
    }
   ],
   "source": [
    "# max number of elements in heap using height\n",
    "\n",
    "height = 3\n",
    "maxElement = pow(2,height) - 1\n",
    "maxElement"
   ]
  },
  {
   "cell_type": "code",
   "execution_count": 165,
   "metadata": {},
   "outputs": [
    {
     "data": {
      "text/plain": [
       "[5, 10, 20, 30, 40, 2]"
      ]
     },
     "execution_count": 165,
     "metadata": {},
     "output_type": "execute_result"
    }
   ],
   "source": [
    "arr = [5,10,20,30,40]\n",
    "arr.append(2)\n",
    "arr"
   ]
  },
  {
   "cell_type": "code",
   "execution_count": 166,
   "metadata": {},
   "outputs": [],
   "source": [
    "def checkParent(arr,num):\n",
    "    return (arr.index(num) - 1)//2"
   ]
  },
  {
   "cell_type": "code",
   "execution_count": 167,
   "metadata": {},
   "outputs": [
    {
     "data": {
      "text/plain": [
       "[5, 10, 2, 30, 40, 20]"
      ]
     },
     "execution_count": 167,
     "metadata": {},
     "output_type": "execute_result"
    }
   ],
   "source": [
    "parIdx = checkParent(arr,2)\n",
    "\n",
    "lastElementIdx = len(arr)-1\n",
    "if arr[parIdx] > arr[lastElementIdx] :\n",
    "    arr[parIdx],arr[lastElementIdx] = arr[lastElementIdx], arr[parIdx]\n",
    "\n",
    "arr\n"
   ]
  },
  {
   "cell_type": "code",
   "execution_count": 168,
   "metadata": {},
   "outputs": [
    {
     "data": {
      "text/plain": [
       "[2, 10, 5, 30, 40, 20]"
      ]
     },
     "execution_count": 168,
     "metadata": {},
     "output_type": "execute_result"
    }
   ],
   "source": [
    "superParent = checkParent(arr,2)\n",
    "if arr[superParent] > arr[parIdx] :\n",
    "    arr[parIdx],arr[superParent] = arr[superParent], arr[parIdx]\n",
    "\n",
    "arr"
   ]
  },
  {
   "cell_type": "code",
   "execution_count": null,
   "metadata": {},
   "outputs": [],
   "source": [
    "# compare left and right child\n",
    "arr1 = [5,10,2]\n",
    "\n",
    "#compare parent and child values\n",
    "\n"
   ]
  },
  {
   "cell_type": "code",
   "execution_count": null,
   "metadata": {},
   "outputs": [],
   "source": []
  }
 ],
 "metadata": {
  "kernelspec": {
   "display_name": "Python 3.9.12 ('base')",
   "language": "python",
   "name": "python3"
  },
  "language_info": {
   "codemirror_mode": {
    "name": "ipython",
    "version": 3
   },
   "file_extension": ".py",
   "mimetype": "text/x-python",
   "name": "python",
   "nbconvert_exporter": "python",
   "pygments_lexer": "ipython3",
   "version": "3.9.12"
  },
  "orig_nbformat": 4,
  "vscode": {
   "interpreter": {
    "hash": "ff4f85d6e04298634172ac5d8264e7e9b556b95639fe52ebb9425c4d4cba0c9c"
   }
  }
 },
 "nbformat": 4,
 "nbformat_minor": 2
}
