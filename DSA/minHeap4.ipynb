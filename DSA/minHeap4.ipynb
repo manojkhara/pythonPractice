{
 "cells": [
  {
   "cell_type": "code",
   "execution_count": 45,
   "metadata": {},
   "outputs": [],
   "source": [
    "class MinHeap:\n",
    "    def __init__(self,capacity) -> None:\n",
    "        self.array = [0] * capacity\n",
    "        self.capacity = capacity\n",
    "        self.count = 0\n",
    "\n",
    "    def getParentIndex(self,index):\n",
    "        return (index-1)//2\n",
    "\n",
    "    def getLeftChildIndex(self,index):\n",
    "        return 2*index + 1\n",
    "\n",
    "    def getRightChildIndex(self,index):\n",
    "        return 2*index + 2\n",
    "\n",
    "    def hasParent(self,index):\n",
    "        return self.getParentIndex(index) >= 0\n",
    "\n",
    "    def hasLeftChild(self,index):\n",
    "        return self.getLeftChildIndex(index) < self.count\n",
    "\n",
    "    def hasRightChild(self,index):\n",
    "        return self.getRightChildIndex(index) < self.count\n",
    "\n",
    "    def parent(self,index):\n",
    "        return self.array[self.getParentIndex(index)]\n",
    "\n",
    "    def leftChild(self,index):\n",
    "        return self.array[self.getLeftChildIndex(index)]\n",
    "\n",
    "    def rightChild(self,index):\n",
    "        return self.array[self.getRightChildIndex(index)]\n",
    "\n",
    "    def isFull(self):\n",
    "        return self.count == self.capacity\n",
    "\n",
    "    def swap(self,index1,index2):\n",
    "        self.array[index1],self.array[index2] = self.array[index2],self.array[index1] \n",
    "\n",
    "    def insert(self,data):\n",
    "        if self.isFull():\n",
    "            raise(\"heap is Full\")\n",
    "\n",
    "        self.array[self.count] = data\n",
    "        self.count += 1\n",
    "        self.heapifyUp()\n",
    "\n",
    "    def heapifyUp(self):\n",
    "        index = self.count - 1\n",
    "        while self.hasParent(index) and self.parent(index) > self.array[index]:\n",
    "            self.swap(index,self.getParentIndex(index))\n",
    "\n",
    "    def Remove(self):\n",
    "        if self.count == 0:\n",
    "            raise('Heap is Empty')\n",
    "        data = self.array[0]\n",
    "        self.array[0] = self.array[self.count-1]\n",
    "        self.count -= 1\n",
    "        self.heapifyDown()\n",
    "        return data\n",
    "\n",
    "    def heapifyDown(self):\n",
    "        index = 0\n",
    "        while self.hasLeftChild(index):\n",
    "            smallerChildIndex = self.getLeftChildIndex(index)\n",
    "            if(self.hasRightChild(index) & self.rightChild(index) < self.leftChild(index)):\n",
    "                smallerChildIndex = self.getRightChildIndex(index)\n",
    "            if self.array[index] < self.array[smallerChildIndex] :\n",
    "                break\n",
    "            else:\n",
    "                self.swap(index,smallerChildIndex)\n",
    "            index = smallerChildIndex"
   ]
  },
  {
   "cell_type": "code",
   "execution_count": 52,
   "metadata": {},
   "outputs": [],
   "source": [
    "mh1 = MinHeap(7)\n",
    "mh1.insert(5)\n",
    "mh1.insert(30)\n",
    "mh1.insert(2)\n",
    "mh1.insert(10)\n",
    "mh1.insert(3)\n",
    "mh1.insert(1)\n"
   ]
  },
  {
   "cell_type": "code",
   "execution_count": 53,
   "metadata": {},
   "outputs": [
    {
     "data": {
      "text/plain": [
       "False"
      ]
     },
     "execution_count": 53,
     "metadata": {},
     "output_type": "execute_result"
    }
   ],
   "source": [
    "mh1.isFull()"
   ]
  },
  {
   "cell_type": "code",
   "execution_count": 54,
   "metadata": {},
   "outputs": [
    {
     "data": {
      "text/plain": [
       "[2, 3, 1, 30, 10, 5, 0]"
      ]
     },
     "execution_count": 54,
     "metadata": {},
     "output_type": "execute_result"
    }
   ],
   "source": [
    "mh1.array"
   ]
  },
  {
   "cell_type": "code",
   "execution_count": 40,
   "metadata": {},
   "outputs": [],
   "source": [
    "array = [1,12,33,44,56,16,27,38,4]\n",
    "count = len(array)\n",
    "\n",
    "def swap(index1,index2):\n",
    "        array[index1],array[index2]  = array[index2],array[index1]\n",
    "\n",
    "def heapifyUp():\n",
    "        index = count - 1\n",
    "        if array[getParentIndex(index)] > array[index]:\n",
    "            swap(index,getParentIndex(index))\n",
    "\n",
    "def getParentIndex(index):\n",
    "        return (index-1)//2\n",
    "\n"
   ]
  },
  {
   "cell_type": "code",
   "execution_count": 41,
   "metadata": {},
   "outputs": [],
   "source": [
    "heapifyUp()"
   ]
  },
  {
   "cell_type": "code",
   "execution_count": 42,
   "metadata": {},
   "outputs": [
    {
     "data": {
      "text/plain": [
       "[1, 12, 33, 4, 56, 16, 27, 38, 44]"
      ]
     },
     "execution_count": 42,
     "metadata": {},
     "output_type": "execute_result"
    }
   ],
   "source": [
    "array"
   ]
  }
 ],
 "metadata": {
  "kernelspec": {
   "display_name": "Python 3.9.12 ('base')",
   "language": "python",
   "name": "python3"
  },
  "language_info": {
   "codemirror_mode": {
    "name": "ipython",
    "version": 3
   },
   "file_extension": ".py",
   "mimetype": "text/x-python",
   "name": "python",
   "nbconvert_exporter": "python",
   "pygments_lexer": "ipython3",
   "version": "3.9.12"
  },
  "orig_nbformat": 4,
  "vscode": {
   "interpreter": {
    "hash": "ff4f85d6e04298634172ac5d8264e7e9b556b95639fe52ebb9425c4d4cba0c9c"
   }
  }
 },
 "nbformat": 4,
 "nbformat_minor": 2
}
