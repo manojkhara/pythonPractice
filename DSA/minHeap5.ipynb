{
 "cells": [
  {
   "cell_type": "code",
   "execution_count": 2,
   "metadata": {},
   "outputs": [],
   "source": []
  },
  {
   "cell_type": "code",
   "execution_count": 3,
   "metadata": {},
   "outputs": [
    {
     "ename": "UnboundLocalError",
     "evalue": "local variable 'count' referenced before assignment",
     "output_type": "error",
     "traceback": [
      "\u001b[1;31m---------------------------------------------------------------------------\u001b[0m",
      "\u001b[1;31mUnboundLocalError\u001b[0m                         Traceback (most recent call last)",
      "\u001b[1;32mc:\\AnacondaCodes\\2 Python_practice\\DSA\\minHeap5.ipynb Cell 2\u001b[0m in \u001b[0;36m<cell line: 1>\u001b[1;34m()\u001b[0m\n\u001b[1;32m----> <a href='vscode-notebook-cell:/c%3A/AnacondaCodes/2%20Python_practice/DSA/minHeap5.ipynb#W1sZmlsZQ%3D%3D?line=0'>1</a>\u001b[0m insert(\u001b[39m4\u001b[39;49m)\n",
      "\u001b[1;32mc:\\AnacondaCodes\\2 Python_practice\\DSA\\minHeap5.ipynb Cell 2\u001b[0m in \u001b[0;36minsert\u001b[1;34m(data)\u001b[0m\n\u001b[0;32m     <a href='vscode-notebook-cell:/c%3A/AnacondaCodes/2%20Python_practice/DSA/minHeap5.ipynb#W1sZmlsZQ%3D%3D?line=37'>38</a>\u001b[0m \u001b[39mif\u001b[39;00m isFull():\n\u001b[0;32m     <a href='vscode-notebook-cell:/c%3A/AnacondaCodes/2%20Python_practice/DSA/minHeap5.ipynb#W1sZmlsZQ%3D%3D?line=38'>39</a>\u001b[0m     \u001b[39mraise\u001b[39;00m(\u001b[39m\"\u001b[39m\u001b[39mheap is Full\u001b[39m\u001b[39m\"\u001b[39m)\n\u001b[1;32m---> <a href='vscode-notebook-cell:/c%3A/AnacondaCodes/2%20Python_practice/DSA/minHeap5.ipynb#W1sZmlsZQ%3D%3D?line=40'>41</a>\u001b[0m array[count] \u001b[39m=\u001b[39m data\n\u001b[0;32m     <a href='vscode-notebook-cell:/c%3A/AnacondaCodes/2%20Python_practice/DSA/minHeap5.ipynb#W1sZmlsZQ%3D%3D?line=41'>42</a>\u001b[0m count \u001b[39m+\u001b[39m\u001b[39m=\u001b[39m \u001b[39m1\u001b[39m\n\u001b[0;32m     <a href='vscode-notebook-cell:/c%3A/AnacondaCodes/2%20Python_practice/DSA/minHeap5.ipynb#W1sZmlsZQ%3D%3D?line=42'>43</a>\u001b[0m heapifyUp()\n",
      "\u001b[1;31mUnboundLocalError\u001b[0m: local variable 'count' referenced before assignment"
     ]
    }
   ],
   "source": [
    "insert(4)"
   ]
  },
  {
   "cell_type": "code",
   "execution_count": null,
   "metadata": {},
   "outputs": [],
   "source": []
  }
 ],
 "metadata": {
  "kernelspec": {
   "display_name": "Python 3.9.12 ('base')",
   "language": "python",
   "name": "python3"
  },
  "language_info": {
   "codemirror_mode": {
    "name": "ipython",
    "version": 3
   },
   "file_extension": ".py",
   "mimetype": "text/x-python",
   "name": "python",
   "nbconvert_exporter": "python",
   "pygments_lexer": "ipython3",
   "version": "3.9.12"
  },
  "orig_nbformat": 4,
  "vscode": {
   "interpreter": {
    "hash": "ff4f85d6e04298634172ac5d8264e7e9b556b95639fe52ebb9425c4d4cba0c9c"
   }
  }
 },
 "nbformat": 4,
 "nbformat_minor": 2
}
