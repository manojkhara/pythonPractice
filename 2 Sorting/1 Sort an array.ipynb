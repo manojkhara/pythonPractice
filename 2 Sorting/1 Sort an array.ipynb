{
 "cells": [
  {
   "cell_type": "code",
   "execution_count": 5,
   "id": "17f1db93",
   "metadata": {},
   "outputs": [],
   "source": [
    "array = [7,4,9,2,8,0,3]\n",
    "#sorted array = [0,2,3,4,7, 8, 9]"
   ]
  },
  {
   "cell_type": "code",
   "execution_count": 5,
   "id": "565dd390",
   "metadata": {},
   "outputs": [
    {
     "name": "stdout",
     "output_type": "stream",
     "text": [
      "[0, 2, 3, 4, 7, 8, 9]\n"
     ]
    }
   ],
   "source": [
    "# Recursive insertion Sort\n",
    "\n",
    "def insertion(arr,temp):\n",
    "    \n",
    "    if len(arr)==0 or arr[len(arr)-1] <= temp:\n",
    "        arr.append(temp)\n",
    "        return\n",
    "    \n",
    "    x = arr.pop()\n",
    "    insertion(arr,temp)\n",
    "    arr.append(x)\n",
    "\n",
    "\n",
    "def SortAnArray(arr):\n",
    "    if len(arr)<=1:\n",
    "        return\n",
    "    \n",
    "    temp = arr.pop()\n",
    "    SortAnArray(arr)\n",
    "    insertion(arr,temp)\n",
    "    \n",
    "    \n",
    "    \n",
    "array = [7,4,9,2,8,0,3]\n",
    "SortAnArray(array)\n",
    "print(array)\n",
    "    \n",
    "    "
   ]
  },
  {
   "cell_type": "code",
   "execution_count": 6,
   "id": "9d353fb6",
   "metadata": {},
   "outputs": [
    {
     "name": "stdout",
     "output_type": "stream",
     "text": [
      "[7, 9, 8, 8, 3, 3, 0]\n"
     ]
    }
   ],
   "source": [
    "# iterative sort\n",
    "array = [7,4,9,2,8,0,3]\n",
    "for i in range(len(array)):\n",
    "    temp = array[i]\n",
    "    \n",
    "    for j in range(1,len(array)):\n",
    "        \n",
    "        if temp>array[j]:\n",
    "            \n",
    "\n",
    "        "
   ]
  },
  {
   "cell_type": "code",
   "execution_count": null,
   "id": "b7b5b57e",
   "metadata": {},
   "outputs": [],
   "source": []
  }
 ],
 "metadata": {
  "kernelspec": {
   "display_name": "Python 3",
   "language": "python",
   "name": "python3"
  },
  "language_info": {
   "codemirror_mode": {
    "name": "ipython",
    "version": 3
   },
   "file_extension": ".py",
   "mimetype": "text/x-python",
   "name": "python",
   "nbconvert_exporter": "python",
   "pygments_lexer": "ipython3",
   "version": "3.8.8"
  }
 },
 "nbformat": 4,
 "nbformat_minor": 5
}
